{
 "cells": [
  {
   "cell_type": "code",
   "execution_count": 1,
   "id": "b431f951",
   "metadata": {},
   "outputs": [],
   "source": [
    "# Import our dependencies\n",
    "import numpy as np\n",
    "import matplotlib.pyplot as plt\n",
    "import pandas as pd\n",
    "import math\n",
    "from keras.models import Sequential\n",
    "from keras.layers import Dense, LSTM\n",
    "from sklearn.preprocessing import MinMaxScaler\n",
    "from sklearn.metrics import mean_squared_error\n",
    "\n",
    "# Fix a random seed so the data can be reproduced\n",
    "np.random.seed(24)\n",
    "\n",
    "# Upload and read the csv files\n",
    "ais_df = pd.read_csv(\"ml_data_daily_2018.csv\", index_col=0)"
   ]
  },
  {
   "cell_type": "code",
   "execution_count": 2,
   "id": "fa959ae4",
   "metadata": {
    "scrolled": true
   },
   "outputs": [
    {
     "data": {
      "text/html": [
       "<div>\n",
       "<style scoped>\n",
       "    .dataframe tbody tr th:only-of-type {\n",
       "        vertical-align: middle;\n",
       "    }\n",
       "\n",
       "    .dataframe tbody tr th {\n",
       "        vertical-align: top;\n",
       "    }\n",
       "\n",
       "    .dataframe thead th {\n",
       "        text-align: right;\n",
       "    }\n",
       "</style>\n",
       "<table border=\"1\" class=\"dataframe\">\n",
       "  <thead>\n",
       "    <tr style=\"text-align: right;\">\n",
       "      <th></th>\n",
       "      <th>Fishing</th>\n",
       "      <th>TugTow</th>\n",
       "      <th>Recreational</th>\n",
       "      <th>Passenger</th>\n",
       "      <th>Cargo</th>\n",
       "      <th>Tanker</th>\n",
       "      <th>Other</th>\n",
       "      <th>Unavailable</th>\n",
       "    </tr>\n",
       "  </thead>\n",
       "  <tbody>\n",
       "    <tr>\n",
       "      <th>2018/01/01</th>\n",
       "      <td>9</td>\n",
       "      <td>37</td>\n",
       "      <td>145</td>\n",
       "      <td>44</td>\n",
       "      <td>27</td>\n",
       "      <td>13</td>\n",
       "      <td>12</td>\n",
       "      <td>7</td>\n",
       "    </tr>\n",
       "    <tr>\n",
       "      <th>2018/01/02</th>\n",
       "      <td>13</td>\n",
       "      <td>45</td>\n",
       "      <td>119</td>\n",
       "      <td>41</td>\n",
       "      <td>27</td>\n",
       "      <td>14</td>\n",
       "      <td>19</td>\n",
       "      <td>10</td>\n",
       "    </tr>\n",
       "    <tr>\n",
       "      <th>2018/01/03</th>\n",
       "      <td>13</td>\n",
       "      <td>44</td>\n",
       "      <td>106</td>\n",
       "      <td>40</td>\n",
       "      <td>36</td>\n",
       "      <td>14</td>\n",
       "      <td>20</td>\n",
       "      <td>11</td>\n",
       "    </tr>\n",
       "    <tr>\n",
       "      <th>2018/01/04</th>\n",
       "      <td>15</td>\n",
       "      <td>44</td>\n",
       "      <td>103</td>\n",
       "      <td>45</td>\n",
       "      <td>30</td>\n",
       "      <td>10</td>\n",
       "      <td>15</td>\n",
       "      <td>12</td>\n",
       "    </tr>\n",
       "    <tr>\n",
       "      <th>2018/01/05</th>\n",
       "      <td>10</td>\n",
       "      <td>45</td>\n",
       "      <td>107</td>\n",
       "      <td>41</td>\n",
       "      <td>26</td>\n",
       "      <td>13</td>\n",
       "      <td>21</td>\n",
       "      <td>10</td>\n",
       "    </tr>\n",
       "  </tbody>\n",
       "</table>\n",
       "</div>"
      ],
      "text/plain": [
       "            Fishing  TugTow  Recreational  Passenger  Cargo  Tanker  Other  \\\n",
       "2018/01/01        9      37           145         44     27      13     12   \n",
       "2018/01/02       13      45           119         41     27      14     19   \n",
       "2018/01/03       13      44           106         40     36      14     20   \n",
       "2018/01/04       15      44           103         45     30      10     15   \n",
       "2018/01/05       10      45           107         41     26      13     21   \n",
       "\n",
       "            Unavailable  \n",
       "2018/01/01            7  \n",
       "2018/01/02           10  \n",
       "2018/01/03           11  \n",
       "2018/01/04           12  \n",
       "2018/01/05           10  "
      ]
     },
     "execution_count": 2,
     "metadata": {},
     "output_type": "execute_result"
    }
   ],
   "source": [
    "# Look at our data\n",
    "ais_df.head()"
   ]
  },
  {
   "cell_type": "code",
   "execution_count": 3,
   "id": "1455e23e",
   "metadata": {
    "scrolled": true
   },
   "outputs": [
    {
     "data": {
      "text/html": [
       "<div>\n",
       "<style scoped>\n",
       "    .dataframe tbody tr th:only-of-type {\n",
       "        vertical-align: middle;\n",
       "    }\n",
       "\n",
       "    .dataframe tbody tr th {\n",
       "        vertical-align: top;\n",
       "    }\n",
       "\n",
       "    .dataframe thead th {\n",
       "        text-align: right;\n",
       "    }\n",
       "</style>\n",
       "<table border=\"1\" class=\"dataframe\">\n",
       "  <thead>\n",
       "    <tr style=\"text-align: right;\">\n",
       "      <th></th>\n",
       "      <th>Fishing</th>\n",
       "      <th>TugTow</th>\n",
       "      <th>Recreational</th>\n",
       "      <th>Passenger</th>\n",
       "      <th>Cargo</th>\n",
       "      <th>Tanker</th>\n",
       "      <th>Other</th>\n",
       "      <th>Unavailable</th>\n",
       "      <th>Total</th>\n",
       "    </tr>\n",
       "  </thead>\n",
       "  <tbody>\n",
       "    <tr>\n",
       "      <th>2018/01/01</th>\n",
       "      <td>9</td>\n",
       "      <td>37</td>\n",
       "      <td>145</td>\n",
       "      <td>44</td>\n",
       "      <td>27</td>\n",
       "      <td>13</td>\n",
       "      <td>12</td>\n",
       "      <td>7</td>\n",
       "      <td>294</td>\n",
       "    </tr>\n",
       "    <tr>\n",
       "      <th>2018/01/02</th>\n",
       "      <td>13</td>\n",
       "      <td>45</td>\n",
       "      <td>119</td>\n",
       "      <td>41</td>\n",
       "      <td>27</td>\n",
       "      <td>14</td>\n",
       "      <td>19</td>\n",
       "      <td>10</td>\n",
       "      <td>288</td>\n",
       "    </tr>\n",
       "    <tr>\n",
       "      <th>2018/01/03</th>\n",
       "      <td>13</td>\n",
       "      <td>44</td>\n",
       "      <td>106</td>\n",
       "      <td>40</td>\n",
       "      <td>36</td>\n",
       "      <td>14</td>\n",
       "      <td>20</td>\n",
       "      <td>11</td>\n",
       "      <td>284</td>\n",
       "    </tr>\n",
       "    <tr>\n",
       "      <th>2018/01/04</th>\n",
       "      <td>15</td>\n",
       "      <td>44</td>\n",
       "      <td>103</td>\n",
       "      <td>45</td>\n",
       "      <td>30</td>\n",
       "      <td>10</td>\n",
       "      <td>15</td>\n",
       "      <td>12</td>\n",
       "      <td>274</td>\n",
       "    </tr>\n",
       "    <tr>\n",
       "      <th>2018/01/05</th>\n",
       "      <td>10</td>\n",
       "      <td>45</td>\n",
       "      <td>107</td>\n",
       "      <td>41</td>\n",
       "      <td>26</td>\n",
       "      <td>13</td>\n",
       "      <td>21</td>\n",
       "      <td>10</td>\n",
       "      <td>273</td>\n",
       "    </tr>\n",
       "  </tbody>\n",
       "</table>\n",
       "</div>"
      ],
      "text/plain": [
       "            Fishing  TugTow  Recreational  Passenger  Cargo  Tanker  Other  \\\n",
       "2018/01/01        9      37           145         44     27      13     12   \n",
       "2018/01/02       13      45           119         41     27      14     19   \n",
       "2018/01/03       13      44           106         40     36      14     20   \n",
       "2018/01/04       15      44           103         45     30      10     15   \n",
       "2018/01/05       10      45           107         41     26      13     21   \n",
       "\n",
       "            Unavailable  Total  \n",
       "2018/01/01            7    294  \n",
       "2018/01/02           10    288  \n",
       "2018/01/03           11    284  \n",
       "2018/01/04           12    274  \n",
       "2018/01/05           10    273  "
      ]
     },
     "execution_count": 3,
     "metadata": {},
     "output_type": "execute_result"
    }
   ],
   "source": [
    "# Creating a total column for our data\n",
    "ais_df['Total']= ais_df.sum(numeric_only=True, axis=1)\n",
    "ais_df.head()"
   ]
  },
  {
   "cell_type": "code",
   "execution_count": 4,
   "id": "6ba0f154",
   "metadata": {},
   "outputs": [
    {
     "name": "stdout",
     "output_type": "stream",
     "text": [
      "<class 'pandas.core.frame.DataFrame'>\n",
      "Index: 365 entries, 2018/01/01 to 2018/12/31\n",
      "Data columns (total 9 columns):\n",
      " #   Column        Non-Null Count  Dtype\n",
      "---  ------        --------------  -----\n",
      " 0   Fishing       365 non-null    int64\n",
      " 1   TugTow        365 non-null    int64\n",
      " 2   Recreational  365 non-null    int64\n",
      " 3   Passenger     365 non-null    int64\n",
      " 4   Cargo         365 non-null    int64\n",
      " 5   Tanker        365 non-null    int64\n",
      " 6   Other         365 non-null    int64\n",
      " 7   Unavailable   365 non-null    int64\n",
      " 8   Total         365 non-null    int64\n",
      "dtypes: int64(9)\n",
      "memory usage: 28.5+ KB\n"
     ]
    }
   ],
   "source": [
    "# And then check the type\n",
    "ais_df.info()"
   ]
  },
  {
   "cell_type": "code",
   "execution_count": 5,
   "id": "17356cb5",
   "metadata": {},
   "outputs": [],
   "source": [
    "# Create nine DataFrames, each with the Date and one unique column:\n",
    "\n",
    "# Fishing\n",
    "ais_fishing_df = ais_df.loc[:, ['Fishing']]\n",
    "\n",
    "# TugTow\n",
    "ais_tugtow_df = ais_df.loc[:, ['TugTow']]\n",
    "\n",
    "# Recreational\n",
    "ais_recreational_df = ais_df.loc[:, ['Recreational']]\n",
    "\n",
    "# Passenger\n",
    "ais_passenger_df = ais_df.loc[:, ['Passenger']]\n",
    "\n",
    "# Cargo\n",
    "ais_cargo_df = ais_df.loc[:, ['Cargo']]\n",
    "\n",
    "# Tanker\n",
    "ais_tanker_df = ais_df.loc[:, ['Tanker']]\n",
    "\n",
    "# Other\n",
    "ais_other_df = ais_df.loc[:, ['Other']]\n",
    "\n",
    "# Unavailable\n",
    "ais_unavailable_df = ais_df.loc[:, ['Unavailable']]\n",
    "\n",
    "# Total\n",
    "ais_total_df = ais_df.loc[:, ['Total']]"
   ]
  },
  {
   "cell_type": "code",
   "execution_count": 6,
   "id": "e90a3719",
   "metadata": {},
   "outputs": [
    {
     "data": {
      "image/png": "[encoded data removed]",
      "text/plain": [
       "<Figure size 432x288 with 1 Axes>"
      ]
     },
     "metadata": {
      "needs_background": "light"
     },
     "output_type": "display_data"
    }
   ],
   "source": [
    "plt.plot(ais_fishing_df)\n",
    "plt.show()"
   ]
  },
  {
   "cell_type": "code",
   "execution_count": 7,
   "id": "19802b9c",
   "metadata": {},
   "outputs": [],
   "source": [
    "# From here, the code is heavily inspired by the code found on this site:\n",
    "# https://machinelearningmastery.com/time-series-prediction-lstm-recurrent-neural-networks-python-keras/"
   ]
  },
  {
   "cell_type": "code",
   "execution_count": 8,
   "id": "e17608de",
   "metadata": {},
   "outputs": [],
   "source": [
    "# Convert the nine DataFrames into an arrays, and change the type to floats for the Neural Network\n",
    "\n",
    "# Fishing\n",
    "fishing = ais_fishing_df.values\n",
    "fishing = fishing.astype('float32')\n",
    "\n",
    "# TugTow\n",
    "tugtow = ais_tugtow_df.values\n",
    "tugtow = tugtow.astype('float32')\n",
    "\n",
    "# Recreational\n",
    "recreational = ais_recreational_df.values\n",
    "recreational = recreational.astype('float32')\n",
    "\n",
    "# Passenger\n",
    "passenger = ais_passenger_df.values\n",
    "passenger = passenger.astype('float32')\n",
    "\n",
    "# Cargo\n",
    "cargo = ais_cargo_df.values\n",
    "cargo = cargo.astype('float32')\n",
    "\n",
    "# Tanker\n",
    "tanker = ais_tanker_df.values\n",
    "tanker = tanker.astype('float32')\n",
    "\n",
    "# Other\n",
    "other = ais_other_df.values\n",
    "other = other.astype('float32')\n",
    "\n",
    "# Unavailable\n",
    "unavailable = ais_unavailable_df.values\n",
    "unavailable = unavailable.astype('float32')\n",
    "\n",
    "# Total\n",
    "total = ais_total_df.values\n",
    "total = total.astype('float32')"
   ]
  },
  {
   "cell_type": "code",
   "execution_count": 9,
   "id": "86df82cc",
   "metadata": {},
   "outputs": [],
   "source": [
    "# Normalize the data by using a scaler\n",
    "scaler = MinMaxScaler(feature_range=(0, 1))\n",
    "\n",
    "# Fishing\n",
    "fishing = scaler.fit_transform(fishing)\n",
    "\n",
    "# Tugtow\n",
    "tugtow = scaler.fit_transform(tugtow)\n",
    "\n",
    "# Recreational\n",
    "recreational = scaler.fit_transform(recreational)\n",
    "\n",
    "# Passenger\n",
    "passenger = scaler.fit_transform(passenger)\n",
    "\n",
    "# Cargo\n",
    "cargo = scaler.fit_transform(cargo)\n",
    "\n",
    "# Tanker\n",
    "tanker = scaler.fit_transform(tanker)\n",
    "\n",
    "# Other\n",
    "other = scaler.fit_transform(other)\n",
    "\n",
    "# Unavailable\n",
    "unavailable = scaler.fit_transform(unavailable)\n",
    "\n",
    "# Total\n",
    "total = scaler.fit_transform(total)"
   ]
  },
  {
   "cell_type": "code",
   "execution_count": 10,
   "id": "73a5382f",
   "metadata": {},
   "outputs": [],
   "source": [
    "# Create a function that allows the testing/training data to be split into X and Y\n",
    "# by converting the values of the dataset into a matrix\n",
    "def create_dataset(dataset, look_back=1):\n",
    "    dataX, dataY = [], []\n",
    "    for i in range(len(dataset)-look_back-1):\n",
    "        a = dataset[i:(i+look_back), 0]\n",
    "        dataX.append(a)\n",
    "        dataY.append(dataset[i + look_back, 0])\n",
    "    return np.array(dataX), np.array(dataY)"
   ]
  },
  {
   "cell_type": "code",
   "execution_count": 11,
   "id": "d2c7d89b",
   "metadata": {},
   "outputs": [],
   "source": [
    "# Define the number of days we are going to look into the past to compare data as look_back. \n",
    "look_back = 1"
   ]
  },
  {
   "cell_type": "markdown",
   "id": "0a8bc141",
   "metadata": {},
   "source": [
    "### Fishing"
   ]
  },
  {
   "cell_type": "code",
   "execution_count": 12,
   "id": "d31a5f56",
   "metadata": {},
   "outputs": [
    {
     "name": "stdout",
     "output_type": "stream",
     "text": [
      "244 121\n"
     ]
    }
   ],
   "source": [
    "# Split our data into training and testing using slicing, and check the length\n",
    "\n",
    "train_size_fish = int(len(fishing) * 0.67)\n",
    "test_size_fish = len(fishing) - train_size_fish\n",
    "train_fish, test_fish = fishing[0:train_size_fish,:], fishing[train_size_fish:len(total),:]\n",
    "print(len(train_fish), len(test_fish))"
   ]
  },
  {
   "cell_type": "code",
   "execution_count": 13,
   "id": "6c8d5012",
   "metadata": {},
   "outputs": [],
   "source": [
    "# Reshape the values into X=t and Y=t+1\n",
    "trainX_fish, trainY_fish = create_dataset(train_fish, look_back)\n",
    "testX_fish, testY_fish = create_dataset(test_fish, look_back)"
   ]
  },
  {
   "cell_type": "code",
   "execution_count": 14,
   "id": "d28928b0",
   "metadata": {},
   "outputs": [],
   "source": [
    "# Reshape the data to incorperate into the LSTM \n",
    "trainX_fish = np.reshape(trainX_fish, (trainX_fish.shape[0], 1, trainX_fish.shape[1]))\n",
    "testX_fish = np.reshape(testX_fish, (testX_fish.shape[0], 1, testX_fish.shape[1]))"
   ]
  },
  {
   "cell_type": "code",
   "execution_count": 15,
   "id": "35c4fbd1",
   "metadata": {},
   "outputs": [],
   "source": [
    "# create and fit the LSTM network\n",
    "model_fish = Sequential()\n",
    "model_fish.add(LSTM(4, input_shape=(1, look_back)))\n",
    "model_fish.add(Dense(1))"
   ]
  },
  {
   "cell_type": "code",
   "execution_count": 16,
   "id": "57a8a326",
   "metadata": {},
   "outputs": [
    {
     "name": "stdout",
     "output_type": "stream",
     "text": [
      "Model: \"sequential\"\n",
      "_________________________________________________________________\n",
      " Layer (type)                Output Shape              Param #   \n",
      "=================================================================\n",
      " lstm (LSTM)                 (None, 4)                 96        \n",
      "                                                                 \n",
      " dense (Dense)               (None, 1)                 5         \n",
      "                                                                 \n",
      "=================================================================\n",
      "Total params: 101\n",
      "Trainable params: 101\n",
      "Non-trainable params: 0\n",
      "_________________________________________________________________\n"
     ]
    }
   ],
   "source": [
    "# Check the summary of the model\n",
    "model_fish.summary()"
   ]
  },
  {
   "cell_type": "code",
   "execution_count": 17,
   "id": "940d12bf",
   "metadata": {},
   "outputs": [],
   "source": [
    "# Compile the model\n",
    "model_fish.compile(loss='mean_squared_error', optimizer='adam')"
   ]
  },
  {
   "cell_type": "code",
   "execution_count": 18,
   "id": "47b34601",
   "metadata": {},
   "outputs": [
    {
     "name": "stdout",
     "output_type": "stream",
     "text": [
      "Epoch 1/100\n",
      "242/242 - 1s - loss: 0.1026 - 1s/epoch - 5ms/step\n",
      "Epoch 2/100\n",
      "242/242 - 0s - loss: 0.0262 - 242ms/epoch - 1ms/step\n",
      "Epoch 3/100\n",
      "242/242 - 0s - loss: 0.0230 - 235ms/epoch - 972us/step\n",
      "Epoch 4/100\n",
      "242/242 - 0s - loss: 0.0222 - 224ms/epoch - 927us/step\n",
      "Epoch 5/100\n",
      "242/242 - 0s - loss: 0.0214 - 231ms/epoch - 955us/step\n",
      "Epoch 6/100\n",
      "242/242 - 0s - loss: 0.0206 - 228ms/epoch - 944us/step\n",
      "Epoch 7/100\n",
      "242/242 - 0s - loss: 0.0201 - 227ms/epoch - 938us/step\n",
      "Epoch 8/100\n",
      "242/242 - 0s - loss: 0.0195 - 230ms/epoch - 951us/step\n",
      "Epoch 9/100\n",
      "242/242 - 0s - loss: 0.0190 - 233ms/epoch - 962us/step\n",
      "Epoch 10/100\n",
      "242/242 - 0s - loss: 0.0187 - 229ms/epoch - 948us/step\n",
      "Epoch 11/100\n",
      "242/242 - 0s - loss: 0.0183 - 234ms/epoch - 968us/step\n",
      "Epoch 12/100\n",
      "242/242 - 0s - loss: 0.0181 - 241ms/epoch - 998us/step\n",
      "Epoch 13/100\n",
      "242/242 - 0s - loss: 0.0180 - 239ms/epoch - 989us/step\n",
      "Epoch 14/100\n",
      "242/242 - 0s - loss: 0.0176 - 241ms/epoch - 997us/step\n",
      "Epoch 15/100\n",
      "242/242 - 0s - loss: 0.0175 - 236ms/epoch - 975us/step\n",
      "Epoch 16/100\n",
      "242/242 - 0s - loss: 0.0175 - 248ms/epoch - 1ms/step\n",
      "Epoch 17/100\n",
      "242/242 - 0s - loss: 0.0175 - 239ms/epoch - 987us/step\n",
      "Epoch 18/100\n",
      "242/242 - 0s - loss: 0.0175 - 243ms/epoch - 1ms/step\n",
      "Epoch 19/100\n",
      "242/242 - 0s - loss: 0.0173 - 246ms/epoch - 1ms/step\n",
      "Epoch 20/100\n",
      "242/242 - 0s - loss: 0.0174 - 236ms/epoch - 976us/step\n",
      "Epoch 21/100\n",
      "242/242 - 0s - loss: 0.0173 - 241ms/epoch - 997us/step\n",
      "Epoch 22/100\n",
      "242/242 - 0s - loss: 0.0174 - 248ms/epoch - 1ms/step\n",
      "Epoch 23/100\n",
      "242/242 - 0s - loss: 0.0172 - 218ms/epoch - 903us/step\n",
      "Epoch 24/100\n",
      "242/242 - 0s - loss: 0.0173 - 242ms/epoch - 998us/step\n",
      "Epoch 25/100\n",
      "242/242 - 0s - loss: 0.0173 - 238ms/epoch - 985us/step\n",
      "Epoch 26/100\n",
      "242/242 - 0s - loss: 0.0176 - 233ms/epoch - 963us/step\n",
      "Epoch 27/100\n",
      "242/242 - 0s - loss: 0.0173 - 235ms/epoch - 970us/step\n",
      "Epoch 28/100\n",
      "242/242 - 0s - loss: 0.0173 - 240ms/epoch - 993us/step\n",
      "Epoch 29/100\n",
      "242/242 - 0s - loss: 0.0169 - 238ms/epoch - 985us/step\n",
      "Epoch 30/100\n",
      "242/242 - 0s - loss: 0.0172 - 264ms/epoch - 1ms/step\n",
      "Epoch 31/100\n",
      "242/242 - 0s - loss: 0.0173 - 261ms/epoch - 1ms/step\n",
      "Epoch 32/100\n",
      "242/242 - 0s - loss: 0.0173 - 255ms/epoch - 1ms/step\n",
      "Epoch 33/100\n",
      "242/242 - 0s - loss: 0.0174 - 263ms/epoch - 1ms/step\n",
      "Epoch 34/100\n",
      "242/242 - 0s - loss: 0.0173 - 275ms/epoch - 1ms/step\n",
      "Epoch 35/100\n",
      "242/242 - 0s - loss: 0.0173 - 250ms/epoch - 1ms/step\n",
      "Epoch 36/100\n",
      "242/242 - 0s - loss: 0.0172 - 241ms/epoch - 997us/step\n",
      "Epoch 37/100\n",
      "242/242 - 0s - loss: 0.0174 - 235ms/epoch - 971us/step\n",
      "Epoch 38/100\n",
      "242/242 - 0s - loss: 0.0173 - 233ms/epoch - 964us/step\n",
      "Epoch 39/100\n",
      "242/242 - 0s - loss: 0.0170 - 225ms/epoch - 930us/step\n",
      "Epoch 40/100\n",
      "242/242 - 0s - loss: 0.0172 - 222ms/epoch - 919us/step\n",
      "Epoch 41/100\n",
      "242/242 - 0s - loss: 0.0171 - 235ms/epoch - 973us/step\n",
      "Epoch 42/100\n",
      "242/242 - 0s - loss: 0.0174 - 224ms/epoch - 927us/step\n",
      "Epoch 43/100\n",
      "242/242 - 0s - loss: 0.0172 - 239ms/epoch - 986us/step\n",
      "Epoch 44/100\n",
      "242/242 - 0s - loss: 0.0173 - 248ms/epoch - 1ms/step\n",
      "Epoch 45/100\n",
      "242/242 - 0s - loss: 0.0172 - 262ms/epoch - 1ms/step\n",
      "Epoch 46/100\n",
      "242/242 - 0s - loss: 0.0175 - 279ms/epoch - 1ms/step\n",
      "Epoch 47/100\n",
      "242/242 - 0s - loss: 0.0171 - 266ms/epoch - 1ms/step\n",
      "Epoch 48/100\n",
      "242/242 - 0s - loss: 0.0173 - 243ms/epoch - 1ms/step\n",
      "Epoch 49/100\n",
      "242/242 - 0s - loss: 0.0173 - 242ms/epoch - 1000us/step\n",
      "Epoch 50/100\n",
      "242/242 - 0s - loss: 0.0172 - 234ms/epoch - 968us/step\n",
      "Epoch 51/100\n",
      "242/242 - 0s - loss: 0.0173 - 240ms/epoch - 993us/step\n",
      "Epoch 52/100\n",
      "242/242 - 0s - loss: 0.0172 - 235ms/epoch - 971us/step\n",
      "Epoch 53/100\n",
      "242/242 - 0s - loss: 0.0172 - 252ms/epoch - 1ms/step\n",
      "Epoch 54/100\n",
      "242/242 - 0s - loss: 0.0173 - 238ms/epoch - 982us/step\n",
      "Epoch 55/100\n",
      "242/242 - 0s - loss: 0.0172 - 234ms/epoch - 968us/step\n",
      "Epoch 56/100\n",
      "242/242 - 0s - loss: 0.0174 - 241ms/epoch - 994us/step\n",
      "Epoch 57/100\n",
      "242/242 - 0s - loss: 0.0172 - 241ms/epoch - 997us/step\n",
      "Epoch 58/100\n",
      "242/242 - 0s - loss: 0.0172 - 243ms/epoch - 1ms/step\n",
      "Epoch 59/100\n",
      "242/242 - 0s - loss: 0.0173 - 242ms/epoch - 1000us/step\n",
      "Epoch 60/100\n",
      "242/242 - 0s - loss: 0.0172 - 236ms/epoch - 976us/step\n",
      "Epoch 61/100\n",
      "242/242 - 0s - loss: 0.0174 - 234ms/epoch - 969us/step\n",
      "Epoch 62/100\n",
      "242/242 - 0s - loss: 0.0174 - 224ms/epoch - 924us/step\n",
      "Epoch 63/100\n",
      "242/242 - 0s - loss: 0.0173 - 225ms/epoch - 931us/step\n",
      "Epoch 64/100\n",
      "242/242 - 0s - loss: 0.0172 - 224ms/epoch - 924us/step\n",
      "Epoch 65/100\n",
      "242/242 - 0s - loss: 0.0172 - 228ms/epoch - 944us/step\n",
      "Epoch 66/100\n",
      "242/242 - 0s - loss: 0.0173 - 225ms/epoch - 931us/step\n",
      "Epoch 67/100\n",
      "242/242 - 0s - loss: 0.0173 - 220ms/epoch - 911us/step\n",
      "Epoch 68/100\n",
      "242/242 - 0s - loss: 0.0173 - 235ms/epoch - 969us/step\n",
      "Epoch 69/100\n",
      "242/242 - 0s - loss: 0.0168 - 239ms/epoch - 987us/step\n",
      "Epoch 70/100\n",
      "242/242 - 0s - loss: 0.0173 - 263ms/epoch - 1ms/step\n",
      "Epoch 71/100\n",
      "242/242 - 0s - loss: 0.0172 - 268ms/epoch - 1ms/step\n",
      "Epoch 72/100\n",
      "242/242 - 0s - loss: 0.0172 - 267ms/epoch - 1ms/step\n",
      "Epoch 73/100\n",
      "242/242 - 0s - loss: 0.0174 - 246ms/epoch - 1ms/step\n",
      "Epoch 74/100\n",
      "242/242 - 0s - loss: 0.0171 - 272ms/epoch - 1ms/step\n",
      "Epoch 75/100\n",
      "242/242 - 0s - loss: 0.0170 - 258ms/epoch - 1ms/step\n",
      "Epoch 76/100\n",
      "242/242 - 0s - loss: 0.0175 - 245ms/epoch - 1ms/step\n",
      "Epoch 77/100\n",
      "242/242 - 0s - loss: 0.0172 - 268ms/epoch - 1ms/step\n",
      "Epoch 78/100\n",
      "242/242 - 0s - loss: 0.0171 - 262ms/epoch - 1ms/step\n",
      "Epoch 79/100\n",
      "242/242 - 0s - loss: 0.0174 - 261ms/epoch - 1ms/step\n",
      "Epoch 80/100\n",
      "242/242 - 0s - loss: 0.0172 - 247ms/epoch - 1ms/step\n",
      "Epoch 81/100\n",
      "242/242 - 0s - loss: 0.0174 - 221ms/epoch - 913us/step\n",
      "Epoch 82/100\n",
      "242/242 - 0s - loss: 0.0172 - 227ms/epoch - 939us/step\n",
      "Epoch 83/100\n",
      "242/242 - 0s - loss: 0.0173 - 218ms/epoch - 903us/step\n",
      "Epoch 84/100\n",
      "242/242 - 0s - loss: 0.0173 - 225ms/epoch - 931us/step\n",
      "Epoch 85/100\n",
      "242/242 - 0s - loss: 0.0173 - 227ms/epoch - 940us/step\n",
      "Epoch 86/100\n",
      "242/242 - 0s - loss: 0.0173 - 226ms/epoch - 936us/step\n",
      "Epoch 87/100\n",
      "242/242 - 0s - loss: 0.0172 - 240ms/epoch - 993us/step\n",
      "Epoch 88/100\n",
      "242/242 - 0s - loss: 0.0172 - 217ms/epoch - 898us/step\n",
      "Epoch 89/100\n",
      "242/242 - 0s - loss: 0.0170 - 228ms/epoch - 944us/step\n",
      "Epoch 90/100\n",
      "242/242 - 0s - loss: 0.0173 - 231ms/epoch - 956us/step\n",
      "Epoch 91/100\n",
      "242/242 - 0s - loss: 0.0173 - 221ms/epoch - 915us/step\n",
      "Epoch 92/100\n",
      "242/242 - 0s - loss: 0.0169 - 228ms/epoch - 940us/step\n",
      "Epoch 93/100\n",
      "242/242 - 0s - loss: 0.0174 - 230ms/epoch - 950us/step\n",
      "Epoch 94/100\n",
      "242/242 - 0s - loss: 0.0173 - 231ms/epoch - 956us/step\n",
      "Epoch 95/100\n",
      "242/242 - 0s - loss: 0.0173 - 239ms/epoch - 986us/step\n",
      "Epoch 96/100\n",
      "242/242 - 0s - loss: 0.0172 - 235ms/epoch - 973us/step\n",
      "Epoch 97/100\n",
      "242/242 - 0s - loss: 0.0173 - 225ms/epoch - 931us/step\n",
      "Epoch 98/100\n",
      "242/242 - 0s - loss: 0.0172 - 222ms/epoch - 918us/step\n",
      "Epoch 99/100\n",
      "242/242 - 0s - loss: 0.0172 - 231ms/epoch - 956us/step\n",
      "Epoch 100/100\n",
      "242/242 - 0s - loss: 0.0172 - 235ms/epoch - 970us/step\n"
     ]
    }
   ],
   "source": [
    "# Train the model\n",
    "fit_model_fish = model_fish.fit(trainX_fish, trainY_fish, epochs=100, batch_size=1, verbose=2)"
   ]
  },
  {
   "cell_type": "code",
   "execution_count": 19,
   "id": "f6b16dad",
   "metadata": {
    "scrolled": true
   },
   "outputs": [
    {
     "name": "stdout",
     "output_type": "stream",
     "text": [
      "8/8 [==============================] - 0s 1ms/step\n",
      "4/4 [==============================] - 0s 2ms/step\n"
     ]
    }
   ],
   "source": [
    "# Make predictions\n",
    "trainPredict_fish = model_fish.predict(trainX_fish)\n",
    "testPredict_fish = model_fish.predict(testX_fish)"
   ]
  },
  {
   "cell_type": "code",
   "execution_count": 20,
   "id": "1d754fa5",
   "metadata": {},
   "outputs": [],
   "source": [
    "# Invert predictions\n",
    "trainPredict_fish = scaler.inverse_transform(trainPredict_fish)\n",
    "trainY_fish = scaler.inverse_transform([trainY_fish])\n",
    "testPredict_fish = scaler.inverse_transform(testPredict_fish)\n",
    "testY_fish = scaler.inverse_transform([testY_fish])"
   ]
  },
  {
   "cell_type": "code",
   "execution_count": 21,
   "id": "555906d6",
   "metadata": {},
   "outputs": [
    {
     "name": "stdout",
     "output_type": "stream",
     "text": [
      "Train Score: 32.70 RMSE\n",
      "Test Score: 32.89 RMSE\n"
     ]
    }
   ],
   "source": [
    "# Calculate root mean squared error\n",
    "trainScore_fish = math.sqrt(mean_squared_error(trainY_fish[0], trainPredict_fish[:,0]))\n",
    "print('Train Score: %.2f RMSE' % (trainScore_fish))\n",
    "testScore_fish = math.sqrt(mean_squared_error(testY_fish[0], testPredict_fish[:,0]))\n",
    "print('Test Score: %.2f RMSE' % (testScore_fish))"
   ]
  },
  {
   "cell_type": "code",
   "execution_count": 22,
   "id": "3a578b09",
   "metadata": {},
   "outputs": [
    {
     "data": {
      "image/png": "[encoded data removed]",
      "text/plain": [
       "<Figure size 432x288 with 1 Axes>"
      ]
     },
     "metadata": {
      "needs_background": "light"
     },
     "output_type": "display_data"
    }
   ],
   "source": [
    "# shift train predictions for plotting\n",
    "trainPredictPlot_fish = np.empty_like(fishing)\n",
    "trainPredictPlot_fish[:, :] = np.nan\n",
    "trainPredictPlot_fish[look_back:len(trainPredict_fish)+look_back, :] = trainPredict_fish\n",
    "# shift test predictions for plotting\n",
    "testPredictPlot_fish = np.empty_like(fishing)\n",
    "testPredictPlot_fish[:, :] = np.nan\n",
    "testPredictPlot_fish[len(trainPredict_fish)+(look_back*2)+1:len(fishing)-1, :] = testPredict_fish\n",
    "# plot baseline and predictions\n",
    "plt.plot(scaler.inverse_transform(fishing))\n",
    "plt.plot(trainPredictPlot_fish)\n",
    "plt.plot(testPredictPlot_fish)\n",
    "plt.show()"
   ]
  },
  {
   "cell_type": "markdown",
   "id": "e802b644",
   "metadata": {},
   "source": [
    "### TugTow"
   ]
  },
  {
   "cell_type": "code",
   "execution_count": 24,
   "id": "b7788fed",
   "metadata": {},
   "outputs": [
    {
     "name": "stdout",
     "output_type": "stream",
     "text": [
      "244 121\n"
     ]
    }
   ],
   "source": [
    "# Split our data into training and testing using slicing, and check the length\n",
    "\n",
    "train_size_tugtow = int(len(tugtow) * 0.67)\n",
    "test_size_tugtow = len(tugtow) - train_size_tugtow\n",
    "train_tugtow, test_tugtow = tugtow[0:train_size_tugtow,:], tugtow[train_size_tugtow:len(total),:]\n",
    "print(len(train_tugtow), len(test_tugtow))"
   ]
  },
  {
   "cell_type": "code",
   "execution_count": 25,
   "id": "4b3c0d34",
   "metadata": {},
   "outputs": [],
   "source": [
    "# Reshape the values into X=t and Y=t+1\n",
    "trainX_tugtow, trainY_tugtow = create_dataset(train_tugtow, look_back)\n",
    "testX_tugtow, testY_tugtow = create_dataset(test_tugtow, look_back)"
   ]
  },
  {
   "cell_type": "code",
   "execution_count": 26,
   "id": "a265b9e9",
   "metadata": {},
   "outputs": [],
   "source": [
    "# Reshape the values into X=t and Y=t+1\n",
    "trainX_tugtow, trainY_tugtow = create_dataset(train_tugtow, look_back)\n",
    "testX_tugtow, testY_tugtow = create_dataset(test_tugtow, look_back)"
   ]
  },
  {
   "cell_type": "code",
   "execution_count": 27,
   "id": "829ecef0",
   "metadata": {},
   "outputs": [],
   "source": [
    "# Reshape the data to incorperate into the LSTM \n",
    "trainX_tugtow = np.reshape(trainX_tugtow, (trainX_tugtow.shape[0], 1, trainX_tugtow.shape[1]))\n",
    "testX_tugtow = np.reshape(testX_tugtow, (testX_tugtow.shape[0], 1, testX_tugtow.shape[1]))"
   ]
  },
  {
   "cell_type": "code",
   "execution_count": 28,
   "id": "d8e4b79e",
   "metadata": {},
   "outputs": [],
   "source": [
    "# create and fit the LSTM network\n",
    "model_tugtow = Sequential()\n",
    "model_tugtow.add(LSTM(4, input_shape=(1, look_back)))\n",
    "model_tugtow.add(Dense(1))"
   ]
  },
  {
   "cell_type": "code",
   "execution_count": 29,
   "id": "ba50a7c4",
   "metadata": {},
   "outputs": [
    {
     "name": "stdout",
     "output_type": "stream",
     "text": [
      "Model: \"sequential_1\"\n",
      "_________________________________________________________________\n",
      " Layer (type)                Output Shape              Param #   \n",
      "=================================================================\n",
      " lstm_1 (LSTM)               (None, 4)                 96        \n",
      "                                                                 \n",
      " dense_1 (Dense)             (None, 1)                 5         \n",
      "                                                                 \n",
      "=================================================================\n",
      "Total params: 101\n",
      "Trainable params: 101\n",
      "Non-trainable params: 0\n",
      "_________________________________________________________________\n"
     ]
    }
   ],
   "source": [
    "# Check the summary of the model\n",
    "model_tugtow.summary()"
   ]
  },
  {
   "cell_type": "code",
   "execution_count": 30,
   "id": "95b627ac",
   "metadata": {},
   "outputs": [],
   "source": [
    "# Compile the model\n",
    "model_tugtow.compile(loss='mean_squared_error', optimizer='adam')"
   ]
  },
  {
   "cell_type": "code",
   "execution_count": 31,
   "id": "ac0503dd",
   "metadata": {},
   "outputs": [
    {
     "name": "stdout",
     "output_type": "stream",
     "text": [
      "Epoch 1/100\n",
      "242/242 - 1s - loss: 0.0520 - 1s/epoch - 5ms/step\n",
      "Epoch 2/100\n",
      "242/242 - 0s - loss: 0.0153 - 222ms/epoch - 919us/step\n",
      "Epoch 3/100\n",
      "242/242 - 0s - loss: 0.0152 - 224ms/epoch - 925us/step\n",
      "Epoch 4/100\n",
      "242/242 - 0s - loss: 0.0151 - 230ms/epoch - 951us/step\n",
      "Epoch 5/100\n",
      "242/242 - 0s - loss: 0.0151 - 223ms/epoch - 920us/step\n",
      "Epoch 6/100\n",
      "242/242 - 0s - loss: 0.0149 - 226ms/epoch - 935us/step\n",
      "Epoch 7/100\n",
      "242/242 - 0s - loss: 0.0150 - 229ms/epoch - 948us/step\n",
      "Epoch 8/100\n",
      "242/242 - 0s - loss: 0.0149 - 236ms/epoch - 974us/step\n",
      "Epoch 9/100\n",
      "242/242 - 0s - loss: 0.0148 - 227ms/epoch - 939us/step\n",
      "Epoch 10/100\n",
      "242/242 - 0s - loss: 0.0148 - 230ms/epoch - 950us/step\n",
      "Epoch 11/100\n",
      "242/242 - 0s - loss: 0.0147 - 230ms/epoch - 952us/step\n",
      "Epoch 12/100\n",
      "242/242 - 0s - loss: 0.0147 - 251ms/epoch - 1ms/step\n",
      "Epoch 13/100\n",
      "242/242 - 0s - loss: 0.0148 - 232ms/epoch - 960us/step\n",
      "Epoch 14/100\n",
      "242/242 - 0s - loss: 0.0147 - 244ms/epoch - 1ms/step\n",
      "Epoch 15/100\n",
      "242/242 - 0s - loss: 0.0148 - 239ms/epoch - 986us/step\n",
      "Epoch 16/100\n",
      "242/242 - 0s - loss: 0.0148 - 248ms/epoch - 1ms/step\n",
      "Epoch 17/100\n",
      "242/242 - 0s - loss: 0.0146 - 253ms/epoch - 1ms/step\n",
      "Epoch 18/100\n",
      "242/242 - 0s - loss: 0.0148 - 243ms/epoch - 1ms/step\n",
      "Epoch 19/100\n",
      "242/242 - 0s - loss: 0.0147 - 223ms/epoch - 923us/step\n",
      "Epoch 20/100\n",
      "242/242 - 0s - loss: 0.0148 - 229ms/epoch - 944us/step\n",
      "Epoch 21/100\n",
      "242/242 - 0s - loss: 0.0146 - 223ms/epoch - 923us/step\n",
      "Epoch 22/100\n",
      "242/242 - 0s - loss: 0.0147 - 229ms/epoch - 948us/step\n",
      "Epoch 23/100\n",
      "242/242 - 0s - loss: 0.0147 - 223ms/epoch - 923us/step\n",
      "Epoch 24/100\n",
      "242/242 - 0s - loss: 0.0145 - 226ms/epoch - 936us/step\n",
      "Epoch 25/100\n",
      "242/242 - 0s - loss: 0.0148 - 222ms/epoch - 919us/step\n",
      "Epoch 26/100\n",
      "242/242 - 0s - loss: 0.0145 - 228ms/epoch - 940us/step\n",
      "Epoch 27/100\n",
      "242/242 - 0s - loss: 0.0148 - 227ms/epoch - 940us/step\n",
      "Epoch 28/100\n",
      "242/242 - 0s - loss: 0.0149 - 220ms/epoch - 909us/step\n",
      "Epoch 29/100\n",
      "242/242 - 0s - loss: 0.0147 - 232ms/epoch - 957us/step\n",
      "Epoch 30/100\n",
      "242/242 - 0s - loss: 0.0150 - 248ms/epoch - 1ms/step\n",
      "Epoch 31/100\n",
      "242/242 - 0s - loss: 0.0148 - 242ms/epoch - 998us/step\n",
      "Epoch 32/100\n",
      "242/242 - 0s - loss: 0.0147 - 243ms/epoch - 1ms/step\n",
      "Epoch 33/100\n",
      "242/242 - 0s - loss: 0.0147 - 219ms/epoch - 905us/step\n",
      "Epoch 34/100\n",
      "242/242 - 0s - loss: 0.0148 - 231ms/epoch - 953us/step\n",
      "Epoch 35/100\n",
      "242/242 - 0s - loss: 0.0147 - 224ms/epoch - 924us/step\n",
      "Epoch 36/100\n",
      "242/242 - 0s - loss: 0.0147 - 229ms/epoch - 948us/step\n",
      "Epoch 37/100\n",
      "242/242 - 0s - loss: 0.0148 - 222ms/epoch - 916us/step\n",
      "Epoch 38/100\n",
      "242/242 - 0s - loss: 0.0148 - 228ms/epoch - 943us/step\n",
      "Epoch 39/100\n",
      "242/242 - 0s - loss: 0.0147 - 223ms/epoch - 923us/step\n",
      "Epoch 40/100\n",
      "242/242 - 0s - loss: 0.0147 - 228ms/epoch - 942us/step\n",
      "Epoch 41/100\n",
      "242/242 - 0s - loss: 0.0144 - 226ms/epoch - 933us/step\n",
      "Epoch 42/100\n",
      "242/242 - 0s - loss: 0.0147 - 225ms/epoch - 932us/step\n",
      "Epoch 43/100\n",
      "242/242 - 0s - loss: 0.0149 - 225ms/epoch - 931us/step\n",
      "Epoch 44/100\n",
      "242/242 - 0s - loss: 0.0148 - 223ms/epoch - 923us/step\n",
      "Epoch 45/100\n",
      "242/242 - 0s - loss: 0.0146 - 229ms/epoch - 948us/step\n",
      "Epoch 46/100\n",
      "242/242 - 0s - loss: 0.0147 - 231ms/epoch - 954us/step\n",
      "Epoch 47/100\n",
      "242/242 - 0s - loss: 0.0147 - 229ms/epoch - 946us/step\n",
      "Epoch 48/100\n",
      "242/242 - 0s - loss: 0.0147 - 263ms/epoch - 1ms/step\n",
      "Epoch 49/100\n",
      "242/242 - 0s - loss: 0.0146 - 234ms/epoch - 967us/step\n",
      "Epoch 50/100\n",
      "242/242 - 0s - loss: 0.0147 - 238ms/epoch - 982us/step\n",
      "Epoch 51/100\n",
      "242/242 - 0s - loss: 0.0146 - 229ms/epoch - 945us/step\n",
      "Epoch 52/100\n",
      "242/242 - 0s - loss: 0.0145 - 230ms/epoch - 952us/step\n",
      "Epoch 53/100\n",
      "242/242 - 0s - loss: 0.0146 - 277ms/epoch - 1ms/step\n",
      "Epoch 54/100\n",
      "242/242 - 0s - loss: 0.0147 - 268ms/epoch - 1ms/step\n",
      "Epoch 55/100\n",
      "242/242 - 0s - loss: 0.0147 - 278ms/epoch - 1ms/step\n",
      "Epoch 56/100\n",
      "242/242 - 0s - loss: 0.0148 - 259ms/epoch - 1ms/step\n",
      "Epoch 57/100\n",
      "242/242 - 0s - loss: 0.0144 - 259ms/epoch - 1ms/step\n",
      "Epoch 58/100\n",
      "242/242 - 0s - loss: 0.0148 - 258ms/epoch - 1ms/step\n",
      "Epoch 59/100\n",
      "242/242 - 0s - loss: 0.0147 - 256ms/epoch - 1ms/step\n",
      "Epoch 60/100\n",
      "242/242 - 0s - loss: 0.0147 - 265ms/epoch - 1ms/step\n",
      "Epoch 61/100\n",
      "242/242 - 0s - loss: 0.0147 - 236ms/epoch - 974us/step\n",
      "Epoch 62/100\n",
      "242/242 - 0s - loss: 0.0146 - 233ms/epoch - 963us/step\n",
      "Epoch 63/100\n",
      "242/242 - 0s - loss: 0.0147 - 222ms/epoch - 916us/step\n",
      "Epoch 64/100\n",
      "242/242 - 0s - loss: 0.0145 - 228ms/epoch - 944us/step\n",
      "Epoch 65/100\n",
      "242/242 - 0s - loss: 0.0147 - 239ms/epoch - 989us/step\n",
      "Epoch 66/100\n",
      "242/242 - 0s - loss: 0.0148 - 242ms/epoch - 999us/step\n",
      "Epoch 67/100\n",
      "242/242 - 0s - loss: 0.0147 - 250ms/epoch - 1ms/step\n",
      "Epoch 68/100\n",
      "242/242 - 0s - loss: 0.0147 - 247ms/epoch - 1ms/step\n",
      "Epoch 69/100\n",
      "242/242 - 0s - loss: 0.0146 - 245ms/epoch - 1ms/step\n",
      "Epoch 70/100\n",
      "242/242 - 0s - loss: 0.0146 - 242ms/epoch - 999us/step\n",
      "Epoch 71/100\n",
      "242/242 - 0s - loss: 0.0147 - 249ms/epoch - 1ms/step\n",
      "Epoch 72/100\n",
      "242/242 - 0s - loss: 0.0148 - 255ms/epoch - 1ms/step\n",
      "Epoch 73/100\n",
      "242/242 - 0s - loss: 0.0148 - 235ms/epoch - 972us/step\n",
      "Epoch 74/100\n",
      "242/242 - 0s - loss: 0.0147 - 228ms/epoch - 942us/step\n",
      "Epoch 75/100\n",
      "242/242 - 0s - loss: 0.0146 - 216ms/epoch - 894us/step\n",
      "Epoch 76/100\n",
      "242/242 - 0s - loss: 0.0146 - 225ms/epoch - 931us/step\n",
      "Epoch 77/100\n",
      "242/242 - 0s - loss: 0.0147 - 237ms/epoch - 981us/step\n",
      "Epoch 78/100\n",
      "242/242 - 0s - loss: 0.0147 - 244ms/epoch - 1ms/step\n",
      "Epoch 79/100\n",
      "242/242 - 0s - loss: 0.0147 - 250ms/epoch - 1ms/step\n",
      "Epoch 80/100\n",
      "242/242 - 0s - loss: 0.0148 - 233ms/epoch - 964us/step\n",
      "Epoch 81/100\n",
      "242/242 - 0s - loss: 0.0147 - 223ms/epoch - 920us/step\n",
      "Epoch 82/100\n",
      "242/242 - 0s - loss: 0.0147 - 225ms/epoch - 928us/step\n",
      "Epoch 83/100\n",
      "242/242 - 0s - loss: 0.0147 - 222ms/epoch - 919us/step\n",
      "Epoch 84/100\n",
      "242/242 - 0s - loss: 0.0146 - 222ms/epoch - 916us/step\n",
      "Epoch 85/100\n",
      "242/242 - 0s - loss: 0.0147 - 231ms/epoch - 956us/step\n",
      "Epoch 86/100\n",
      "242/242 - 0s - loss: 0.0147 - 222ms/epoch - 918us/step\n",
      "Epoch 87/100\n",
      "242/242 - 0s - loss: 0.0147 - 226ms/epoch - 936us/step\n",
      "Epoch 88/100\n",
      "242/242 - 0s - loss: 0.0147 - 222ms/epoch - 919us/step\n",
      "Epoch 89/100\n",
      "242/242 - 0s - loss: 0.0146 - 233ms/epoch - 962us/step\n",
      "Epoch 90/100\n",
      "242/242 - 0s - loss: 0.0147 - 229ms/epoch - 948us/step\n",
      "Epoch 91/100\n",
      "242/242 - 0s - loss: 0.0146 - 223ms/epoch - 923us/step\n",
      "Epoch 92/100\n",
      "242/242 - 0s - loss: 0.0146 - 226ms/epoch - 935us/step\n",
      "Epoch 93/100\n",
      "242/242 - 0s - loss: 0.0146 - 232ms/epoch - 960us/step\n",
      "Epoch 94/100\n",
      "242/242 - 0s - loss: 0.0148 - 221ms/epoch - 915us/step\n",
      "Epoch 95/100\n",
      "242/242 - 0s - loss: 0.0146 - 217ms/epoch - 898us/step\n",
      "Epoch 96/100\n",
      "242/242 - 0s - loss: 0.0147 - 222ms/epoch - 918us/step\n",
      "Epoch 97/100\n",
      "242/242 - 0s - loss: 0.0148 - 226ms/epoch - 932us/step\n",
      "Epoch 98/100\n",
      "242/242 - 0s - loss: 0.0149 - 226ms/epoch - 935us/step\n",
      "Epoch 99/100\n",
      "242/242 - 0s - loss: 0.0147 - 231ms/epoch - 956us/step\n",
      "Epoch 100/100\n",
      "242/242 - 0s - loss: 0.0147 - 229ms/epoch - 944us/step\n"
     ]
    }
   ],
   "source": [
    "# Train the model\n",
    "fit_model_tugtow = model_tugtow.fit(trainX_tugtow, trainY_tugtow, epochs=100, batch_size=1, verbose=2)"
   ]
  },
  {
   "cell_type": "code",
   "execution_count": 32,
   "id": "bc6a2755",
   "metadata": {
    "scrolled": true
   },
   "outputs": [
    {
     "name": "stdout",
     "output_type": "stream",
     "text": [
      "8/8 [==============================] - 0s 1ms/step\n",
      "4/4 [==============================] - 0s 1ms/step\n"
     ]
    }
   ],
   "source": [
    "# Make predictions\n",
    "trainPredict_tugtow = model_tugtow.predict(trainX_tugtow)\n",
    "testPredict_tugtow = model_tugtow.predict(testX_tugtow)"
   ]
  },
  {
   "cell_type": "code",
   "execution_count": 33,
   "id": "5defb362",
   "metadata": {},
   "outputs": [],
   "source": [
    "# Invert predictions\n",
    "trainPredict_tugtow = scaler.inverse_transform(trainPredict_tugtow)\n",
    "trainY_tugtow = scaler.inverse_transform([trainY_tugtow])\n",
    "testPredict_tugtow = scaler.inverse_transform(testPredict_tugtow)\n",
    "testY_tugtow = scaler.inverse_transform([testY_tugtow])"
   ]
  },
  {
   "cell_type": "code",
   "execution_count": 34,
   "id": "e4f65971",
   "metadata": {},
   "outputs": [
    {
     "name": "stdout",
     "output_type": "stream",
     "text": [
      "Train Score: 30.13 RMSE\n",
      "Test Score: 39.14 RMSE\n"
     ]
    }
   ],
   "source": [
    "# Calculate root mean squared error\n",
    "trainScore_tugtow = math.sqrt(mean_squared_error(trainY_tugtow[0], trainPredict_tugtow[:,0]))\n",
    "print('Train Score: %.2f RMSE' % (trainScore_tugtow))\n",
    "testScore_tugtow = math.sqrt(mean_squared_error(testY_tugtow[0], testPredict_tugtow[:,0]))\n",
    "print('Test Score: %.2f RMSE' % (testScore_tugtow))"
   ]
  },
  {
   "cell_type": "code",
   "execution_count": 35,
   "id": "8a6d2b71",
   "metadata": {},
   "outputs": [
    {
     "data": {
      "image/png": "[encoded data removed]",
      "text/plain": [
       "<Figure size 432x288 with 1 Axes>"
      ]
     },
     "metadata": {
      "needs_background": "light"
     },
     "output_type": "display_data"
    }
   ],
   "source": [
    "# shift train predictions for plotting\n",
    "trainPredictPlot_tugtow = np.empty_like(tugtow)\n",
    "trainPredictPlot_tugtow[:, :] = np.nan\n",
    "trainPredictPlot_tugtow[look_back:len(trainPredict_tugtow)+look_back, :] = trainPredict_tugtow\n",
    "# shift test predictions for plotting\n",
    "testPredictPlot_tugtow = np.empty_like(tugtow)\n",
    "testPredictPlot_tugtow[:, :] = np.nan\n",
    "testPredictPlot_tugtow[len(trainPredict_tugtow)+(look_back*2)+1:len(tugtow)-1, :] = testPredict_tugtow\n",
    "# plot baseline and predictions\n",
    "plt.plot(scaler.inverse_transform(tugtow))\n",
    "plt.plot(trainPredictPlot_tugtow)\n",
    "plt.plot(testPredictPlot_tugtow)\n",
    "plt.show()"
   ]
  }
 ],
 "metadata": {
  "kernelspec": {
   "display_name": "mlenv",
   "language": "python",
   "name": "mlenv"
  },
  "language_info": {
   "codemirror_mode": {
    "name": "ipython",
    "version": 3
   },
   "file_extension": ".py",
   "mimetype": "text/x-python",
   "name": "python",
   "nbconvert_exporter": "python",
   "pygments_lexer": "ipython3",
   "version": "3.9.7"
  }
 },
 "nbformat": 4,
 "nbformat_minor": 5
}
