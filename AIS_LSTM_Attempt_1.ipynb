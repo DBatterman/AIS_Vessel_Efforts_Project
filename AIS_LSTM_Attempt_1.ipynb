{
 "cells": [
  {
   "cell_type": "code",
   "execution_count": 1,
   "id": "6dd7c0c7",
   "metadata": {},
   "outputs": [],
   "source": [
    "# Import our dependencies\n",
    "from sklearn.model_selection import train_test_split\n",
    "from sklearn.preprocessing import StandardScaler,MinMaxScaler,Normalizer\n",
    "import pandas as pd\n",
    "import tensorflow as tf\n",
    "import h5py\n",
    "import os\n",
    "from matplotlib import pyplot as plt\n",
    "from statsmodels.graphics.tsaplots import plot_acf\n",
    "from keras.models import Sequential\n",
    "from keras.layers import LSTM, Dense, Dropout\n",
    "from keras.callbacks import EarlyStopping, ModelCheckpoint\n",
    "\n",
    "# Upload and read the csv files\n",
    "ais_df = pd.read_csv(\"ml_data_daily_2018.csv\", index_col=0)"
   ]
  },
  {
   "cell_type": "code",
   "execution_count": 2,
   "id": "5ee36f74",
   "metadata": {},
   "outputs": [
    {
     "data": {
      "text/html": [
       "<div>\n",
       "<style scoped>\n",
       "    .dataframe tbody tr th:only-of-type {\n",
       "        vertical-align: middle;\n",
       "    }\n",
       "\n",
       "    .dataframe tbody tr th {\n",
       "        vertical-align: top;\n",
       "    }\n",
       "\n",
       "    .dataframe thead th {\n",
       "        text-align: right;\n",
       "    }\n",
       "</style>\n",
       "<table border=\"1\" class=\"dataframe\">\n",
       "  <thead>\n",
       "    <tr style=\"text-align: right;\">\n",
       "      <th></th>\n",
       "      <th>Fishing</th>\n",
       "      <th>TugTow</th>\n",
       "      <th>Recreational</th>\n",
       "      <th>Passenger</th>\n",
       "      <th>Cargo</th>\n",
       "      <th>Tanker</th>\n",
       "      <th>Other</th>\n",
       "      <th>Unavailable</th>\n",
       "    </tr>\n",
       "  </thead>\n",
       "  <tbody>\n",
       "    <tr>\n",
       "      <th>2018/01/01</th>\n",
       "      <td>9</td>\n",
       "      <td>37</td>\n",
       "      <td>145</td>\n",
       "      <td>44</td>\n",
       "      <td>27</td>\n",
       "      <td>13</td>\n",
       "      <td>12</td>\n",
       "      <td>7</td>\n",
       "    </tr>\n",
       "    <tr>\n",
       "      <th>2018/01/02</th>\n",
       "      <td>13</td>\n",
       "      <td>45</td>\n",
       "      <td>119</td>\n",
       "      <td>41</td>\n",
       "      <td>27</td>\n",
       "      <td>14</td>\n",
       "      <td>19</td>\n",
       "      <td>10</td>\n",
       "    </tr>\n",
       "    <tr>\n",
       "      <th>2018/01/03</th>\n",
       "      <td>13</td>\n",
       "      <td>44</td>\n",
       "      <td>106</td>\n",
       "      <td>40</td>\n",
       "      <td>36</td>\n",
       "      <td>14</td>\n",
       "      <td>20</td>\n",
       "      <td>11</td>\n",
       "    </tr>\n",
       "    <tr>\n",
       "      <th>2018/01/04</th>\n",
       "      <td>15</td>\n",
       "      <td>44</td>\n",
       "      <td>103</td>\n",
       "      <td>45</td>\n",
       "      <td>30</td>\n",
       "      <td>10</td>\n",
       "      <td>15</td>\n",
       "      <td>12</td>\n",
       "    </tr>\n",
       "    <tr>\n",
       "      <th>2018/01/05</th>\n",
       "      <td>10</td>\n",
       "      <td>45</td>\n",
       "      <td>107</td>\n",
       "      <td>41</td>\n",
       "      <td>26</td>\n",
       "      <td>13</td>\n",
       "      <td>21</td>\n",
       "      <td>10</td>\n",
       "    </tr>\n",
       "  </tbody>\n",
       "</table>\n",
       "</div>"
      ],
      "text/plain": [
       "            Fishing  TugTow  Recreational  Passenger  Cargo  Tanker  Other  \\\n",
       "2018/01/01        9      37           145         44     27      13     12   \n",
       "2018/01/02       13      45           119         41     27      14     19   \n",
       "2018/01/03       13      44           106         40     36      14     20   \n",
       "2018/01/04       15      44           103         45     30      10     15   \n",
       "2018/01/05       10      45           107         41     26      13     21   \n",
       "\n",
       "            Unavailable  \n",
       "2018/01/01            7  \n",
       "2018/01/02           10  \n",
       "2018/01/03           11  \n",
       "2018/01/04           12  \n",
       "2018/01/05           10  "
      ]
     },
     "execution_count": 2,
     "metadata": {},
     "output_type": "execute_result"
    }
   ],
   "source": [
    "# Look at our data\n",
    "ais_df.head()"
   ]
  },
  {
   "cell_type": "code",
   "execution_count": 3,
   "id": "66e3452a",
   "metadata": {},
   "outputs": [
    {
     "data": {
      "text/html": [
       "<div>\n",
       "<style scoped>\n",
       "    .dataframe tbody tr th:only-of-type {\n",
       "        vertical-align: middle;\n",
       "    }\n",
       "\n",
       "    .dataframe tbody tr th {\n",
       "        vertical-align: top;\n",
       "    }\n",
       "\n",
       "    .dataframe thead th {\n",
       "        text-align: right;\n",
       "    }\n",
       "</style>\n",
       "<table border=\"1\" class=\"dataframe\">\n",
       "  <thead>\n",
       "    <tr style=\"text-align: right;\">\n",
       "      <th></th>\n",
       "      <th>Fishing</th>\n",
       "      <th>TugTow</th>\n",
       "      <th>Recreational</th>\n",
       "      <th>Passenger</th>\n",
       "      <th>Cargo</th>\n",
       "      <th>Tanker</th>\n",
       "      <th>Other</th>\n",
       "      <th>Unavailable</th>\n",
       "      <th>Total</th>\n",
       "    </tr>\n",
       "  </thead>\n",
       "  <tbody>\n",
       "    <tr>\n",
       "      <th>2018/01/01</th>\n",
       "      <td>9</td>\n",
       "      <td>37</td>\n",
       "      <td>145</td>\n",
       "      <td>44</td>\n",
       "      <td>27</td>\n",
       "      <td>13</td>\n",
       "      <td>12</td>\n",
       "      <td>7</td>\n",
       "      <td>294</td>\n",
       "    </tr>\n",
       "    <tr>\n",
       "      <th>2018/01/02</th>\n",
       "      <td>13</td>\n",
       "      <td>45</td>\n",
       "      <td>119</td>\n",
       "      <td>41</td>\n",
       "      <td>27</td>\n",
       "      <td>14</td>\n",
       "      <td>19</td>\n",
       "      <td>10</td>\n",
       "      <td>288</td>\n",
       "    </tr>\n",
       "    <tr>\n",
       "      <th>2018/01/03</th>\n",
       "      <td>13</td>\n",
       "      <td>44</td>\n",
       "      <td>106</td>\n",
       "      <td>40</td>\n",
       "      <td>36</td>\n",
       "      <td>14</td>\n",
       "      <td>20</td>\n",
       "      <td>11</td>\n",
       "      <td>284</td>\n",
       "    </tr>\n",
       "    <tr>\n",
       "      <th>2018/01/04</th>\n",
       "      <td>15</td>\n",
       "      <td>44</td>\n",
       "      <td>103</td>\n",
       "      <td>45</td>\n",
       "      <td>30</td>\n",
       "      <td>10</td>\n",
       "      <td>15</td>\n",
       "      <td>12</td>\n",
       "      <td>274</td>\n",
       "    </tr>\n",
       "    <tr>\n",
       "      <th>2018/01/05</th>\n",
       "      <td>10</td>\n",
       "      <td>45</td>\n",
       "      <td>107</td>\n",
       "      <td>41</td>\n",
       "      <td>26</td>\n",
       "      <td>13</td>\n",
       "      <td>21</td>\n",
       "      <td>10</td>\n",
       "      <td>273</td>\n",
       "    </tr>\n",
       "  </tbody>\n",
       "</table>\n",
       "</div>"
      ],
      "text/plain": [
       "            Fishing  TugTow  Recreational  Passenger  Cargo  Tanker  Other  \\\n",
       "2018/01/01        9      37           145         44     27      13     12   \n",
       "2018/01/02       13      45           119         41     27      14     19   \n",
       "2018/01/03       13      44           106         40     36      14     20   \n",
       "2018/01/04       15      44           103         45     30      10     15   \n",
       "2018/01/05       10      45           107         41     26      13     21   \n",
       "\n",
       "            Unavailable  Total  \n",
       "2018/01/01            7    294  \n",
       "2018/01/02           10    288  \n",
       "2018/01/03           11    284  \n",
       "2018/01/04           12    274  \n",
       "2018/01/05           10    273  "
      ]
     },
     "execution_count": 3,
     "metadata": {},
     "output_type": "execute_result"
    }
   ],
   "source": [
    "# Creating a total column for our data\n",
    "ais_df['Total']= ais_df.sum(axis=1)\n",
    "ais_df.head()"
   ]
  },
  {
   "cell_type": "code",
   "execution_count": 4,
   "id": "ad815563",
   "metadata": {},
   "outputs": [
    {
     "name": "stdout",
     "output_type": "stream",
     "text": [
      "<class 'pandas.core.frame.DataFrame'>\n",
      "Index: 365 entries, 2018/01/01 to 2018/12/31\n",
      "Data columns (total 9 columns):\n",
      " #   Column        Non-Null Count  Dtype\n",
      "---  ------        --------------  -----\n",
      " 0   Fishing       365 non-null    int64\n",
      " 1   TugTow        365 non-null    int64\n",
      " 2   Recreational  365 non-null    int64\n",
      " 3   Passenger     365 non-null    int64\n",
      " 4   Cargo         365 non-null    int64\n",
      " 5   Tanker        365 non-null    int64\n",
      " 6   Other         365 non-null    int64\n",
      " 7   Unavailable   365 non-null    int64\n",
      " 8   Total         365 non-null    int64\n",
      "dtypes: int64(9)\n",
      "memory usage: 28.5+ KB\n"
     ]
    }
   ],
   "source": [
    "# Check the info of the DataFrame to make sure we have clean data\n",
    "ais_df.info()"
   ]
  },
  {
   "cell_type": "code",
   "execution_count": 5,
   "id": "9d43dba4",
   "metadata": {},
   "outputs": [],
   "source": [
    "# Create nine DataFrames, each with the Index and one unique column:\n",
    "# Fishing\n",
    "ais_fishing_df = ais_df.drop([\"TugTow\",\"Recreational\",\"Passenger\",\"Cargo\",\"Tanker\",\"Other\",\"Unavailable\",\"Total\"], axis=1)\n",
    "# TugTow\n",
    "ais_tugtow_df = ais_df.drop([\"Fishing\",\"Recreational\",\"Passenger\",\"Cargo\",\"Tanker\",\"Other\",\"Unavailable\",\"Total\"], axis=1)\n",
    "# Recreational\n",
    "ais_recreational_df = ais_df.drop([\"Fishing\",\"TugTow\",\"Passenger\",\"Cargo\",\"Tanker\",\"Other\",\"Unavailable\",\"Total\"], axis=1)\n",
    "# Passenger\n",
    "ais_passenger_df = ais_df.drop([\"Fishing\",\"TugTow\",\"Recreational\",\"Cargo\",\"Tanker\",\"Other\",\"Unavailable\",\"Total\"], axis=1)\n",
    "# Cargo\n",
    "ais_cargo_df = ais_df.drop([\"Fishing\",\"TugTow\",\"Recreational\",\"Passenger\",\"Tanker\",\"Other\",\"Unavailable\",\"Total\"], axis=1)\n",
    "# Tanker\n",
    "ais_tanker_df = ais_df.drop([\"Fishing\",\"TugTow\",\"Recreational\",\"Passenger\",\"Cargo\",\"Other\",\"Unavailable\",\"Total\"], axis=1)\n",
    "# Other\n",
    "ais_other_df = ais_df.drop([\"Fishing\",\"TugTow\",\"Recreational\",\"Passenger\",\"Cargo\",\"Tanker\",\"Unavailable\",\"Total\"], axis=1)\n",
    "# Unavailable\n",
    "ais_unavailable_df = ais_df.drop([\"Fishing\",\"TugTow\",\"Recreational\",\"Passenger\",\"Cargo\",\"Tanker\",\"Other\",\"Total\"], axis=1)\n",
    "# Total\n",
    "ais_total_df = ais_df.drop([\"Fishing\",\"TugTow\",\"Recreational\",\"Passenger\",\"Cargo\",\"Tanker\",\"Other\",\"Unavailable\"], axis=1)"
   ]
  },
  {
   "cell_type": "code",
   "execution_count": 6,
   "id": "1f71a50e",
   "metadata": {},
   "outputs": [],
   "source": [
    "# Using Total as an example, create an SMA period over the course of 15, 30, and 60 days\n",
    "ais_total_df[\"15days\"] = ais_total_df[\"Total\"].rolling(15, min_periods=1).mean()\n",
    "ais_total_df[\"30days\"] = ais_total_df[\"Total\"].rolling(30, min_periods=1).mean()\n",
    "ais_total_df[\"60days\"] = ais_total_df[\"Total\"].rolling(60, min_periods=1).mean()\n",
    "ais_total_df[\"90days\"] = ais_total_df[\"Total\"].rolling(90, min_periods=1).mean()"
   ]
  },
  {
   "cell_type": "code",
   "execution_count": 7,
   "id": "61e84470",
   "metadata": {},
   "outputs": [
    {
     "data": {
      "text/html": [
       "<div>\n",
       "<style scoped>\n",
       "    .dataframe tbody tr th:only-of-type {\n",
       "        vertical-align: middle;\n",
       "    }\n",
       "\n",
       "    .dataframe tbody tr th {\n",
       "        vertical-align: top;\n",
       "    }\n",
       "\n",
       "    .dataframe thead th {\n",
       "        text-align: right;\n",
       "    }\n",
       "</style>\n",
       "<table border=\"1\" class=\"dataframe\">\n",
       "  <thead>\n",
       "    <tr style=\"text-align: right;\">\n",
       "      <th></th>\n",
       "      <th>Total</th>\n",
       "      <th>15days</th>\n",
       "      <th>30days</th>\n",
       "      <th>60days</th>\n",
       "      <th>90days</th>\n",
       "    </tr>\n",
       "  </thead>\n",
       "  <tbody>\n",
       "    <tr>\n",
       "      <th>2018/01/01</th>\n",
       "      <td>294</td>\n",
       "      <td>294.000000</td>\n",
       "      <td>294.000000</td>\n",
       "      <td>294.000000</td>\n",
       "      <td>294.000000</td>\n",
       "    </tr>\n",
       "    <tr>\n",
       "      <th>2018/01/02</th>\n",
       "      <td>288</td>\n",
       "      <td>291.000000</td>\n",
       "      <td>291.000000</td>\n",
       "      <td>291.000000</td>\n",
       "      <td>291.000000</td>\n",
       "    </tr>\n",
       "    <tr>\n",
       "      <th>2018/01/03</th>\n",
       "      <td>284</td>\n",
       "      <td>288.666667</td>\n",
       "      <td>288.666667</td>\n",
       "      <td>288.666667</td>\n",
       "      <td>288.666667</td>\n",
       "    </tr>\n",
       "    <tr>\n",
       "      <th>2018/01/04</th>\n",
       "      <td>274</td>\n",
       "      <td>285.000000</td>\n",
       "      <td>285.000000</td>\n",
       "      <td>285.000000</td>\n",
       "      <td>285.000000</td>\n",
       "    </tr>\n",
       "    <tr>\n",
       "      <th>2018/01/05</th>\n",
       "      <td>273</td>\n",
       "      <td>282.600000</td>\n",
       "      <td>282.600000</td>\n",
       "      <td>282.600000</td>\n",
       "      <td>282.600000</td>\n",
       "    </tr>\n",
       "    <tr>\n",
       "      <th>...</th>\n",
       "      <td>...</td>\n",
       "      <td>...</td>\n",
       "      <td>...</td>\n",
       "      <td>...</td>\n",
       "      <td>...</td>\n",
       "    </tr>\n",
       "    <tr>\n",
       "      <th>2018/12/27</th>\n",
       "      <td>298</td>\n",
       "      <td>301.000000</td>\n",
       "      <td>312.900000</td>\n",
       "      <td>324.833333</td>\n",
       "      <td>352.900000</td>\n",
       "    </tr>\n",
       "    <tr>\n",
       "      <th>2018/12/28</th>\n",
       "      <td>298</td>\n",
       "      <td>299.333333</td>\n",
       "      <td>312.133333</td>\n",
       "      <td>323.650000</td>\n",
       "      <td>351.422222</td>\n",
       "    </tr>\n",
       "    <tr>\n",
       "      <th>2018/12/29</th>\n",
       "      <td>306</td>\n",
       "      <td>298.333333</td>\n",
       "      <td>312.033333</td>\n",
       "      <td>322.950000</td>\n",
       "      <td>350.211111</td>\n",
       "    </tr>\n",
       "    <tr>\n",
       "      <th>2018/12/30</th>\n",
       "      <td>308</td>\n",
       "      <td>296.666667</td>\n",
       "      <td>311.266667</td>\n",
       "      <td>322.200000</td>\n",
       "      <td>349.211111</td>\n",
       "    </tr>\n",
       "    <tr>\n",
       "      <th>2018/12/31</th>\n",
       "      <td>297</td>\n",
       "      <td>296.133333</td>\n",
       "      <td>309.900000</td>\n",
       "      <td>321.133333</td>\n",
       "      <td>348.366667</td>\n",
       "    </tr>\n",
       "  </tbody>\n",
       "</table>\n",
       "<p>365 rows × 5 columns</p>\n",
       "</div>"
      ],
      "text/plain": [
       "            Total      15days      30days      60days      90days\n",
       "2018/01/01    294  294.000000  294.000000  294.000000  294.000000\n",
       "2018/01/02    288  291.000000  291.000000  291.000000  291.000000\n",
       "2018/01/03    284  288.666667  288.666667  288.666667  288.666667\n",
       "2018/01/04    274  285.000000  285.000000  285.000000  285.000000\n",
       "2018/01/05    273  282.600000  282.600000  282.600000  282.600000\n",
       "...           ...         ...         ...         ...         ...\n",
       "2018/12/27    298  301.000000  312.900000  324.833333  352.900000\n",
       "2018/12/28    298  299.333333  312.133333  323.650000  351.422222\n",
       "2018/12/29    306  298.333333  312.033333  322.950000  350.211111\n",
       "2018/12/30    308  296.666667  311.266667  322.200000  349.211111\n",
       "2018/12/31    297  296.133333  309.900000  321.133333  348.366667\n",
       "\n",
       "[365 rows x 5 columns]"
      ]
     },
     "execution_count": 7,
     "metadata": {},
     "output_type": "execute_result"
    }
   ],
   "source": [
    "# Check the new Dataframe\n",
    "ais_total_df"
   ]
  },
  {
   "cell_type": "code",
   "execution_count": 8,
   "id": "c74d1bb0",
   "metadata": {
    "scrolled": true
   },
   "outputs": [
    {
     "data": {
      "text/plain": [
       "Text(0, 0.5, 'Number of Boats')"
      ]
     },
     "execution_count": 8,
     "metadata": {},
     "output_type": "execute_result"
    },
    {
     "data": {
      "image/png": "[encoded data removed]",
      "text/plain": [
       "<Figure size 864x432 with 1 Axes>"
      ]
     },
     "metadata": {
      "needs_background": "light"
     },
     "output_type": "display_data"
    }
   ],
   "source": [
    "#Display the data\n",
    "# Grean = Avg Air Temp, RED = 10 yrs, ORANG colors for the line plot\n",
    "colors = ['green', 'red', 'orange', 'yellow', 'blue']\n",
    "# Line plot \n",
    "ais_total_df.plot(color=colors, linewidth=3, figsize=(12,6))\n",
    "plt.xticks(fontsize=14)\n",
    "plt.yticks(fontsize=14)\n",
    "plt.legend(labels =['Total Boats per Day', '15-day SMA', '30-day SMA', '60-day SMA', '90-day SMA'], fontsize=14)\n",
    "plt.title('The total number of boats on the water per day', fontsize=20)\n",
    "plt.xlabel('Day', fontsize=16)\n",
    "plt.ylabel('Number of Boats', fontsize=16)"
   ]
  },
  {
   "cell_type": "code",
   "execution_count": 9,
   "id": "40a85a7e",
   "metadata": {},
   "outputs": [],
   "source": [
    "# Split the total Dataframe into X and y values\n",
    "ais_total_df_y = ais_total_df.drop([\"15days\",\"30days\",\"60days\",\"90days\"],axis=1)\n",
    "ais_total_df_X = ais_total_df.drop([\"Total\"],axis=1)"
   ]
  },
  {
   "cell_type": "code",
   "execution_count": 10,
   "id": "e93c5222",
   "metadata": {},
   "outputs": [],
   "source": [
    "# Split our preprocessed data into our features and target arrays\n",
    "y = ais_total_df_y\n",
    "X = ais_total_df_X\n",
    "\n",
    "# Split the preprocessed data into a training and testing dataset\n",
    "X_train, X_test, y_train, y_test = train_test_split(X, y, random_state=24)"
   ]
  },
  {
   "cell_type": "code",
   "execution_count": 11,
   "id": "2a5ba1b5",
   "metadata": {},
   "outputs": [],
   "source": [
    "# Create a MinMaxScaler instances\n",
    "scaler = MinMaxScaler()\n",
    "\n",
    "# Fit the MinMaxScaler\n",
    "X_scaler = scaler.fit(X_train)\n",
    "\n",
    "# Scale the data\n",
    "X_train_scaled = X_scaler.transform(X_train)\n",
    "X_test_scaled = X_scaler.transform(X_test)"
   ]
  },
  {
   "cell_type": "code",
   "execution_count": 12,
   "id": "373eeef2",
   "metadata": {},
   "outputs": [
    {
     "data": {
      "text/plain": [
       "(365, 4, 1)"
      ]
     },
     "execution_count": 12,
     "metadata": {},
     "output_type": "execute_result"
    }
   ],
   "source": [
    "# Add a dimension to our features\n",
    "n_features=1\n",
    "X_3D = X.values.reshape((X.shape[0], X.shape[1], n_features))\n",
    "# Check the shape of the new data\n",
    "X_3D.shape"
   ]
  },
  {
   "cell_type": "code",
   "execution_count": 13,
   "id": "82f5321b",
   "metadata": {},
   "outputs": [],
   "source": [
    "# Define the RNN Model\n",
    "\n",
    "model = Sequential()\n",
    "input_features = X_3D.shape[1]\n",
    "\n",
    "# Recurrent layer\n",
    "model.add(LSTM(1460, activation='relu', input_shape=(X_3D.shape[1], X_3D.shape[2]), return_sequences=False, dropout=0.1, recurrent_dropout=0.1))\n",
    "\n",
    "# Fully connected layer\n",
    "model.add(Dense(units=64, activation='relu'))\n",
    "\n",
    "# Dropout for regularization\n",
    "model.add(Dropout(0.2))\n",
    "\n",
    "# Output layer\n",
    "model.add(Dense(units=1, activation='softmax'))"
   ]
  },
  {
   "cell_type": "code",
   "execution_count": 14,
   "id": "52c9d174",
   "metadata": {
    "scrolled": false
   },
   "outputs": [
    {
     "name": "stdout",
     "output_type": "stream",
     "text": [
      "Model: \"sequential\"\n",
      "_________________________________________________________________\n",
      " Layer (type)                Output Shape              Param #   \n",
      "=================================================================\n",
      " lstm (LSTM)                 (None, 1460)              8538080   \n",
      "                                                                 \n",
      " dense (Dense)               (None, 64)                93504     \n",
      "                                                                 \n",
      " dropout (Dropout)           (None, 64)                0         \n",
      "                                                                 \n",
      " dense_1 (Dense)             (None, 1)                 65        \n",
      "                                                                 \n",
      "=================================================================\n",
      "Total params: 8,631,649\n",
      "Trainable params: 8,631,649\n",
      "Non-trainable params: 0\n",
      "_________________________________________________________________\n"
     ]
    }
   ],
   "source": [
    "# Check the structure of the model\n",
    "model.summary()"
   ]
  },
  {
   "cell_type": "code",
   "execution_count": 15,
   "id": "bec7cae2",
   "metadata": {},
   "outputs": [],
   "source": [
    "# Compile the model\n",
    "model.compile(optimizer='adam', loss='categorical_crossentropy', metrics=['accuracy'])"
   ]
  },
  {
   "cell_type": "code",
   "execution_count": 16,
   "id": "7efc68b0",
   "metadata": {},
   "outputs": [],
   "source": [
    "# Define the checkpoint path and filenames\n",
    "os.makedirs(\"checkpoints/\",exist_ok=True)\n",
    "checkpoint_path = \"checkpoints/weights.{epoch:02d}.hdf5\""
   ]
  },
  {
   "cell_type": "code",
   "execution_count": 17,
   "id": "da3a63ed",
   "metadata": {},
   "outputs": [],
   "source": [
    "# Creating callbacks to load the model for a future time\n",
    "cp_callback = [EarlyStopping(monitor='val_loss', patience=5), ModelCheckpoint(filepath=checkpoint_path, save_best_only=True, save_weights_only=False)]"
   ]
  },
  {
   "cell_type": "code",
   "execution_count": 18,
   "id": "c1e20caa",
   "metadata": {
    "scrolled": true
   },
   "outputs": [
    {
     "name": "stdout",
     "output_type": "stream",
     "text": [
      "Epoch 1/20\n",
      "9/9 [==============================] - ETA: 0s - loss: 0.0000e+00 - accuracy: 0.0000e+00WARNING:tensorflow:Early stopping conditioned on metric `val_loss` which is not available. Available metrics are: loss,accuracy\n",
      "WARNING:tensorflow:Can save best model only with val_loss available, skipping.\n",
      "9/9 [==============================] - 5s 345ms/step - loss: 0.0000e+00 - accuracy: 0.0000e+00\n",
      "Epoch 2/20\n",
      "9/9 [==============================] - ETA: 0s - loss: 0.0000e+00 - accuracy: 0.0000e+00WARNING:tensorflow:Early stopping conditioned on metric `val_loss` which is not available. Available metrics are: loss,accuracy\n",
      "WARNING:tensorflow:Can save best model only with val_loss available, skipping.\n",
      "9/9 [==============================] - 3s 385ms/step - loss: 0.0000e+00 - accuracy: 0.0000e+00\n",
      "Epoch 3/20\n",
      "9/9 [==============================] - ETA: 0s - loss: 0.0000e+00 - accuracy: 0.0000e+00WARNING:tensorflow:Early stopping conditioned on metric `val_loss` which is not available. Available metrics are: loss,accuracy\n",
      "WARNING:tensorflow:Can save best model only with val_loss available, skipping.\n",
      "9/9 [==============================] - 3s 391ms/step - loss: 0.0000e+00 - accuracy: 0.0000e+00\n",
      "Epoch 4/20\n",
      "9/9 [==============================] - ETA: 0s - loss: 0.0000e+00 - accuracy: 0.0000e+00WARNING:tensorflow:Early stopping conditioned on metric `val_loss` which is not available. Available metrics are: loss,accuracy\n",
      "WARNING:tensorflow:Can save best model only with val_loss available, skipping.\n",
      "9/9 [==============================] - 3s 359ms/step - loss: 0.0000e+00 - accuracy: 0.0000e+00\n",
      "Epoch 5/20\n",
      "9/9 [==============================] - ETA: 0s - loss: 0.0000e+00 - accuracy: 0.0000e+00WARNING:tensorflow:Early stopping conditioned on metric `val_loss` which is not available. Available metrics are: loss,accuracy\n",
      "WARNING:tensorflow:Can save best model only with val_loss available, skipping.\n",
      "9/9 [==============================] - 3s 354ms/step - loss: 0.0000e+00 - accuracy: 0.0000e+00\n",
      "Epoch 6/20\n",
      "9/9 [==============================] - ETA: 0s - loss: 0.0000e+00 - accuracy: 0.0000e+00WARNING:tensorflow:Early stopping conditioned on metric `val_loss` which is not available. Available metrics are: loss,accuracy\n",
      "WARNING:tensorflow:Can save best model only with val_loss available, skipping.\n",
      "9/9 [==============================] - 3s 354ms/step - loss: 0.0000e+00 - accuracy: 0.0000e+00\n",
      "Epoch 7/20\n",
      "9/9 [==============================] - ETA: 0s - loss: 0.0000e+00 - accuracy: 0.0000e+00WARNING:tensorflow:Early stopping conditioned on metric `val_loss` which is not available. Available metrics are: loss,accuracy\n",
      "WARNING:tensorflow:Can save best model only with val_loss available, skipping.\n",
      "9/9 [==============================] - 3s 359ms/step - loss: 0.0000e+00 - accuracy: 0.0000e+00\n",
      "Epoch 8/20\n",
      "9/9 [==============================] - ETA: 0s - loss: 0.0000e+00 - accuracy: 0.0000e+00WARNING:tensorflow:Early stopping conditioned on metric `val_loss` which is not available. Available metrics are: loss,accuracy\n",
      "WARNING:tensorflow:Can save best model only with val_loss available, skipping.\n",
      "9/9 [==============================] - 4s 400ms/step - loss: 0.0000e+00 - accuracy: 0.0000e+00\n",
      "Epoch 9/20\n",
      "9/9 [==============================] - ETA: 0s - loss: 0.0000e+00 - accuracy: 0.0000e+00WARNING:tensorflow:Early stopping conditioned on metric `val_loss` which is not available. Available metrics are: loss,accuracy\n",
      "WARNING:tensorflow:Can save best model only with val_loss available, skipping.\n",
      "9/9 [==============================] - 3s 386ms/step - loss: 0.0000e+00 - accuracy: 0.0000e+00\n",
      "Epoch 10/20\n",
      "9/9 [==============================] - ETA: 0s - loss: 0.0000e+00 - accuracy: 0.0000e+00WARNING:tensorflow:Early stopping conditioned on metric `val_loss` which is not available. Available metrics are: loss,accuracy\n",
      "WARNING:tensorflow:Can save best model only with val_loss available, skipping.\n",
      "9/9 [==============================] - 3s 382ms/step - loss: 0.0000e+00 - accuracy: 0.0000e+00\n",
      "Epoch 11/20\n",
      "9/9 [==============================] - ETA: 0s - loss: 0.0000e+00 - accuracy: 0.0000e+00WARNING:tensorflow:Early stopping conditioned on metric `val_loss` which is not available. Available metrics are: loss,accuracy\n",
      "WARNING:tensorflow:Can save best model only with val_loss available, skipping.\n",
      "9/9 [==============================] - 3s 380ms/step - loss: 0.0000e+00 - accuracy: 0.0000e+00\n",
      "Epoch 12/20\n",
      "9/9 [==============================] - ETA: 0s - loss: 0.0000e+00 - accuracy: 0.0000e+00WARNING:tensorflow:Early stopping conditioned on metric `val_loss` which is not available. Available metrics are: loss,accuracy\n",
      "WARNING:tensorflow:Can save best model only with val_loss available, skipping.\n",
      "9/9 [==============================] - 3s 374ms/step - loss: 0.0000e+00 - accuracy: 0.0000e+00\n",
      "Epoch 13/20\n",
      "9/9 [==============================] - ETA: 0s - loss: 0.0000e+00 - accuracy: 0.0000e+00WARNING:tensorflow:Early stopping conditioned on metric `val_loss` which is not available. Available metrics are: loss,accuracy\n",
      "WARNING:tensorflow:Can save best model only with val_loss available, skipping.\n",
      "9/9 [==============================] - 3s 361ms/step - loss: 0.0000e+00 - accuracy: 0.0000e+00\n",
      "Epoch 14/20\n",
      "9/9 [==============================] - ETA: 0s - loss: 0.0000e+00 - accuracy: 0.0000e+00WARNING:tensorflow:Early stopping conditioned on metric `val_loss` which is not available. Available metrics are: loss,accuracy\n",
      "WARNING:tensorflow:Can save best model only with val_loss available, skipping.\n",
      "9/9 [==============================] - 3s 382ms/step - loss: 0.0000e+00 - accuracy: 0.0000e+00\n",
      "Epoch 15/20\n",
      "9/9 [==============================] - ETA: 0s - loss: 0.0000e+00 - accuracy: 0.0000e+00WARNING:tensorflow:Early stopping conditioned on metric `val_loss` which is not available. Available metrics are: loss,accuracy\n",
      "WARNING:tensorflow:Can save best model only with val_loss available, skipping.\n",
      "9/9 [==============================] - 3s 368ms/step - loss: 0.0000e+00 - accuracy: 0.0000e+00\n",
      "Epoch 16/20\n",
      "9/9 [==============================] - ETA: 0s - loss: 0.0000e+00 - accuracy: 0.0000e+00WARNING:tensorflow:Early stopping conditioned on metric `val_loss` which is not available. Available metrics are: loss,accuracy\n",
      "WARNING:tensorflow:Can save best model only with val_loss available, skipping.\n",
      "9/9 [==============================] - 3s 356ms/step - loss: 0.0000e+00 - accuracy: 0.0000e+00\n",
      "Epoch 17/20\n",
      "9/9 [==============================] - ETA: 0s - loss: 0.0000e+00 - accuracy: 0.0000e+00WARNING:tensorflow:Early stopping conditioned on metric `val_loss` which is not available. Available metrics are: loss,accuracy\n",
      "WARNING:tensorflow:Can save best model only with val_loss available, skipping.\n",
      "9/9 [==============================] - 3s 366ms/step - loss: 0.0000e+00 - accuracy: 0.0000e+00\n",
      "Epoch 18/20\n",
      "9/9 [==============================] - ETA: 0s - loss: 0.0000e+00 - accuracy: 0.0000e+00WARNING:tensorflow:Early stopping conditioned on metric `val_loss` which is not available. Available metrics are: loss,accuracy\n",
      "WARNING:tensorflow:Can save best model only with val_loss available, skipping.\n",
      "9/9 [==============================] - 3s 366ms/step - loss: 0.0000e+00 - accuracy: 0.0000e+00\n",
      "Epoch 19/20\n",
      "9/9 [==============================] - ETA: 0s - loss: 0.0000e+00 - accuracy: 0.0000e+00WARNING:tensorflow:Early stopping conditioned on metric `val_loss` which is not available. Available metrics are: loss,accuracy\n",
      "WARNING:tensorflow:Can save best model only with val_loss available, skipping.\n",
      "9/9 [==============================] - 3s 353ms/step - loss: 0.0000e+00 - accuracy: 0.0000e+00\n",
      "Epoch 20/20\n",
      "9/9 [==============================] - ETA: 0s - loss: 0.0000e+00 - accuracy: 0.0000e+00WARNING:tensorflow:Early stopping conditioned on metric `val_loss` which is not available. Available metrics are: loss,accuracy\n",
      "WARNING:tensorflow:Can save best model only with val_loss available, skipping.\n",
      "9/9 [==============================] - 3s 352ms/step - loss: 0.0000e+00 - accuracy: 0.0000e+00\n"
     ]
    }
   ],
   "source": [
    "# Train the model\n",
    "fit_model = model.fit(X_train_scaled,y_train,epochs=20,callbacks=cp_callback)"
   ]
  },
  {
   "cell_type": "code",
   "execution_count": 19,
   "id": "580e03e9",
   "metadata": {},
   "outputs": [
    {
     "name": "stdout",
     "output_type": "stream",
     "text": [
      "3/3 - 1s - loss: 0.0000e+00 - accuracy: 0.0000e+00 - 508ms/epoch - 169ms/step\n",
      "Loss: 0.0, Accuracy: 0.0\n"
     ]
    }
   ],
   "source": [
    "# Evaluate the model using the test data\n",
    "model_loss, model_accuracy = model.evaluate(X_test_scaled,y_test,verbose=2)\n",
    "print(f\"Loss: {model_loss}, Accuracy: {model_accuracy}\")"
   ]
  }
 ],
 "metadata": {
  "kernelspec": {
   "display_name": "mlenv",
   "language": "python",
   "name": "mlenv"
  },
  "language_info": {
   "codemirror_mode": {
    "name": "ipython",
    "version": 3
   },
   "file_extension": ".py",
   "mimetype": "text/x-python",
   "name": "python",
   "nbconvert_exporter": "python",
   "pygments_lexer": "ipython3",
   "version": "3.9.7"
  }
 },
 "nbformat": 4,
 "nbformat_minor": 5
}
