{
 "cells": [
  {
   "cell_type": "code",
   "execution_count": 1,
   "id": "b431f951",
   "metadata": {},
   "outputs": [],
   "source": [
    "# Import our dependencies\n",
    "import numpy as np\n",
    "import matplotlib.pyplot as plt\n",
    "import pandas as pd\n",
    "import math\n",
    "from keras.models import Sequential\n",
    "from keras.layers import Dense, LSTM, Dropout\n",
    "from sklearn.preprocessing import MinMaxScaler\n",
    "from sklearn.metrics import mean_squared_error\n",
    "from keras.callbacks import EarlyStopping, ModelCheckpoint\n",
    "\n",
    "# Fix a random seed so the data can be reproduced\n",
    "np.random.seed(24)\n",
    "\n",
    "# Upload and read the csv files\n",
    "ais_df = pd.read_csv(\"ml_data_daily_2018.csv\", index_col=0)"
   ]
  },
  {
   "cell_type": "code",
   "execution_count": 2,
   "id": "fa959ae4",
   "metadata": {
    "scrolled": true
   },
   "outputs": [
    {
     "data": {
      "text/html": [
       "<div>\n",
       "<style scoped>\n",
       "    .dataframe tbody tr th:only-of-type {\n",
       "        vertical-align: middle;\n",
       "    }\n",
       "\n",
       "    .dataframe tbody tr th {\n",
       "        vertical-align: top;\n",
       "    }\n",
       "\n",
       "    .dataframe thead th {\n",
       "        text-align: right;\n",
       "    }\n",
       "</style>\n",
       "<table border=\"1\" class=\"dataframe\">\n",
       "  <thead>\n",
       "    <tr style=\"text-align: right;\">\n",
       "      <th></th>\n",
       "      <th>Fishing</th>\n",
       "      <th>TugTow</th>\n",
       "      <th>Recreational</th>\n",
       "      <th>Passenger</th>\n",
       "      <th>Cargo</th>\n",
       "      <th>Tanker</th>\n",
       "      <th>Other</th>\n",
       "      <th>Unavailable</th>\n",
       "    </tr>\n",
       "  </thead>\n",
       "  <tbody>\n",
       "    <tr>\n",
       "      <th>2018/01/01</th>\n",
       "      <td>9</td>\n",
       "      <td>37</td>\n",
       "      <td>145</td>\n",
       "      <td>44</td>\n",
       "      <td>27</td>\n",
       "      <td>13</td>\n",
       "      <td>12</td>\n",
       "      <td>7</td>\n",
       "    </tr>\n",
       "    <tr>\n",
       "      <th>2018/01/02</th>\n",
       "      <td>13</td>\n",
       "      <td>45</td>\n",
       "      <td>119</td>\n",
       "      <td>41</td>\n",
       "      <td>27</td>\n",
       "      <td>14</td>\n",
       "      <td>19</td>\n",
       "      <td>10</td>\n",
       "    </tr>\n",
       "    <tr>\n",
       "      <th>2018/01/03</th>\n",
       "      <td>13</td>\n",
       "      <td>44</td>\n",
       "      <td>106</td>\n",
       "      <td>40</td>\n",
       "      <td>36</td>\n",
       "      <td>14</td>\n",
       "      <td>20</td>\n",
       "      <td>11</td>\n",
       "    </tr>\n",
       "    <tr>\n",
       "      <th>2018/01/04</th>\n",
       "      <td>15</td>\n",
       "      <td>44</td>\n",
       "      <td>103</td>\n",
       "      <td>45</td>\n",
       "      <td>30</td>\n",
       "      <td>10</td>\n",
       "      <td>15</td>\n",
       "      <td>12</td>\n",
       "    </tr>\n",
       "    <tr>\n",
       "      <th>2018/01/05</th>\n",
       "      <td>10</td>\n",
       "      <td>45</td>\n",
       "      <td>107</td>\n",
       "      <td>41</td>\n",
       "      <td>26</td>\n",
       "      <td>13</td>\n",
       "      <td>21</td>\n",
       "      <td>10</td>\n",
       "    </tr>\n",
       "  </tbody>\n",
       "</table>\n",
       "</div>"
      ],
      "text/plain": [
       "            Fishing  TugTow  Recreational  Passenger  Cargo  Tanker  Other  \\\n",
       "2018/01/01        9      37           145         44     27      13     12   \n",
       "2018/01/02       13      45           119         41     27      14     19   \n",
       "2018/01/03       13      44           106         40     36      14     20   \n",
       "2018/01/04       15      44           103         45     30      10     15   \n",
       "2018/01/05       10      45           107         41     26      13     21   \n",
       "\n",
       "            Unavailable  \n",
       "2018/01/01            7  \n",
       "2018/01/02           10  \n",
       "2018/01/03           11  \n",
       "2018/01/04           12  \n",
       "2018/01/05           10  "
      ]
     },
     "execution_count": 2,
     "metadata": {},
     "output_type": "execute_result"
    }
   ],
   "source": [
    "# Look at our data\n",
    "ais_df.head()"
   ]
  },
  {
   "cell_type": "code",
   "execution_count": 3,
   "id": "1455e23e",
   "metadata": {
    "scrolled": true
   },
   "outputs": [
    {
     "data": {
      "text/html": [
       "<div>\n",
       "<style scoped>\n",
       "    .dataframe tbody tr th:only-of-type {\n",
       "        vertical-align: middle;\n",
       "    }\n",
       "\n",
       "    .dataframe tbody tr th {\n",
       "        vertical-align: top;\n",
       "    }\n",
       "\n",
       "    .dataframe thead th {\n",
       "        text-align: right;\n",
       "    }\n",
       "</style>\n",
       "<table border=\"1\" class=\"dataframe\">\n",
       "  <thead>\n",
       "    <tr style=\"text-align: right;\">\n",
       "      <th></th>\n",
       "      <th>Fishing</th>\n",
       "      <th>TugTow</th>\n",
       "      <th>Recreational</th>\n",
       "      <th>Passenger</th>\n",
       "      <th>Cargo</th>\n",
       "      <th>Tanker</th>\n",
       "      <th>Other</th>\n",
       "      <th>Unavailable</th>\n",
       "      <th>Total</th>\n",
       "    </tr>\n",
       "  </thead>\n",
       "  <tbody>\n",
       "    <tr>\n",
       "      <th>2018/01/01</th>\n",
       "      <td>9</td>\n",
       "      <td>37</td>\n",
       "      <td>145</td>\n",
       "      <td>44</td>\n",
       "      <td>27</td>\n",
       "      <td>13</td>\n",
       "      <td>12</td>\n",
       "      <td>7</td>\n",
       "      <td>294</td>\n",
       "    </tr>\n",
       "    <tr>\n",
       "      <th>2018/01/02</th>\n",
       "      <td>13</td>\n",
       "      <td>45</td>\n",
       "      <td>119</td>\n",
       "      <td>41</td>\n",
       "      <td>27</td>\n",
       "      <td>14</td>\n",
       "      <td>19</td>\n",
       "      <td>10</td>\n",
       "      <td>288</td>\n",
       "    </tr>\n",
       "    <tr>\n",
       "      <th>2018/01/03</th>\n",
       "      <td>13</td>\n",
       "      <td>44</td>\n",
       "      <td>106</td>\n",
       "      <td>40</td>\n",
       "      <td>36</td>\n",
       "      <td>14</td>\n",
       "      <td>20</td>\n",
       "      <td>11</td>\n",
       "      <td>284</td>\n",
       "    </tr>\n",
       "    <tr>\n",
       "      <th>2018/01/04</th>\n",
       "      <td>15</td>\n",
       "      <td>44</td>\n",
       "      <td>103</td>\n",
       "      <td>45</td>\n",
       "      <td>30</td>\n",
       "      <td>10</td>\n",
       "      <td>15</td>\n",
       "      <td>12</td>\n",
       "      <td>274</td>\n",
       "    </tr>\n",
       "    <tr>\n",
       "      <th>2018/01/05</th>\n",
       "      <td>10</td>\n",
       "      <td>45</td>\n",
       "      <td>107</td>\n",
       "      <td>41</td>\n",
       "      <td>26</td>\n",
       "      <td>13</td>\n",
       "      <td>21</td>\n",
       "      <td>10</td>\n",
       "      <td>273</td>\n",
       "    </tr>\n",
       "  </tbody>\n",
       "</table>\n",
       "</div>"
      ],
      "text/plain": [
       "            Fishing  TugTow  Recreational  Passenger  Cargo  Tanker  Other  \\\n",
       "2018/01/01        9      37           145         44     27      13     12   \n",
       "2018/01/02       13      45           119         41     27      14     19   \n",
       "2018/01/03       13      44           106         40     36      14     20   \n",
       "2018/01/04       15      44           103         45     30      10     15   \n",
       "2018/01/05       10      45           107         41     26      13     21   \n",
       "\n",
       "            Unavailable  Total  \n",
       "2018/01/01            7    294  \n",
       "2018/01/02           10    288  \n",
       "2018/01/03           11    284  \n",
       "2018/01/04           12    274  \n",
       "2018/01/05           10    273  "
      ]
     },
     "execution_count": 3,
     "metadata": {},
     "output_type": "execute_result"
    }
   ],
   "source": [
    "# Creating a total column for our data\n",
    "ais_df['Total']= ais_df.sum(axis=1)\n",
    "ais_df.head()"
   ]
  },
  {
   "cell_type": "code",
   "execution_count": 4,
   "id": "6ba0f154",
   "metadata": {},
   "outputs": [
    {
     "name": "stdout",
     "output_type": "stream",
     "text": [
      "<class 'pandas.core.frame.DataFrame'>\n",
      "Index: 365 entries, 2018/01/01 to 2018/12/31\n",
      "Data columns (total 9 columns):\n",
      " #   Column        Non-Null Count  Dtype\n",
      "---  ------        --------------  -----\n",
      " 0   Fishing       365 non-null    int64\n",
      " 1   TugTow        365 non-null    int64\n",
      " 2   Recreational  365 non-null    int64\n",
      " 3   Passenger     365 non-null    int64\n",
      " 4   Cargo         365 non-null    int64\n",
      " 5   Tanker        365 non-null    int64\n",
      " 6   Other         365 non-null    int64\n",
      " 7   Unavailable   365 non-null    int64\n",
      " 8   Total         365 non-null    int64\n",
      "dtypes: int64(9)\n",
      "memory usage: 28.5+ KB\n"
     ]
    }
   ],
   "source": [
    "# And then check the type\n",
    "ais_df.info()"
   ]
  },
  {
   "cell_type": "code",
   "execution_count": 5,
   "id": "17356cb5",
   "metadata": {},
   "outputs": [],
   "source": [
    "# Create nine DataFrames, each with the Date and one unique column:\n",
    "\n",
    "# Fishing\n",
    "ais_fishing_df = ais_df.loc[:, ['Fishing']]\n",
    "\n",
    "# TugTow\n",
    "ais_tugtow_df = ais_df.loc[:, ['TugTow']]\n",
    "\n",
    "# Recreational\n",
    "ais_recreational_df = ais_df.loc[:, ['Recreational']]\n",
    "\n",
    "# Passenger\n",
    "ais_passenger_df = ais_df.loc[:, ['Passenger']]\n",
    "\n",
    "# Cargo\n",
    "ais_cargo_df = ais_df.loc[:, ['Cargo']]\n",
    "\n",
    "# Tanker\n",
    "ais_tanker_df = ais_df.loc[:, ['Tanker']]\n",
    "\n",
    "# Other\n",
    "ais_other_df = ais_df.loc[:, ['Other']]\n",
    "\n",
    "# Unavailable\n",
    "ais_unavailable_df = ais_df.loc[:, ['Unavailable']]\n",
    "\n",
    "# Total\n",
    "ais_total_df = ais_df.loc[:, ['Total']]"
   ]
  },
  {
   "cell_type": "code",
   "execution_count": 6,
   "id": "c69479f8",
   "metadata": {
    "scrolled": true
   },
   "outputs": [
    {
     "data": {
      "text/html": [
       "<div>\n",
       "<style scoped>\n",
       "    .dataframe tbody tr th:only-of-type {\n",
       "        vertical-align: middle;\n",
       "    }\n",
       "\n",
       "    .dataframe tbody tr th {\n",
       "        vertical-align: top;\n",
       "    }\n",
       "\n",
       "    .dataframe thead th {\n",
       "        text-align: right;\n",
       "    }\n",
       "</style>\n",
       "<table border=\"1\" class=\"dataframe\">\n",
       "  <thead>\n",
       "    <tr style=\"text-align: right;\">\n",
       "      <th></th>\n",
       "      <th>Total</th>\n",
       "    </tr>\n",
       "  </thead>\n",
       "  <tbody>\n",
       "    <tr>\n",
       "      <th>2018/01/01</th>\n",
       "      <td>294</td>\n",
       "    </tr>\n",
       "    <tr>\n",
       "      <th>2018/01/02</th>\n",
       "      <td>288</td>\n",
       "    </tr>\n",
       "    <tr>\n",
       "      <th>2018/01/03</th>\n",
       "      <td>284</td>\n",
       "    </tr>\n",
       "    <tr>\n",
       "      <th>2018/01/04</th>\n",
       "      <td>274</td>\n",
       "    </tr>\n",
       "    <tr>\n",
       "      <th>2018/01/05</th>\n",
       "      <td>273</td>\n",
       "    </tr>\n",
       "    <tr>\n",
       "      <th>...</th>\n",
       "      <td>...</td>\n",
       "    </tr>\n",
       "    <tr>\n",
       "      <th>2018/12/27</th>\n",
       "      <td>298</td>\n",
       "    </tr>\n",
       "    <tr>\n",
       "      <th>2018/12/28</th>\n",
       "      <td>298</td>\n",
       "    </tr>\n",
       "    <tr>\n",
       "      <th>2018/12/29</th>\n",
       "      <td>306</td>\n",
       "    </tr>\n",
       "    <tr>\n",
       "      <th>2018/12/30</th>\n",
       "      <td>308</td>\n",
       "    </tr>\n",
       "    <tr>\n",
       "      <th>2018/12/31</th>\n",
       "      <td>297</td>\n",
       "    </tr>\n",
       "  </tbody>\n",
       "</table>\n",
       "<p>365 rows × 1 columns</p>\n",
       "</div>"
      ],
      "text/plain": [
       "            Total\n",
       "2018/01/01    294\n",
       "2018/01/02    288\n",
       "2018/01/03    284\n",
       "2018/01/04    274\n",
       "2018/01/05    273\n",
       "...           ...\n",
       "2018/12/27    298\n",
       "2018/12/28    298\n",
       "2018/12/29    306\n",
       "2018/12/30    308\n",
       "2018/12/31    297\n",
       "\n",
       "[365 rows x 1 columns]"
      ]
     },
     "execution_count": 6,
     "metadata": {},
     "output_type": "execute_result"
    }
   ],
   "source": [
    "# From here we will be using 'Total' as an example, and repeating the code for the rest of the data\n",
    "\n",
    "# Check the new DataFrame\n",
    "ais_total_df"
   ]
  },
  {
   "cell_type": "code",
   "execution_count": 7,
   "id": "19802b9c",
   "metadata": {},
   "outputs": [],
   "source": [
    "# From here, the code is heavily inspired by the code found on this site:\n",
    "# https://machinelearningmastery.com/time-series-prediction-lstm-recurrent-neural-networks-python-keras/"
   ]
  },
  {
   "cell_type": "code",
   "execution_count": 8,
   "id": "b6bb4e06",
   "metadata": {},
   "outputs": [],
   "source": [
    "# Creating a function to automate making a model for all nine Dataframes\n",
    "def BoatModel (x):\n",
    "    # Convert the DataFrame into an array, and change the type to floats for the Neural Network\n",
    "    data = x.values\n",
    "    data = data.astype('float32')\n",
    "    \n",
    "    # Normalize the data by using a scaler\n",
    "    scaler = MinMaxScaler(feature_range=(0, 1))\n",
    "    data = scaler.fit_transform(data)\n",
    "    \n",
    "    # Split our data into training and testing using slicing, and check the length\n",
    "\n",
    "    # Determin the length of what our split will be\n",
    "    data_split = int(len(data) * 0.75)\n",
    "    \n",
    "    #Slice the data and print the results\n",
    "    train, test = data[:data_split], data[data_split:]\n",
    "    \n",
    "    # Convert an array of values into a dataset matrix\n",
    "    def create_dataset(dataset, look_back=1):\n",
    "        dataX, dataY = [], []\n",
    "        for i in range(len(dataset)-look_back-1):\n",
    "            a = dataset[i:(i+look_back), 0]\n",
    "            dataX.append(a)\n",
    "            dataY.append(dataset[i + look_back, 0])\n",
    "        return np.array(dataX), np.array(dataY)\n",
    "    \n",
    "    # Reshape the values into X=t and Y=t+1\n",
    "    look_back = 1\n",
    "    trainX, trainY = create_dataset(train, look_back)\n",
    "    testX, testY = create_dataset(test, look_back)\n",
    "    \n",
    "    # Reshape the data to incorperate into the LSTM\n",
    "    trainX = np.reshape(trainX, (trainX.shape[0], 1, trainX.shape[1]))\n",
    "    testX = np.reshape(testX, (testX.shape[0], 1, testX.shape[1]))\n",
    "    \n",
    "    # create and fit the LSTM network\n",
    "    model = Sequential()\n",
    "    model.add(LSTM(4, activation='relu', input_shape=(1, look_back)))\n",
    "    model.add(Dense(2))\n",
    "    model.add(Dense(1))\n",
    "    model.compile(loss='mean_squared_error', optimizer='adam', metrics=['mse', 'mae', 'mape'])\n",
    "    es = [EarlyStopping(monitor='loss', patience=15)]\n",
    "    fit_model = model.fit(trainX, trainY, epochs=100, validation_split=0.3, batch_size=1, verbose=2, callbacks=[es])\n",
    "    \n",
    "    # Make predictions\n",
    "    trainPredict = model.predict(trainX)\n",
    "    testPredict = model.predict(testX)\n",
    "    \n",
    "    # Invert predictions\n",
    "    trainPredict = scaler.inverse_transform(trainPredict)\n",
    "    trainY = scaler.inverse_transform([trainY])\n",
    "    testPredict = scaler.inverse_transform(testPredict)\n",
    "    testY = scaler.inverse_transform([testY])\n",
    "    \n",
    "    # Calculate root mean squared error\n",
    "    trainScore = math.sqrt(mean_squared_error(trainY[0], trainPredict[:,0]))\n",
    "    testScore = math.sqrt(mean_squared_error(testY[0], testPredict[:,0]))\n",
    "    # And catch the results to print later\n",
    "    show_trainScore = 'Train Score: %.2f RMSE' % (trainScore)\n",
    "    show_testScore = 'Test Score: %.2f RMSE' % (testScore)\n",
    "    \n",
    "    # Shift train predictions for plotting\n",
    "    trainPredictPlot = np.empty_like(data)\n",
    "    trainPredictPlot[:, :] = np.nan\n",
    "    trainPredictPlot[look_back:len(trainPredict)+look_back, :] = trainPredict\n",
    "    # Shift test predictions for plotting\n",
    "    testPredictPlot = np.empty_like(data)\n",
    "    testPredictPlot[:, :] = np.nan\n",
    "    testPredictPlot[len(trainPredict)+(look_back*2)+1:len(data)-1, :] = testPredict\n",
    "    # Plot baseline and predictions\n",
    "    plt.plot(scaler.inverse_transform(data))\n",
    "    plt.plot(trainPredictPlot)\n",
    "    plt.plot(testPredictPlot)\n",
    "    graph = plt.show()\n",
    "  \n",
    "    return fit_model, show_trainScore, show_testScore, graph"
   ]
  },
  {
   "cell_type": "code",
   "execution_count": 9,
   "id": "4e90b796",
   "metadata": {},
   "outputs": [
    {
     "name": "stdout",
     "output_type": "stream",
     "text": [
      "Epoch 1/100\n",
      "189/189 - 1s - loss: 0.0729 - mse: 0.0729 - mae: 0.2162 - mape: 52.0264 - val_loss: 0.0339 - val_mse: 0.0339 - val_mae: 0.1436 - val_mape: 27.3492 - 1s/epoch - 7ms/step\n",
      "Epoch 2/100\n",
      "189/189 - 0s - loss: 0.0287 - mse: 0.0287 - mae: 0.1342 - mape: 40.2912 - val_loss: 0.0280 - val_mse: 0.0280 - val_mae: 0.1293 - val_mape: 25.8196 - 374ms/epoch - 2ms/step\n",
      "Epoch 3/100\n",
      "189/189 - 0s - loss: 0.0278 - mse: 0.0278 - mae: 0.1336 - mape: 40.4921 - val_loss: 0.0281 - val_mse: 0.0281 - val_mae: 0.1298 - val_mape: 25.8467 - 378ms/epoch - 2ms/step\n",
      "Epoch 4/100\n",
      "189/189 - 0s - loss: 0.0271 - mse: 0.0271 - mae: 0.1312 - mape: 39.4145 - val_loss: 0.0257 - val_mse: 0.0257 - val_mae: 0.1248 - val_mape: 25.5779 - 362ms/epoch - 2ms/step\n",
      "Epoch 5/100\n",
      "189/189 - 0s - loss: 0.0262 - mse: 0.0262 - mae: 0.1310 - mape: 40.3252 - val_loss: 0.0286 - val_mse: 0.0286 - val_mae: 0.1317 - val_mape: 25.9438 - 406ms/epoch - 2ms/step\n",
      "Epoch 6/100\n",
      "189/189 - 0s - loss: 0.0251 - mse: 0.0251 - mae: 0.1285 - mape: 39.0817 - val_loss: 0.0262 - val_mse: 0.0262 - val_mae: 0.1270 - val_mape: 25.6334 - 377ms/epoch - 2ms/step\n",
      "Epoch 7/100\n",
      "189/189 - 0s - loss: 0.0239 - mse: 0.0239 - mae: 0.1245 - mape: 37.1922 - val_loss: 0.0233 - val_mse: 0.0233 - val_mae: 0.1208 - val_mape: 25.4801 - 383ms/epoch - 2ms/step\n",
      "Epoch 8/100\n",
      "189/189 - 0s - loss: 0.0227 - mse: 0.0227 - mae: 0.1220 - mape: 37.1154 - val_loss: 0.0232 - val_mse: 0.0232 - val_mae: 0.1215 - val_mape: 25.5964 - 429ms/epoch - 2ms/step\n",
      "Epoch 9/100\n",
      "189/189 - 0s - loss: 0.0214 - mse: 0.0214 - mae: 0.1203 - mape: 36.8632 - val_loss: 0.0249 - val_mse: 0.0249 - val_mae: 0.1260 - val_mape: 25.6846 - 397ms/epoch - 2ms/step\n",
      "Epoch 10/100\n",
      "189/189 - 0s - loss: 0.0199 - mse: 0.0199 - mae: 0.1152 - mape: 34.8606 - val_loss: 0.0229 - val_mse: 0.0229 - val_mae: 0.1231 - val_mape: 25.9976 - 399ms/epoch - 2ms/step\n",
      "Epoch 11/100\n",
      "189/189 - 0s - loss: 0.0185 - mse: 0.0185 - mae: 0.1127 - mape: 34.5584 - val_loss: 0.0236 - val_mse: 0.0236 - val_mae: 0.1254 - val_mape: 26.2296 - 401ms/epoch - 2ms/step\n",
      "Epoch 12/100\n",
      "189/189 - 0s - loss: 0.0177 - mse: 0.0177 - mae: 0.1085 - mape: 32.2629 - val_loss: 0.0233 - val_mse: 0.0233 - val_mae: 0.1257 - val_mape: 26.5620 - 393ms/epoch - 2ms/step\n",
      "Epoch 13/100\n",
      "189/189 - 0s - loss: 0.0169 - mse: 0.0169 - mae: 0.1065 - mape: 32.2305 - val_loss: 0.0234 - val_mse: 0.0234 - val_mae: 0.1266 - val_mape: 26.8878 - 393ms/epoch - 2ms/step\n",
      "Epoch 14/100\n",
      "189/189 - 0s - loss: 0.0160 - mse: 0.0160 - mae: 0.1037 - mape: 31.1212 - val_loss: 0.0231 - val_mse: 0.0231 - val_mae: 0.1259 - val_mape: 27.2779 - 373ms/epoch - 2ms/step\n",
      "Epoch 15/100\n",
      "189/189 - 0s - loss: 0.0156 - mse: 0.0156 - mae: 0.1026 - mape: 30.3233 - val_loss: 0.0228 - val_mse: 0.0228 - val_mae: 0.1249 - val_mape: 27.9221 - 396ms/epoch - 2ms/step\n",
      "Epoch 16/100\n",
      "189/189 - 0s - loss: 0.0148 - mse: 0.0148 - mae: 0.1005 - mape: 30.3351 - val_loss: 0.0259 - val_mse: 0.0259 - val_mae: 0.1348 - val_mape: 28.2073 - 410ms/epoch - 2ms/step\n",
      "Epoch 17/100\n",
      "189/189 - 0s - loss: 0.0150 - mse: 0.0150 - mae: 0.0982 - mape: 28.5585 - val_loss: 0.0239 - val_mse: 0.0239 - val_mae: 0.1280 - val_mape: 28.3818 - 369ms/epoch - 2ms/step\n",
      "Epoch 18/100\n",
      "189/189 - 0s - loss: 0.0147 - mse: 0.0147 - mae: 0.0977 - mape: 28.8264 - val_loss: 0.0255 - val_mse: 0.0255 - val_mae: 0.1337 - val_mape: 28.6276 - 374ms/epoch - 2ms/step\n",
      "Epoch 19/100\n",
      "189/189 - 0s - loss: 0.0147 - mse: 0.0147 - mae: 0.0959 - mape: 27.8944 - val_loss: 0.0247 - val_mse: 0.0247 - val_mae: 0.1306 - val_mape: 28.7680 - 401ms/epoch - 2ms/step\n",
      "Epoch 20/100\n",
      "189/189 - 0s - loss: 0.0143 - mse: 0.0143 - mae: 0.0964 - mape: 28.2669 - val_loss: 0.0267 - val_mse: 0.0267 - val_mae: 0.1370 - val_mape: 29.0049 - 377ms/epoch - 2ms/step\n",
      "Epoch 21/100\n",
      "189/189 - 0s - loss: 0.0145 - mse: 0.0145 - mae: 0.0946 - mape: 27.1140 - val_loss: 0.0251 - val_mse: 0.0251 - val_mae: 0.1317 - val_mape: 29.0591 - 393ms/epoch - 2ms/step\n",
      "Epoch 22/100\n",
      "189/189 - 0s - loss: 0.0146 - mse: 0.0146 - mae: 0.0964 - mape: 27.7215 - val_loss: 0.0249 - val_mse: 0.0249 - val_mae: 0.1297 - val_mape: 29.1756 - 402ms/epoch - 2ms/step\n",
      "Epoch 23/100\n",
      "189/189 - 0s - loss: 0.0142 - mse: 0.0142 - mae: 0.0963 - mape: 28.3989 - val_loss: 0.0270 - val_mse: 0.0270 - val_mae: 0.1378 - val_mape: 29.2772 - 390ms/epoch - 2ms/step\n",
      "Epoch 24/100\n",
      "189/189 - 0s - loss: 0.0146 - mse: 0.0146 - mae: 0.0950 - mape: 27.1840 - val_loss: 0.0261 - val_mse: 0.0261 - val_mae: 0.1351 - val_mape: 29.2980 - 380ms/epoch - 2ms/step\n",
      "Epoch 25/100\n",
      "189/189 - 0s - loss: 0.0145 - mse: 0.0145 - mae: 0.0950 - mape: 27.3806 - val_loss: 0.0253 - val_mse: 0.0253 - val_mae: 0.1302 - val_mape: 29.3793 - 397ms/epoch - 2ms/step\n",
      "Epoch 26/100\n",
      "189/189 - 0s - loss: 0.0144 - mse: 0.0144 - mae: 0.0944 - mape: 27.2635 - val_loss: 0.0263 - val_mse: 0.0263 - val_mae: 0.1354 - val_mape: 29.3577 - 384ms/epoch - 2ms/step\n",
      "Epoch 27/100\n",
      "189/189 - 0s - loss: 0.0146 - mse: 0.0146 - mae: 0.0963 - mape: 27.5956 - val_loss: 0.0259 - val_mse: 0.0259 - val_mae: 0.1338 - val_mape: 29.3787 - 409ms/epoch - 2ms/step\n",
      "Epoch 28/100\n",
      "189/189 - 0s - loss: 0.0147 - mse: 0.0147 - mae: 0.0955 - mape: 27.3833 - val_loss: 0.0255 - val_mse: 0.0255 - val_mae: 0.1317 - val_mape: 29.3847 - 403ms/epoch - 2ms/step\n",
      "Epoch 29/100\n",
      "189/189 - 0s - loss: 0.0146 - mse: 0.0146 - mae: 0.0954 - mape: 27.6518 - val_loss: 0.0261 - val_mse: 0.0261 - val_mae: 0.1346 - val_mape: 29.4313 - 407ms/epoch - 2ms/step\n",
      "Epoch 30/100\n",
      "189/189 - 0s - loss: 0.0143 - mse: 0.0143 - mae: 0.0951 - mape: 27.5578 - val_loss: 0.0280 - val_mse: 0.0280 - val_mae: 0.1402 - val_mape: 29.5503 - 376ms/epoch - 2ms/step\n",
      "Epoch 31/100\n",
      "189/189 - 0s - loss: 0.0146 - mse: 0.0146 - mae: 0.0954 - mape: 27.1573 - val_loss: 0.0258 - val_mse: 0.0258 - val_mae: 0.1331 - val_mape: 29.4719 - 376ms/epoch - 2ms/step\n",
      "Epoch 32/100\n",
      "189/189 - 0s - loss: 0.0143 - mse: 0.0143 - mae: 0.0952 - mape: 26.9253 - val_loss: 0.0254 - val_mse: 0.0254 - val_mae: 0.1305 - val_mape: 29.4787 - 394ms/epoch - 2ms/step\n",
      "Epoch 33/100\n",
      "189/189 - 0s - loss: 0.0145 - mse: 0.0145 - mae: 0.0947 - mape: 27.1688 - val_loss: 0.0255 - val_mse: 0.0255 - val_mae: 0.1288 - val_mape: 29.7909 - 461ms/epoch - 2ms/step\n",
      "Epoch 34/100\n",
      "189/189 - 0s - loss: 0.0149 - mse: 0.0149 - mae: 0.0965 - mape: 27.6834 - val_loss: 0.0258 - val_mse: 0.0258 - val_mae: 0.1327 - val_mape: 29.5163 - 372ms/epoch - 2ms/step\n",
      "Epoch 35/100\n",
      "189/189 - 0s - loss: 0.0147 - mse: 0.0147 - mae: 0.0967 - mape: 28.0020 - val_loss: 0.0263 - val_mse: 0.0263 - val_mae: 0.1352 - val_mape: 29.4695 - 403ms/epoch - 2ms/step\n",
      "Epoch 36/100\n",
      "189/189 - 1s - loss: 0.0146 - mse: 0.0146 - mae: 0.0959 - mape: 27.7028 - val_loss: 0.0256 - val_mse: 0.0256 - val_mae: 0.1320 - val_mape: 29.4671 - 504ms/epoch - 3ms/step\n",
      "Epoch 37/100\n",
      "189/189 - 0s - loss: 0.0145 - mse: 0.0145 - mae: 0.0966 - mape: 27.7791 - val_loss: 0.0257 - val_mse: 0.0257 - val_mae: 0.1323 - val_mape: 29.4846 - 403ms/epoch - 2ms/step\n",
      "Epoch 38/100\n",
      "189/189 - 0s - loss: 0.0143 - mse: 0.0143 - mae: 0.0938 - mape: 26.6619 - val_loss: 0.0255 - val_mse: 0.0255 - val_mae: 0.1297 - val_mape: 29.6818 - 441ms/epoch - 2ms/step\n",
      "9/9 [==============================] - 0s 1ms/step\n",
      "3/3 [==============================] - 0s 1ms/step\n"
     ]
    },
    {
     "data": {
      "image/png": "[encoded data removed]",
      "text/plain": [
       "<Figure size 432x288 with 1 Axes>"
      ]
     },
     "metadata": {
      "needs_background": "light"
     },
     "output_type": "display_data"
    },
    {
     "data": {
      "text/plain": [
       "(<keras.callbacks.History at 0x25da7fd6fd0>,\n",
       " 'Train Score: 2.27 RMSE',\n",
       " 'Test Score: 2.17 RMSE',\n",
       " None)"
      ]
     },
     "execution_count": 9,
     "metadata": {},
     "output_type": "execute_result"
    }
   ],
   "source": [
    "BoatModel(ais_fishing_df)"
   ]
  },
  {
   "cell_type": "code",
   "execution_count": null,
   "id": "2b50468f",
   "metadata": {
    "scrolled": true
   },
   "outputs": [],
   "source": [
    "# Check the function with 'total'\n",
    "BoatModel(ais_total_df)"
   ]
  },
  {
   "cell_type": "code",
   "execution_count": null,
   "id": "e17608de",
   "metadata": {},
   "outputs": [],
   "source": [
    "# Convert the DataFrame into an array, and change the type to floats for the Neural Network\n",
    "\n",
    "total = ais_total_df.values\n",
    "total = total.astype('float32')"
   ]
  },
  {
   "cell_type": "code",
   "execution_count": null,
   "id": "86df82cc",
   "metadata": {},
   "outputs": [],
   "source": [
    "# Normalize the data by using a scaler\n",
    "scaler = MinMaxScaler(feature_range=(0, 1))\n",
    "total = scaler.fit_transform(total)"
   ]
  },
  {
   "cell_type": "code",
   "execution_count": null,
   "id": "d31a5f56",
   "metadata": {},
   "outputs": [],
   "source": [
    "# Split our data into training and testing using slicing, and check the length\n",
    "\n",
    "# Determin the length of what our split will be\n",
    "total_split = int(len(total) * 0.75)\n",
    "\n",
    "#Slice the data and print the results\n",
    "train, test = total[:total_split], total[total_split:]\n",
    "print(len(train), len(test))\n"
   ]
  },
  {
   "cell_type": "code",
   "execution_count": null,
   "id": "73a5382f",
   "metadata": {},
   "outputs": [],
   "source": [
    "# Convert an array of values into a dataset matrix\n",
    "def create_dataset(dataset, look_back=1):\n",
    "    dataX, dataY = [], []\n",
    "    for i in range(len(dataset)-look_back-1):\n",
    "        a = dataset[i:(i+look_back), 0]\n",
    "        dataX.append(a)\n",
    "        dataY.append(dataset[i + look_back, 0])\n",
    "    return np.array(dataX), np.array(dataY)"
   ]
  },
  {
   "cell_type": "code",
   "execution_count": null,
   "id": "6c8d5012",
   "metadata": {},
   "outputs": [],
   "source": [
    "# Reshape the values into X=t and Y=t+1\n",
    "look_back = 1\n",
    "trainX, trainY = create_dataset(train, look_back)\n",
    "testX, testY = create_dataset(test, look_back)"
   ]
  },
  {
   "cell_type": "code",
   "execution_count": null,
   "id": "d28928b0",
   "metadata": {},
   "outputs": [],
   "source": [
    "# Reshape the data to incorperate into the LSTM\n",
    "trainX = np.reshape(trainX, (trainX.shape[0], 1, trainX.shape[1]))\n",
    "testX = np.reshape(testX, (testX.shape[0], 1, testX.shape[1]))"
   ]
  },
  {
   "cell_type": "code",
   "execution_count": null,
   "id": "35c4fbd1",
   "metadata": {},
   "outputs": [],
   "source": [
    "# create and fit the LSTM network\n",
    "model = Sequential()\n",
    "\n",
    "# Create the initial layer\n",
    "model.add(LSTM(4, activation='relu', input_shape=(1, look_back)))\n",
    "\n",
    "# Create the second layer\n",
    "model.add(Dense(2))\n",
    "\n",
    "# Create the third layer\n",
    "model.add(Dense(1))"
   ]
  },
  {
   "cell_type": "code",
   "execution_count": null,
   "id": "2528d2ae",
   "metadata": {
    "scrolled": true
   },
   "outputs": [],
   "source": [
    "# Check the summary of the model\n",
    "model.summary()"
   ]
  },
  {
   "cell_type": "code",
   "execution_count": null,
   "id": "9ca304de",
   "metadata": {},
   "outputs": [],
   "source": [
    "# Compile the model\n",
    "model.compile(loss='mean_squared_error', optimizer='adam', metrics=['mse', 'mae', 'mape'])"
   ]
  },
  {
   "cell_type": "code",
   "execution_count": null,
   "id": "3bc780ec",
   "metadata": {},
   "outputs": [],
   "source": [
    "# Creating callbacks to load the model for a future time\n",
    "es = [EarlyStopping(monitor='loss', patience=15)]"
   ]
  },
  {
   "cell_type": "code",
   "execution_count": null,
   "id": "2e4ca600",
   "metadata": {},
   "outputs": [],
   "source": [
    "# Train the model\n",
    "fit_model = model.fit(trainX, trainY, epochs=100, validation_split=0.3, batch_size=1, verbose=2, callbacks=[es])"
   ]
  },
  {
   "cell_type": "code",
   "execution_count": null,
   "id": "4fb6bb13",
   "metadata": {},
   "outputs": [],
   "source": [
    "#Check the keys of the model\n",
    "fit_model.history.keys()"
   ]
  },
  {
   "cell_type": "code",
   "execution_count": null,
   "id": "32eb5b3c",
   "metadata": {},
   "outputs": [],
   "source": [
    "# Display the loss\n",
    "plt.plot(fit_model.history[\"loss\"])"
   ]
  },
  {
   "cell_type": "code",
   "execution_count": null,
   "id": "3060f92f",
   "metadata": {},
   "outputs": [],
   "source": [
    "# Display the MSE, which should be equal to the loss\n",
    "plt.plot(fit_model.history[\"mse\"])"
   ]
  },
  {
   "cell_type": "code",
   "execution_count": null,
   "id": "c8bd52cd",
   "metadata": {
    "scrolled": true
   },
   "outputs": [],
   "source": [
    "# Display the mae\n",
    "plt.plot(fit_model.history[\"mae\"])"
   ]
  },
  {
   "cell_type": "code",
   "execution_count": null,
   "id": "50133752",
   "metadata": {
    "scrolled": false
   },
   "outputs": [],
   "source": [
    "# Display the mape\n",
    "plt.plot(fit_model.history[\"mape\"])"
   ]
  },
  {
   "cell_type": "code",
   "execution_count": null,
   "id": "51e15162",
   "metadata": {},
   "outputs": [],
   "source": [
    "# Display the val_loss\n",
    "plt.plot(fit_model.history[\"val_loss\"])"
   ]
  },
  {
   "cell_type": "code",
   "execution_count": null,
   "id": "4f39a4f7",
   "metadata": {
    "scrolled": true
   },
   "outputs": [],
   "source": [
    "# Display the val_mse\n",
    "plt.plot(fit_model.history[\"val_mse\"])"
   ]
  },
  {
   "cell_type": "code",
   "execution_count": null,
   "id": "6c8b2c72",
   "metadata": {
    "scrolled": true
   },
   "outputs": [],
   "source": [
    "# Display the val_mae\n",
    "plt.plot(fit_model.history[\"val_mae\"])"
   ]
  },
  {
   "cell_type": "code",
   "execution_count": null,
   "id": "eee75c96",
   "metadata": {},
   "outputs": [],
   "source": [
    "# Display the val_mape\n",
    "plt.plot(fit_model.history[\"val_mape\"])"
   ]
  },
  {
   "cell_type": "code",
   "execution_count": null,
   "id": "f6b16dad",
   "metadata": {
    "scrolled": true
   },
   "outputs": [],
   "source": [
    "# Make predictions\n",
    "trainPredict = model.predict(trainX)\n",
    "testPredict = model.predict(testX)"
   ]
  },
  {
   "cell_type": "code",
   "execution_count": null,
   "id": "1d754fa5",
   "metadata": {},
   "outputs": [],
   "source": [
    "# Invert predictions\n",
    "trainPredict = scaler.inverse_transform(trainPredict)\n",
    "trainY = scaler.inverse_transform([trainY])\n",
    "testPredict = scaler.inverse_transform(testPredict)\n",
    "testY = scaler.inverse_transform([testY])"
   ]
  },
  {
   "cell_type": "code",
   "execution_count": null,
   "id": "555906d6",
   "metadata": {},
   "outputs": [],
   "source": [
    "# Calculate root mean squared error\n",
    "trainScore = math.sqrt(mean_squared_error(trainY[0], trainPredict[:,0]))\n",
    "print('Train Score: %.2f RMSE' % (trainScore))\n",
    "testScore = math.sqrt(mean_squared_error(testY[0], testPredict[:,0]))\n",
    "print('Test Score: %.2f RMSE' % (testScore))"
   ]
  },
  {
   "cell_type": "code",
   "execution_count": null,
   "id": "3a578b09",
   "metadata": {},
   "outputs": [],
   "source": [
    "# shift train predictions for plotting\n",
    "trainPredictPlot = np.empty_like(total)\n",
    "trainPredictPlot[:, :] = np.nan\n",
    "trainPredictPlot[look_back:len(trainPredict)+look_back, :] = trainPredict\n",
    "# shift test predictions for plotting\n",
    "testPredictPlot = np.empty_like(total)\n",
    "testPredictPlot[:, :] = np.nan\n",
    "testPredictPlot[len(trainPredict)+(look_back*2)+1:len(total)-1, :] = testPredict\n",
    "# plot baseline and predictions\n",
    "plt.plot(scaler.inverse_transform(total))\n",
    "plt.plot(trainPredictPlot)\n",
    "plt.plot(testPredictPlot)\n",
    "plt.show()"
   ]
  },
  {
   "cell_type": "code",
   "execution_count": null,
   "id": "0eb938d3",
   "metadata": {},
   "outputs": [],
   "source": []
  }
 ],
 "metadata": {
  "kernelspec": {
   "display_name": "mlenv",
   "language": "python",
   "name": "mlenv"
  },
  "language_info": {
   "codemirror_mode": {
    "name": "ipython",
    "version": 3
   },
   "file_extension": ".py",
   "mimetype": "text/x-python",
   "name": "python",
   "nbconvert_exporter": "python",
   "pygments_lexer": "ipython3",
   "version": "3.9.7"
  }
 },
 "nbformat": 4,
 "nbformat_minor": 5
}
