{
 "cells": [
  {
   "cell_type": "code",
   "execution_count": 1,
   "id": "b431f951",
   "metadata": {},
   "outputs": [],
   "source": [
    "# Import our dependencies\n",
    "import math\n",
    "\n",
    "import tensorflow as tf\n",
    "from tensorflow import keras\n",
    "from tensorflow.keras import layers\n",
    "from tensorflow.keras.utils import Sequence\n",
    "from keras.models import Sequential\n",
    "from keras.layers import Dense, LSTM, Dropout\n",
    "from sklearn.preprocessing import MinMaxScaler\n",
    "from sklearn.metrics import mean_squared_error\n",
    "import matplotlib.pyplot as plt\n",
    "\n",
    "import numpy as np\n",
    "import pandas as pd\n",
    "import time\n",
    "\n",
    "import os\n",
    "\n",
    "# Upload and read the csv files\n",
    "ais_df = pd.read_csv(\"ml_data_daily_2018.csv\", index_col=0)"
   ]
  },
  {
   "cell_type": "code",
   "execution_count": 2,
   "id": "586f392c",
   "metadata": {},
   "outputs": [],
   "source": [
    "# Fix a random seed so the data can be reproduced\n",
    "np.random.seed(24)"
   ]
  },
  {
   "cell_type": "code",
   "execution_count": 3,
   "id": "fa959ae4",
   "metadata": {
    "scrolled": true
   },
   "outputs": [
    {
     "data": {
      "text/html": [
       "<div>\n",
       "<style scoped>\n",
       "    .dataframe tbody tr th:only-of-type {\n",
       "        vertical-align: middle;\n",
       "    }\n",
       "\n",
       "    .dataframe tbody tr th {\n",
       "        vertical-align: top;\n",
       "    }\n",
       "\n",
       "    .dataframe thead th {\n",
       "        text-align: right;\n",
       "    }\n",
       "</style>\n",
       "<table border=\"1\" class=\"dataframe\">\n",
       "  <thead>\n",
       "    <tr style=\"text-align: right;\">\n",
       "      <th></th>\n",
       "      <th>Fishing</th>\n",
       "      <th>TugTow</th>\n",
       "      <th>Recreational</th>\n",
       "      <th>Passenger</th>\n",
       "      <th>Cargo</th>\n",
       "      <th>Tanker</th>\n",
       "      <th>Other</th>\n",
       "      <th>Unavailable</th>\n",
       "    </tr>\n",
       "  </thead>\n",
       "  <tbody>\n",
       "    <tr>\n",
       "      <th>2018/01/01</th>\n",
       "      <td>9</td>\n",
       "      <td>37</td>\n",
       "      <td>145</td>\n",
       "      <td>44</td>\n",
       "      <td>27</td>\n",
       "      <td>13</td>\n",
       "      <td>12</td>\n",
       "      <td>7</td>\n",
       "    </tr>\n",
       "    <tr>\n",
       "      <th>2018/01/02</th>\n",
       "      <td>13</td>\n",
       "      <td>45</td>\n",
       "      <td>119</td>\n",
       "      <td>41</td>\n",
       "      <td>27</td>\n",
       "      <td>14</td>\n",
       "      <td>19</td>\n",
       "      <td>10</td>\n",
       "    </tr>\n",
       "    <tr>\n",
       "      <th>2018/01/03</th>\n",
       "      <td>13</td>\n",
       "      <td>44</td>\n",
       "      <td>106</td>\n",
       "      <td>40</td>\n",
       "      <td>36</td>\n",
       "      <td>14</td>\n",
       "      <td>20</td>\n",
       "      <td>11</td>\n",
       "    </tr>\n",
       "    <tr>\n",
       "      <th>2018/01/04</th>\n",
       "      <td>15</td>\n",
       "      <td>44</td>\n",
       "      <td>103</td>\n",
       "      <td>45</td>\n",
       "      <td>30</td>\n",
       "      <td>10</td>\n",
       "      <td>15</td>\n",
       "      <td>12</td>\n",
       "    </tr>\n",
       "    <tr>\n",
       "      <th>2018/01/05</th>\n",
       "      <td>10</td>\n",
       "      <td>45</td>\n",
       "      <td>107</td>\n",
       "      <td>41</td>\n",
       "      <td>26</td>\n",
       "      <td>13</td>\n",
       "      <td>21</td>\n",
       "      <td>10</td>\n",
       "    </tr>\n",
       "  </tbody>\n",
       "</table>\n",
       "</div>"
      ],
      "text/plain": [
       "            Fishing  TugTow  Recreational  Passenger  Cargo  Tanker  Other  \\\n",
       "2018/01/01        9      37           145         44     27      13     12   \n",
       "2018/01/02       13      45           119         41     27      14     19   \n",
       "2018/01/03       13      44           106         40     36      14     20   \n",
       "2018/01/04       15      44           103         45     30      10     15   \n",
       "2018/01/05       10      45           107         41     26      13     21   \n",
       "\n",
       "            Unavailable  \n",
       "2018/01/01            7  \n",
       "2018/01/02           10  \n",
       "2018/01/03           11  \n",
       "2018/01/04           12  \n",
       "2018/01/05           10  "
      ]
     },
     "execution_count": 3,
     "metadata": {},
     "output_type": "execute_result"
    }
   ],
   "source": [
    "# Look at our data\n",
    "ais_df.head()"
   ]
  },
  {
   "cell_type": "code",
   "execution_count": 4,
   "id": "2ffef8e7",
   "metadata": {},
   "outputs": [],
   "source": [
    "# # Renaming the \"Unnamed:0\" column to \"Date\"\n",
    "# ais_df.rename(columns={'Unnamed: 0': 'Date'}, inplace=True)\n",
    "# ais_df.head()"
   ]
  },
  {
   "cell_type": "code",
   "execution_count": 5,
   "id": "6aae8f74",
   "metadata": {},
   "outputs": [],
   "source": [
    "# Check the info of the DataFrame to see the type of data in each column and to make sure we have clean data\n",
    "# ais_df.info()"
   ]
  },
  {
   "cell_type": "code",
   "execution_count": 6,
   "id": "c33accd5",
   "metadata": {},
   "outputs": [],
   "source": [
    "# # Convert \"Date\" to datetime\n",
    "# ais_df['Date']=pd.to_datetime(ais_df['Date'])\n",
    "\n",
    "# # And recheck info\n",
    "# ais_df.info()"
   ]
  },
  {
   "cell_type": "code",
   "execution_count": 7,
   "id": "1455e23e",
   "metadata": {
    "scrolled": true
   },
   "outputs": [
    {
     "data": {
      "text/html": [
       "<div>\n",
       "<style scoped>\n",
       "    .dataframe tbody tr th:only-of-type {\n",
       "        vertical-align: middle;\n",
       "    }\n",
       "\n",
       "    .dataframe tbody tr th {\n",
       "        vertical-align: top;\n",
       "    }\n",
       "\n",
       "    .dataframe thead th {\n",
       "        text-align: right;\n",
       "    }\n",
       "</style>\n",
       "<table border=\"1\" class=\"dataframe\">\n",
       "  <thead>\n",
       "    <tr style=\"text-align: right;\">\n",
       "      <th></th>\n",
       "      <th>Fishing</th>\n",
       "      <th>TugTow</th>\n",
       "      <th>Recreational</th>\n",
       "      <th>Passenger</th>\n",
       "      <th>Cargo</th>\n",
       "      <th>Tanker</th>\n",
       "      <th>Other</th>\n",
       "      <th>Unavailable</th>\n",
       "      <th>Total</th>\n",
       "    </tr>\n",
       "  </thead>\n",
       "  <tbody>\n",
       "    <tr>\n",
       "      <th>2018/01/01</th>\n",
       "      <td>9</td>\n",
       "      <td>37</td>\n",
       "      <td>145</td>\n",
       "      <td>44</td>\n",
       "      <td>27</td>\n",
       "      <td>13</td>\n",
       "      <td>12</td>\n",
       "      <td>7</td>\n",
       "      <td>294</td>\n",
       "    </tr>\n",
       "    <tr>\n",
       "      <th>2018/01/02</th>\n",
       "      <td>13</td>\n",
       "      <td>45</td>\n",
       "      <td>119</td>\n",
       "      <td>41</td>\n",
       "      <td>27</td>\n",
       "      <td>14</td>\n",
       "      <td>19</td>\n",
       "      <td>10</td>\n",
       "      <td>288</td>\n",
       "    </tr>\n",
       "    <tr>\n",
       "      <th>2018/01/03</th>\n",
       "      <td>13</td>\n",
       "      <td>44</td>\n",
       "      <td>106</td>\n",
       "      <td>40</td>\n",
       "      <td>36</td>\n",
       "      <td>14</td>\n",
       "      <td>20</td>\n",
       "      <td>11</td>\n",
       "      <td>284</td>\n",
       "    </tr>\n",
       "    <tr>\n",
       "      <th>2018/01/04</th>\n",
       "      <td>15</td>\n",
       "      <td>44</td>\n",
       "      <td>103</td>\n",
       "      <td>45</td>\n",
       "      <td>30</td>\n",
       "      <td>10</td>\n",
       "      <td>15</td>\n",
       "      <td>12</td>\n",
       "      <td>274</td>\n",
       "    </tr>\n",
       "    <tr>\n",
       "      <th>2018/01/05</th>\n",
       "      <td>10</td>\n",
       "      <td>45</td>\n",
       "      <td>107</td>\n",
       "      <td>41</td>\n",
       "      <td>26</td>\n",
       "      <td>13</td>\n",
       "      <td>21</td>\n",
       "      <td>10</td>\n",
       "      <td>273</td>\n",
       "    </tr>\n",
       "  </tbody>\n",
       "</table>\n",
       "</div>"
      ],
      "text/plain": [
       "            Fishing  TugTow  Recreational  Passenger  Cargo  Tanker  Other  \\\n",
       "2018/01/01        9      37           145         44     27      13     12   \n",
       "2018/01/02       13      45           119         41     27      14     19   \n",
       "2018/01/03       13      44           106         40     36      14     20   \n",
       "2018/01/04       15      44           103         45     30      10     15   \n",
       "2018/01/05       10      45           107         41     26      13     21   \n",
       "\n",
       "            Unavailable  Total  \n",
       "2018/01/01            7    294  \n",
       "2018/01/02           10    288  \n",
       "2018/01/03           11    284  \n",
       "2018/01/04           12    274  \n",
       "2018/01/05           10    273  "
      ]
     },
     "execution_count": 7,
     "metadata": {},
     "output_type": "execute_result"
    }
   ],
   "source": [
    "# Creating a total column for our data\n",
    "ais_df['Total']= ais_df.sum(numeric_only=True, axis=1)\n",
    "ais_df.head()"
   ]
  },
  {
   "cell_type": "code",
   "execution_count": 8,
   "id": "c7b8ac95",
   "metadata": {
    "scrolled": true
   },
   "outputs": [
    {
     "name": "stdout",
     "output_type": "stream",
     "text": [
      "<class 'pandas.core.frame.DataFrame'>\n",
      "Index: 365 entries, 2018/01/01 to 2018/12/31\n",
      "Data columns (total 9 columns):\n",
      " #   Column        Non-Null Count  Dtype\n",
      "---  ------        --------------  -----\n",
      " 0   Fishing       365 non-null    int64\n",
      " 1   TugTow        365 non-null    int64\n",
      " 2   Recreational  365 non-null    int64\n",
      " 3   Passenger     365 non-null    int64\n",
      " 4   Cargo         365 non-null    int64\n",
      " 5   Tanker        365 non-null    int64\n",
      " 6   Other         365 non-null    int64\n",
      " 7   Unavailable   365 non-null    int64\n",
      " 8   Total         365 non-null    int64\n",
      "dtypes: int64(9)\n",
      "memory usage: 28.5+ KB\n"
     ]
    }
   ],
   "source": [
    "# Check the info one last time now that we have our new column\n",
    "ais_df.info()"
   ]
  },
  {
   "cell_type": "code",
   "execution_count": 9,
   "id": "6ba0f154",
   "metadata": {},
   "outputs": [
    {
     "name": "stdout",
     "output_type": "stream",
     "text": [
      "<class 'pandas.core.frame.DataFrame'>\n",
      "Index: 365 entries, 2018/01/01 to 2018/12/31\n",
      "Data columns (total 9 columns):\n",
      " #   Column        Non-Null Count  Dtype  \n",
      "---  ------        --------------  -----  \n",
      " 0   Fishing       365 non-null    float32\n",
      " 1   TugTow        365 non-null    float32\n",
      " 2   Recreational  365 non-null    float32\n",
      " 3   Passenger     365 non-null    float32\n",
      " 4   Cargo         365 non-null    float32\n",
      " 5   Tanker        365 non-null    float32\n",
      " 6   Other         365 non-null    float32\n",
      " 7   Unavailable   365 non-null    float32\n",
      " 8   Total         365 non-null    float32\n",
      "dtypes: float32(9)\n",
      "memory usage: 15.7+ KB\n"
     ]
    }
   ],
   "source": [
    "# Convert the values in the DataFrame to floating point values, which will help with the Neural Network,\n",
    "ais_df = ais_df.astype('float32')\n",
    "\n",
    "# And then check the type\n",
    "ais_df.info()"
   ]
  },
  {
   "cell_type": "code",
   "execution_count": 10,
   "id": "17356cb5",
   "metadata": {},
   "outputs": [],
   "source": [
    "# Create nine DataFrames, each with the Date and one unique column:\n",
    "\n",
    "# Fishing\n",
    "#ais_fishing_df = ais_df.loc[:, ['Date', 'Fishing']]\n",
    "ais_fishing_df = ais_df.loc[:, ['Fishing']]\n",
    "# TugTow\n",
    "#ais_tugtow_df = ais_df.loc[:, ['Date', 'TugTow']]\n",
    "ais_tugtow_df = ais_df.loc[:, ['TugTow']]\n",
    "# Recreational\n",
    "#ais_recreational_df = ais_df.loc[:, ['Date', 'Recreational']]\n",
    "ais_recreational_df = ais_df.loc[:, ['Recreational']]\n",
    "# Passenger\n",
    "#ais_passenger_df = ais_df.loc[:, ['Date', 'Passenger']]\n",
    "ais_passenger_df = ais_df.loc[:, ['Passenger']]\n",
    "# Cargo\n",
    "#ais_cargo_df = ais_df.loc[:, ['Date', 'Cargo']]\n",
    "ais_cargo_df = ais_df.loc[:, ['Cargo']]\n",
    "# Tanker\n",
    "#ais_tanker_df = ais_df.loc[:, ['Date', 'Tanker']]\n",
    "ais_tanker_df = ais_df.loc[:, ['Tanker']]\n",
    "# Other\n",
    "#ais_other_df = ais_df.loc[:, ['Date', 'Other']]\n",
    "ais_other_df = ais_df.loc[:, ['Other']]\n",
    "# Unavailable\n",
    "#ais_unavailable_df = ais_df.loc[:, ['Date', 'Unavailable']]\n",
    "ais_unavailable_df = ais_df.loc[:, ['Unavailable']]\n",
    "# Total\n",
    "#ais_total_df = ais_df.loc[:, ['Date', 'Total']]\n",
    "ais_total_df = ais_df.loc[:, ['Total']]"
   ]
  },
  {
   "cell_type": "code",
   "execution_count": 11,
   "id": "c69479f8",
   "metadata": {
    "scrolled": true
   },
   "outputs": [
    {
     "data": {
      "text/html": [
       "<div>\n",
       "<style scoped>\n",
       "    .dataframe tbody tr th:only-of-type {\n",
       "        vertical-align: middle;\n",
       "    }\n",
       "\n",
       "    .dataframe tbody tr th {\n",
       "        vertical-align: top;\n",
       "    }\n",
       "\n",
       "    .dataframe thead th {\n",
       "        text-align: right;\n",
       "    }\n",
       "</style>\n",
       "<table border=\"1\" class=\"dataframe\">\n",
       "  <thead>\n",
       "    <tr style=\"text-align: right;\">\n",
       "      <th></th>\n",
       "      <th>Total</th>\n",
       "    </tr>\n",
       "  </thead>\n",
       "  <tbody>\n",
       "    <tr>\n",
       "      <th>2018/01/01</th>\n",
       "      <td>294.0</td>\n",
       "    </tr>\n",
       "    <tr>\n",
       "      <th>2018/01/02</th>\n",
       "      <td>288.0</td>\n",
       "    </tr>\n",
       "    <tr>\n",
       "      <th>2018/01/03</th>\n",
       "      <td>284.0</td>\n",
       "    </tr>\n",
       "    <tr>\n",
       "      <th>2018/01/04</th>\n",
       "      <td>274.0</td>\n",
       "    </tr>\n",
       "    <tr>\n",
       "      <th>2018/01/05</th>\n",
       "      <td>273.0</td>\n",
       "    </tr>\n",
       "    <tr>\n",
       "      <th>...</th>\n",
       "      <td>...</td>\n",
       "    </tr>\n",
       "    <tr>\n",
       "      <th>2018/12/27</th>\n",
       "      <td>298.0</td>\n",
       "    </tr>\n",
       "    <tr>\n",
       "      <th>2018/12/28</th>\n",
       "      <td>298.0</td>\n",
       "    </tr>\n",
       "    <tr>\n",
       "      <th>2018/12/29</th>\n",
       "      <td>306.0</td>\n",
       "    </tr>\n",
       "    <tr>\n",
       "      <th>2018/12/30</th>\n",
       "      <td>308.0</td>\n",
       "    </tr>\n",
       "    <tr>\n",
       "      <th>2018/12/31</th>\n",
       "      <td>297.0</td>\n",
       "    </tr>\n",
       "  </tbody>\n",
       "</table>\n",
       "<p>365 rows × 1 columns</p>\n",
       "</div>"
      ],
      "text/plain": [
       "            Total\n",
       "2018/01/01  294.0\n",
       "2018/01/02  288.0\n",
       "2018/01/03  284.0\n",
       "2018/01/04  274.0\n",
       "2018/01/05  273.0\n",
       "...           ...\n",
       "2018/12/27  298.0\n",
       "2018/12/28  298.0\n",
       "2018/12/29  306.0\n",
       "2018/12/30  308.0\n",
       "2018/12/31  297.0\n",
       "\n",
       "[365 rows x 1 columns]"
      ]
     },
     "execution_count": 11,
     "metadata": {},
     "output_type": "execute_result"
    }
   ],
   "source": [
    "# From here we will be using 'Total' as an example, and repeating the code for the rest of the data\n",
    "\n",
    "# Check the new Dataframe\n",
    "ais_total_df"
   ]
  },
  {
   "cell_type": "code",
   "execution_count": 12,
   "id": "86df82cc",
   "metadata": {},
   "outputs": [],
   "source": [
    "# Normalize the data by using a scaler\n",
    "scaler = MinMaxScaler(feature_range=(0, 1))\n",
    "ais_total_df = scaler.fit_transform(ais_total_df)"
   ]
  },
  {
   "cell_type": "code",
   "execution_count": 13,
   "id": "e316a9d5",
   "metadata": {},
   "outputs": [
    {
     "data": {
      "text/plain": [
       "(365, 1)"
      ]
     },
     "execution_count": 13,
     "metadata": {},
     "output_type": "execute_result"
    }
   ],
   "source": [
    "ais_total_df.shape"
   ]
  },
  {
   "cell_type": "code",
   "execution_count": 14,
   "id": "d31a5f56",
   "metadata": {},
   "outputs": [],
   "source": [
    "# # Split our data into training and testing, using slicing\n",
    "\n",
    "# #total_val_ind = int(len(ais_total_df)*0.8)\n",
    "# total_train_size = int(len(ais_total_df)*0.75)\n",
    "\n",
    "# total_train_df = ais_total_df[:total_train_size]\n",
    "# total_test_df = ais_total_df[total_train_size:]\n",
    "\n",
    "# #total_val_df = ais_total_df[total_val_ind:total_train_ind]"
   ]
  },
  {
   "cell_type": "code",
   "execution_count": 15,
   "id": "7e9e21ae",
   "metadata": {
    "scrolled": false
   },
   "outputs": [],
   "source": [
    "# #Check out the datasets\n",
    "# print(len(total_train_df), len(total_test_df))\n",
    "# #print(total_val_df)\n"
   ]
  },
  {
   "cell_type": "code",
   "execution_count": 16,
   "id": "73a5382f",
   "metadata": {},
   "outputs": [],
   "source": [
    "# # Convert an array of values into a dataset matrix\n",
    "# def create_dataset(dataset, look_back=1):\n",
    "#     dataX, dataY = [], []\n",
    "#     for i in range(len(dataset)-look_back-1):\n",
    "#         a = dataset[i:(i+look_back), 0]\n",
    "#         dataX.append(a)\n",
    "#         dataY.append(dataset[i + look_back, 0])\n",
    "#     return np.array(dataX), np.array(dataY)\n"
   ]
  },
  {
   "cell_type": "code",
   "execution_count": 17,
   "id": "6c8d5012",
   "metadata": {},
   "outputs": [],
   "source": [
    "# # Reshape the values into X=t and Y=t+1\n",
    "# look_back = 1\n",
    "# total_train_X, total_train_Y = create_dataset(total_train_df, look_back)\n",
    "# total_test_X, total_test_Y = create_dataset(total_test_df, look_back)"
   ]
  },
  {
   "cell_type": "code",
   "execution_count": 18,
   "id": "d28928b0",
   "metadata": {},
   "outputs": [],
   "source": [
    "# # Reshape the data to incorperate into the LSTM\n",
    "# total_train_X = np.reshape(total_train_X, (total_train_X.shape[0], 1, total_train_X.shape[1]))\n",
    "# total_test_X = np.reshape(total_test_X, (total_test_X.shape[0], 1, total_test_X.shape[1]))"
   ]
  },
  {
   "cell_type": "code",
   "execution_count": 19,
   "id": "63fcd340",
   "metadata": {},
   "outputs": [],
   "source": [
    "#total_train_X.shape"
   ]
  },
  {
   "cell_type": "code",
   "execution_count": 20,
   "id": "ba4cc93c",
   "metadata": {},
   "outputs": [],
   "source": [
    "# Create the LSTM Model\n",
    "\n",
    "model = Sequential()\n",
    "\n",
    "# Recurrent layer\n",
    "model.add(LSTM(4, input_dim=1))\n",
    "\n",
    "# Fully connected layer\n",
    "model.add(Dense(1))\n",
    "\n",
    "# Dropout for regularization\n",
    "#model.add(Dropout(0.2))\n",
    "\n",
    "# Output layer\n",
    "#model.add(Dense(units=1, activation='softmax'))\n",
    "\n",
    "# Recurrent layer\n",
    "#model.add(LSTM(292, activation='relu', input_shape=(total_train_df.shape[0], total_train_df.shape[1]), return_sequences=False, dropout=0.1, recurrent_dropout=0.1))\n",
    "\n",
    "# Fully connected layer\n",
    "#model.add(Dense(units=64, activation='relu'))"
   ]
  },
  {
   "cell_type": "code",
   "execution_count": 21,
   "id": "e5a6246b",
   "metadata": {
    "scrolled": false
   },
   "outputs": [
    {
     "name": "stdout",
     "output_type": "stream",
     "text": [
      "Model: \"sequential\"\n",
      "_________________________________________________________________\n",
      " Layer (type)                Output Shape              Param #   \n",
      "=================================================================\n",
      " lstm (LSTM)                 (None, 4)                 96        \n",
      "                                                                 \n",
      " dense (Dense)               (None, 1)                 5         \n",
      "                                                                 \n",
      "=================================================================\n",
      "Total params: 101\n",
      "Trainable params: 101\n",
      "Non-trainable params: 0\n",
      "_________________________________________________________________\n"
     ]
    }
   ],
   "source": [
    "# Check the structure of the model\n",
    "model.summary()"
   ]
  },
  {
   "cell_type": "code",
   "execution_count": 22,
   "id": "b328f8f8",
   "metadata": {},
   "outputs": [],
   "source": [
    "#Compile the Model\n",
    "model.compile(optimizer='adam', loss='mse', metrics=['mse', 'mae', 'mape'])"
   ]
  },
  {
   "cell_type": "code",
   "execution_count": 23,
   "id": "5e0e2eb8",
   "metadata": {
    "scrolled": true
   },
   "outputs": [
    {
     "name": "stdout",
     "output_type": "stream",
     "text": [
      "Epoch 1/20\n",
      "365/365 - 2s - loss: 0.0433 - mse: 0.0433 - mae: 0.1590 - mape: 567062.8125 - 2s/epoch - 6ms/step\n",
      "Epoch 2/20\n",
      "365/365 - 1s - loss: 0.0103 - mse: 0.0103 - mae: 0.0816 - mape: 615719.6875 - 619ms/epoch - 2ms/step\n",
      "Epoch 3/20\n",
      "365/365 - 1s - loss: 0.0061 - mse: 0.0061 - mae: 0.0629 - mape: 487228.9688 - 735ms/epoch - 2ms/step\n",
      "Epoch 4/20\n",
      "365/365 - 1s - loss: 0.0029 - mse: 0.0029 - mae: 0.0425 - mape: 429519.4375 - 654ms/epoch - 2ms/step\n",
      "Epoch 5/20\n",
      "365/365 - 1s - loss: 9.9100e-04 - mse: 9.9100e-04 - mae: 0.0241 - mape: 270260.6875 - 644ms/epoch - 2ms/step\n",
      "Epoch 6/20\n",
      "365/365 - 1s - loss: 2.1657e-04 - mse: 2.1657e-04 - mae: 0.0106 - mape: 134796.7031 - 612ms/epoch - 2ms/step\n",
      "Epoch 7/20\n",
      "365/365 - 1s - loss: 3.5577e-05 - mse: 3.5577e-05 - mae: 0.0036 - mape: 108328.5469 - 627ms/epoch - 2ms/step\n",
      "Epoch 8/20\n",
      "365/365 - 1s - loss: 1.1960e-05 - mse: 1.1960e-05 - mae: 0.0020 - mape: 67591.4062 - 619ms/epoch - 2ms/step\n",
      "Epoch 9/20\n",
      "365/365 - 1s - loss: 1.0134e-05 - mse: 1.0134e-05 - mae: 0.0022 - mape: 59702.0156 - 605ms/epoch - 2ms/step\n",
      "Epoch 10/20\n",
      "365/365 - 1s - loss: 1.0310e-05 - mse: 1.0310e-05 - mae: 0.0022 - mape: 59218.3008 - 626ms/epoch - 2ms/step\n",
      "Epoch 11/20\n",
      "365/365 - 1s - loss: 9.8584e-06 - mse: 9.8584e-06 - mae: 0.0023 - mape: 58254.4258 - 618ms/epoch - 2ms/step\n",
      "Epoch 12/20\n",
      "365/365 - 1s - loss: 1.0185e-05 - mse: 1.0185e-05 - mae: 0.0022 - mape: 60899.4688 - 616ms/epoch - 2ms/step\n",
      "Epoch 13/20\n",
      "365/365 - 1s - loss: 9.6812e-06 - mse: 9.6812e-06 - mae: 0.0021 - mape: 58174.4062 - 587ms/epoch - 2ms/step\n",
      "Epoch 14/20\n",
      "365/365 - 1s - loss: 9.5435e-06 - mse: 9.5435e-06 - mae: 0.0021 - mape: 53495.8594 - 628ms/epoch - 2ms/step\n",
      "Epoch 15/20\n",
      "365/365 - 1s - loss: 1.0784e-05 - mse: 1.0784e-05 - mae: 0.0023 - mape: 54779.8359 - 605ms/epoch - 2ms/step\n",
      "Epoch 16/20\n",
      "365/365 - 1s - loss: 1.0068e-05 - mse: 1.0068e-05 - mae: 0.0022 - mape: 61168.5273 - 612ms/epoch - 2ms/step\n",
      "Epoch 17/20\n",
      "365/365 - 1s - loss: 9.5012e-06 - mse: 9.5012e-06 - mae: 0.0021 - mape: 54803.1797 - 601ms/epoch - 2ms/step\n",
      "Epoch 18/20\n",
      "365/365 - 1s - loss: 8.8295e-06 - mse: 8.8295e-06 - mae: 0.0020 - mape: 40041.4609 - 647ms/epoch - 2ms/step\n",
      "Epoch 19/20\n",
      "365/365 - 1s - loss: 1.1216e-05 - mse: 1.1216e-05 - mae: 0.0024 - mape: 47619.0352 - 598ms/epoch - 2ms/step\n",
      "Epoch 20/20\n",
      "365/365 - 1s - loss: 1.2127e-05 - mse: 1.2127e-05 - mae: 0.0025 - mape: 45769.6523 - 595ms/epoch - 2ms/step\n"
     ]
    }
   ],
   "source": [
    "# Train the model\n",
    "fit_model = model.fit(ais_total_df, ais_total_df, epochs=20, batch_size=1, verbose=2)"
   ]
  },
  {
   "cell_type": "code",
   "execution_count": 24,
   "id": "ed5d201e",
   "metadata": {},
   "outputs": [
    {
     "data": {
      "text/plain": [
       "dict_keys(['loss', 'mse', 'mae', 'mape'])"
      ]
     },
     "execution_count": 24,
     "metadata": {},
     "output_type": "execute_result"
    }
   ],
   "source": [
    "fit_model.history.keys()"
   ]
  },
  {
   "cell_type": "code",
   "execution_count": 25,
   "id": "f657853d",
   "metadata": {},
   "outputs": [
    {
     "data": {
      "text/plain": [
       "[<matplotlib.lines.Line2D at 0x15cef9c6250>]"
      ]
     },
     "execution_count": 25,
     "metadata": {},
     "output_type": "execute_result"
    },
    {
     "data": {
      "image/png": "[encoded data removed]",
      "text/plain": [
       "<Figure size 432x288 with 1 Axes>"
      ]
     },
     "metadata": {
      "needs_background": "light"
     },
     "output_type": "display_data"
    }
   ],
   "source": [
    "plt.plot(fit_model.history[\"loss\"])"
   ]
  },
  {
   "cell_type": "code",
   "execution_count": 26,
   "id": "8d6a7a1c",
   "metadata": {},
   "outputs": [
    {
     "data": {
      "text/plain": [
       "[<matplotlib.lines.Line2D at 0x15cf110e400>]"
      ]
     },
     "execution_count": 26,
     "metadata": {},
     "output_type": "execute_result"
    },
    {
     "data": {
      "image/png": "[encoded data removed]",
      "text/plain": [
       "<Figure size 432x288 with 1 Axes>"
      ]
     },
     "metadata": {
      "needs_background": "light"
     },
     "output_type": "display_data"
    }
   ],
   "source": [
    "plt.plot(fit_model.history[\"mse\"])"
   ]
  },
  {
   "cell_type": "code",
   "execution_count": 27,
   "id": "b5719102",
   "metadata": {},
   "outputs": [
    {
     "data": {
      "text/plain": [
       "[<matplotlib.lines.Line2D at 0x15cf1171df0>]"
      ]
     },
     "execution_count": 27,
     "metadata": {},
     "output_type": "execute_result"
    },
    {
     "data": {
      "image/png": "[encoded data removed]",
      "text/plain": [
       "<Figure size 432x288 with 1 Axes>"
      ]
     },
     "metadata": {
      "needs_background": "light"
     },
     "output_type": "display_data"
    }
   ],
   "source": [
    "plt.plot(fit_model.history[\"mae\"])"
   ]
  },
  {
   "cell_type": "code",
   "execution_count": 28,
   "id": "86907f44",
   "metadata": {},
   "outputs": [
    {
     "data": {
      "text/plain": [
       "[<matplotlib.lines.Line2D at 0x15cf11e1310>]"
      ]
     },
     "execution_count": 28,
     "metadata": {},
     "output_type": "execute_result"
    },
    {
     "data": {
      "image/png": "[encoded data removed]",
      "text/plain": [
       "<Figure size 432x288 with 1 Axes>"
      ]
     },
     "metadata": {
      "needs_background": "light"
     },
     "output_type": "display_data"
    }
   ],
   "source": [
    "plt.plot(fit_model.history[\"mape\"])"
   ]
  },
  {
   "cell_type": "code",
   "execution_count": 29,
   "id": "70708804",
   "metadata": {
    "scrolled": true
   },
   "outputs": [],
   "source": [
    "# for x in fit_model.history.keys():\n",
    "#     plt.plot(fit_model.history[x])"
   ]
  },
  {
   "cell_type": "code",
   "execution_count": null,
   "id": "5f7bb41b",
   "metadata": {},
   "outputs": [],
   "source": []
  }
 ],
 "metadata": {
  "kernelspec": {
   "display_name": "mlenv",
   "language": "python",
   "name": "mlenv"
  },
  "language_info": {
   "codemirror_mode": {
    "name": "ipython",
    "version": 3
   },
   "file_extension": ".py",
   "mimetype": "text/x-python",
   "name": "python",
   "nbconvert_exporter": "python",
   "pygments_lexer": "ipython3",
   "version": "3.9.7"
  }
 },
 "nbformat": 4,
 "nbformat_minor": 5
}
