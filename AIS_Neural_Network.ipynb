{
 "cells": [
  {
   "cell_type": "code",
   "execution_count": 1,
   "id": "efad01e7",
   "metadata": {},
   "outputs": [],
   "source": [
    "# Import our dependencies\n",
    "from sklearn.model_selection import train_test_split\n",
    "from sklearn.preprocessing import StandardScaler,OneHotEncoder\n",
    "import pandas as pd\n",
    "import tensorflow as tf\n",
    "import h5py\n",
    "import os\n",
    "from tensorflow.keras.callbacks import ModelCheckpoint\n",
    "\n",
    "# Upload and read the csv files\n",
    "ais_2018 = pd.read_csv(\"ml_data_daily_2018.csv\", index_col=0)"
   ]
  },
  {
   "cell_type": "code",
   "execution_count": 2,
   "id": "100e21ce",
   "metadata": {
    "scrolled": true
   },
   "outputs": [
    {
     "data": {
      "text/html": [
       "<div>\n",
       "<style scoped>\n",
       "    .dataframe tbody tr th:only-of-type {\n",
       "        vertical-align: middle;\n",
       "    }\n",
       "\n",
       "    .dataframe tbody tr th {\n",
       "        vertical-align: top;\n",
       "    }\n",
       "\n",
       "    .dataframe thead th {\n",
       "        text-align: right;\n",
       "    }\n",
       "</style>\n",
       "<table border=\"1\" class=\"dataframe\">\n",
       "  <thead>\n",
       "    <tr style=\"text-align: right;\">\n",
       "      <th></th>\n",
       "      <th>Fishing</th>\n",
       "      <th>TugTow</th>\n",
       "      <th>Recreational</th>\n",
       "      <th>Passenger</th>\n",
       "      <th>Cargo</th>\n",
       "      <th>Tanker</th>\n",
       "      <th>Other</th>\n",
       "      <th>Unavailable</th>\n",
       "    </tr>\n",
       "  </thead>\n",
       "  <tbody>\n",
       "    <tr>\n",
       "      <th>1/1/2018</th>\n",
       "      <td>9</td>\n",
       "      <td>37</td>\n",
       "      <td>145</td>\n",
       "      <td>44</td>\n",
       "      <td>27</td>\n",
       "      <td>13</td>\n",
       "      <td>12</td>\n",
       "      <td>7</td>\n",
       "    </tr>\n",
       "    <tr>\n",
       "      <th>1/2/2018</th>\n",
       "      <td>13</td>\n",
       "      <td>45</td>\n",
       "      <td>119</td>\n",
       "      <td>41</td>\n",
       "      <td>27</td>\n",
       "      <td>14</td>\n",
       "      <td>19</td>\n",
       "      <td>10</td>\n",
       "    </tr>\n",
       "    <tr>\n",
       "      <th>1/3/2018</th>\n",
       "      <td>13</td>\n",
       "      <td>44</td>\n",
       "      <td>106</td>\n",
       "      <td>40</td>\n",
       "      <td>36</td>\n",
       "      <td>14</td>\n",
       "      <td>20</td>\n",
       "      <td>11</td>\n",
       "    </tr>\n",
       "    <tr>\n",
       "      <th>1/4/2018</th>\n",
       "      <td>15</td>\n",
       "      <td>44</td>\n",
       "      <td>103</td>\n",
       "      <td>45</td>\n",
       "      <td>30</td>\n",
       "      <td>10</td>\n",
       "      <td>15</td>\n",
       "      <td>12</td>\n",
       "    </tr>\n",
       "    <tr>\n",
       "      <th>1/5/2018</th>\n",
       "      <td>10</td>\n",
       "      <td>45</td>\n",
       "      <td>107</td>\n",
       "      <td>41</td>\n",
       "      <td>26</td>\n",
       "      <td>13</td>\n",
       "      <td>21</td>\n",
       "      <td>10</td>\n",
       "    </tr>\n",
       "  </tbody>\n",
       "</table>\n",
       "</div>"
      ],
      "text/plain": [
       "          Fishing  TugTow  Recreational  Passenger  Cargo  Tanker  Other  \\\n",
       "1/1/2018        9      37           145         44     27      13     12   \n",
       "1/2/2018       13      45           119         41     27      14     19   \n",
       "1/3/2018       13      44           106         40     36      14     20   \n",
       "1/4/2018       15      44           103         45     30      10     15   \n",
       "1/5/2018       10      45           107         41     26      13     21   \n",
       "\n",
       "          Unavailable  \n",
       "1/1/2018            7  \n",
       "1/2/2018           10  \n",
       "1/3/2018           11  \n",
       "1/4/2018           12  \n",
       "1/5/2018           10  "
      ]
     },
     "execution_count": 2,
     "metadata": {},
     "output_type": "execute_result"
    }
   ],
   "source": [
    "# Look at our data from 2018\n",
    "ais_2018.head()"
   ]
  },
  {
   "cell_type": "code",
   "execution_count": 3,
   "id": "bad4d17d",
   "metadata": {
    "scrolled": true
   },
   "outputs": [
    {
     "name": "stdout",
     "output_type": "stream",
     "text": [
      "<class 'pandas.core.frame.DataFrame'>\n",
      "Index: 365 entries, 1/1/2018 to 12/31/2018\n",
      "Data columns (total 8 columns):\n",
      " #   Column        Non-Null Count  Dtype\n",
      "---  ------        --------------  -----\n",
      " 0   Fishing       365 non-null    int64\n",
      " 1   TugTow        365 non-null    int64\n",
      " 2   Recreational  365 non-null    int64\n",
      " 3   Passenger     365 non-null    int64\n",
      " 4   Cargo         365 non-null    int64\n",
      " 5   Tanker        365 non-null    int64\n",
      " 6   Other         365 non-null    int64\n",
      " 7   Unavailable   365 non-null    int64\n",
      "dtypes: int64(8)\n",
      "memory usage: 25.7+ KB\n"
     ]
    }
   ],
   "source": [
    "# Check the info of the 2018 dataframe\n",
    "ais_2018.info()"
   ]
  },
  {
   "cell_type": "code",
   "execution_count": 4,
   "id": "297bc5af",
   "metadata": {
    "scrolled": true
   },
   "outputs": [
    {
     "data": {
      "text/html": [
       "<div>\n",
       "<style scoped>\n",
       "    .dataframe tbody tr th:only-of-type {\n",
       "        vertical-align: middle;\n",
       "    }\n",
       "\n",
       "    .dataframe tbody tr th {\n",
       "        vertical-align: top;\n",
       "    }\n",
       "\n",
       "    .dataframe thead th {\n",
       "        text-align: right;\n",
       "    }\n",
       "</style>\n",
       "<table border=\"1\" class=\"dataframe\">\n",
       "  <thead>\n",
       "    <tr style=\"text-align: right;\">\n",
       "      <th></th>\n",
       "      <th>Fishing</th>\n",
       "      <th>TugTow</th>\n",
       "      <th>Recreational</th>\n",
       "      <th>Passenger</th>\n",
       "      <th>Cargo</th>\n",
       "      <th>Tanker</th>\n",
       "      <th>Other</th>\n",
       "      <th>Unavailable</th>\n",
       "      <th>Total</th>\n",
       "    </tr>\n",
       "  </thead>\n",
       "  <tbody>\n",
       "    <tr>\n",
       "      <th>1/1/2018</th>\n",
       "      <td>9</td>\n",
       "      <td>37</td>\n",
       "      <td>145</td>\n",
       "      <td>44</td>\n",
       "      <td>27</td>\n",
       "      <td>13</td>\n",
       "      <td>12</td>\n",
       "      <td>7</td>\n",
       "      <td>294</td>\n",
       "    </tr>\n",
       "    <tr>\n",
       "      <th>1/2/2018</th>\n",
       "      <td>13</td>\n",
       "      <td>45</td>\n",
       "      <td>119</td>\n",
       "      <td>41</td>\n",
       "      <td>27</td>\n",
       "      <td>14</td>\n",
       "      <td>19</td>\n",
       "      <td>10</td>\n",
       "      <td>288</td>\n",
       "    </tr>\n",
       "    <tr>\n",
       "      <th>1/3/2018</th>\n",
       "      <td>13</td>\n",
       "      <td>44</td>\n",
       "      <td>106</td>\n",
       "      <td>40</td>\n",
       "      <td>36</td>\n",
       "      <td>14</td>\n",
       "      <td>20</td>\n",
       "      <td>11</td>\n",
       "      <td>284</td>\n",
       "    </tr>\n",
       "    <tr>\n",
       "      <th>1/4/2018</th>\n",
       "      <td>15</td>\n",
       "      <td>44</td>\n",
       "      <td>103</td>\n",
       "      <td>45</td>\n",
       "      <td>30</td>\n",
       "      <td>10</td>\n",
       "      <td>15</td>\n",
       "      <td>12</td>\n",
       "      <td>274</td>\n",
       "    </tr>\n",
       "    <tr>\n",
       "      <th>1/5/2018</th>\n",
       "      <td>10</td>\n",
       "      <td>45</td>\n",
       "      <td>107</td>\n",
       "      <td>41</td>\n",
       "      <td>26</td>\n",
       "      <td>13</td>\n",
       "      <td>21</td>\n",
       "      <td>10</td>\n",
       "      <td>273</td>\n",
       "    </tr>\n",
       "  </tbody>\n",
       "</table>\n",
       "</div>"
      ],
      "text/plain": [
       "          Fishing  TugTow  Recreational  Passenger  Cargo  Tanker  Other  \\\n",
       "1/1/2018        9      37           145         44     27      13     12   \n",
       "1/2/2018       13      45           119         41     27      14     19   \n",
       "1/3/2018       13      44           106         40     36      14     20   \n",
       "1/4/2018       15      44           103         45     30      10     15   \n",
       "1/5/2018       10      45           107         41     26      13     21   \n",
       "\n",
       "          Unavailable  Total  \n",
       "1/1/2018            7    294  \n",
       "1/2/2018           10    288  \n",
       "1/3/2018           11    284  \n",
       "1/4/2018           12    274  \n",
       "1/5/2018           10    273  "
      ]
     },
     "execution_count": 4,
     "metadata": {},
     "output_type": "execute_result"
    }
   ],
   "source": [
    "# Creating a total column for our 2018 data\n",
    "ais_2018['Total']= ais_2018.sum(axis=1)\n",
    "ais_2018.head()"
   ]
  },
  {
   "cell_type": "code",
   "execution_count": 5,
   "id": "d210aec0",
   "metadata": {
    "scrolled": true
   },
   "outputs": [
    {
     "data": {
      "text/html": [
       "<div>\n",
       "<style scoped>\n",
       "    .dataframe tbody tr th:only-of-type {\n",
       "        vertical-align: middle;\n",
       "    }\n",
       "\n",
       "    .dataframe tbody tr th {\n",
       "        vertical-align: top;\n",
       "    }\n",
       "\n",
       "    .dataframe thead th {\n",
       "        text-align: right;\n",
       "    }\n",
       "</style>\n",
       "<table border=\"1\" class=\"dataframe\">\n",
       "  <thead>\n",
       "    <tr style=\"text-align: right;\">\n",
       "      <th></th>\n",
       "      <th>Total</th>\n",
       "    </tr>\n",
       "  </thead>\n",
       "  <tbody>\n",
       "    <tr>\n",
       "      <th>1/1/2018</th>\n",
       "      <td>294</td>\n",
       "    </tr>\n",
       "    <tr>\n",
       "      <th>1/2/2018</th>\n",
       "      <td>288</td>\n",
       "    </tr>\n",
       "    <tr>\n",
       "      <th>1/3/2018</th>\n",
       "      <td>284</td>\n",
       "    </tr>\n",
       "    <tr>\n",
       "      <th>1/4/2018</th>\n",
       "      <td>274</td>\n",
       "    </tr>\n",
       "    <tr>\n",
       "      <th>1/5/2018</th>\n",
       "      <td>273</td>\n",
       "    </tr>\n",
       "  </tbody>\n",
       "</table>\n",
       "</div>"
      ],
      "text/plain": [
       "          Total\n",
       "1/1/2018    294\n",
       "1/2/2018    288\n",
       "1/3/2018    284\n",
       "1/4/2018    274\n",
       "1/5/2018    273"
      ]
     },
     "execution_count": 5,
     "metadata": {},
     "output_type": "execute_result"
    }
   ],
   "source": [
    "# Create a DataFrame with just the Index and Total column\n",
    "ais_2018_y = ais_2018.drop([\"Fishing\",\"TugTow\",\"Recreational\",\"Passenger\",\"Cargo\",\"Tanker\",\"Other\",\"Unavailable\"], axis=1)\n",
    "ais_2018_y.head()"
   ]
  },
  {
   "cell_type": "code",
   "execution_count": 6,
   "id": "c4eeafc4",
   "metadata": {},
   "outputs": [],
   "source": [
    "#ais_2018_y[\"5days\"] = ais_2018_y[\"Total\"].rolling(5).mean()\n",
    "#ais_2018_y[\"50days\"] = ais_2018_y[\"Total\"].rolling(50).mean()\n",
    "# "
   ]
  },
  {
   "cell_type": "code",
   "execution_count": 7,
   "id": "6de30bdf",
   "metadata": {},
   "outputs": [],
   "source": [
    "#ais_2018_y.dropna().plot()"
   ]
  },
  {
   "cell_type": "code",
   "execution_count": 8,
   "id": "12badd2d",
   "metadata": {},
   "outputs": [],
   "source": [
    "# technical indecator \n",
    "# facebook profit\n",
    "# finta\n",
    "# RNN\n",
    "# LSTM\n"
   ]
  },
  {
   "cell_type": "code",
   "execution_count": 9,
   "id": "a1062a9a",
   "metadata": {},
   "outputs": [
    {
     "data": {
      "text/html": [
       "<div>\n",
       "<style scoped>\n",
       "    .dataframe tbody tr th:only-of-type {\n",
       "        vertical-align: middle;\n",
       "    }\n",
       "\n",
       "    .dataframe tbody tr th {\n",
       "        vertical-align: top;\n",
       "    }\n",
       "\n",
       "    .dataframe thead th {\n",
       "        text-align: right;\n",
       "    }\n",
       "</style>\n",
       "<table border=\"1\" class=\"dataframe\">\n",
       "  <thead>\n",
       "    <tr style=\"text-align: right;\">\n",
       "      <th></th>\n",
       "      <th>Fishing</th>\n",
       "      <th>TugTow</th>\n",
       "      <th>Recreational</th>\n",
       "      <th>Passenger</th>\n",
       "      <th>Cargo</th>\n",
       "      <th>Tanker</th>\n",
       "      <th>Other</th>\n",
       "      <th>Unavailable</th>\n",
       "    </tr>\n",
       "  </thead>\n",
       "  <tbody>\n",
       "    <tr>\n",
       "      <th>1/1/2018</th>\n",
       "      <td>9</td>\n",
       "      <td>37</td>\n",
       "      <td>145</td>\n",
       "      <td>44</td>\n",
       "      <td>27</td>\n",
       "      <td>13</td>\n",
       "      <td>12</td>\n",
       "      <td>7</td>\n",
       "    </tr>\n",
       "    <tr>\n",
       "      <th>1/2/2018</th>\n",
       "      <td>13</td>\n",
       "      <td>45</td>\n",
       "      <td>119</td>\n",
       "      <td>41</td>\n",
       "      <td>27</td>\n",
       "      <td>14</td>\n",
       "      <td>19</td>\n",
       "      <td>10</td>\n",
       "    </tr>\n",
       "    <tr>\n",
       "      <th>1/3/2018</th>\n",
       "      <td>13</td>\n",
       "      <td>44</td>\n",
       "      <td>106</td>\n",
       "      <td>40</td>\n",
       "      <td>36</td>\n",
       "      <td>14</td>\n",
       "      <td>20</td>\n",
       "      <td>11</td>\n",
       "    </tr>\n",
       "    <tr>\n",
       "      <th>1/4/2018</th>\n",
       "      <td>15</td>\n",
       "      <td>44</td>\n",
       "      <td>103</td>\n",
       "      <td>45</td>\n",
       "      <td>30</td>\n",
       "      <td>10</td>\n",
       "      <td>15</td>\n",
       "      <td>12</td>\n",
       "    </tr>\n",
       "    <tr>\n",
       "      <th>1/5/2018</th>\n",
       "      <td>10</td>\n",
       "      <td>45</td>\n",
       "      <td>107</td>\n",
       "      <td>41</td>\n",
       "      <td>26</td>\n",
       "      <td>13</td>\n",
       "      <td>21</td>\n",
       "      <td>10</td>\n",
       "    </tr>\n",
       "  </tbody>\n",
       "</table>\n",
       "</div>"
      ],
      "text/plain": [
       "          Fishing  TugTow  Recreational  Passenger  Cargo  Tanker  Other  \\\n",
       "1/1/2018        9      37           145         44     27      13     12   \n",
       "1/2/2018       13      45           119         41     27      14     19   \n",
       "1/3/2018       13      44           106         40     36      14     20   \n",
       "1/4/2018       15      44           103         45     30      10     15   \n",
       "1/5/2018       10      45           107         41     26      13     21   \n",
       "\n",
       "          Unavailable  \n",
       "1/1/2018            7  \n",
       "1/2/2018           10  \n",
       "1/3/2018           11  \n",
       "1/4/2018           12  \n",
       "1/5/2018           10  "
      ]
     },
     "execution_count": 9,
     "metadata": {},
     "output_type": "execute_result"
    }
   ],
   "source": [
    "# Creating a Dataframe with the Index and the rest of the columns\n",
    "ais_2018_X = ais_2018.drop([\"Total\"], axis=1)\n",
    "ais_2018_X.head()"
   ]
  },
  {
   "cell_type": "code",
   "execution_count": 10,
   "id": "4db634ba",
   "metadata": {},
   "outputs": [],
   "source": [
    "# Split our preprocessed data into our features and target arrays\n",
    "y = ais_2018_y\n",
    "X = ais_2018_X\n",
    "\n",
    "# Split the preprocessed data into a training and testing dataset\n",
    "X_train, X_test, y_train, y_test = train_test_split(X, y, random_state=24)"
   ]
  },
  {
   "cell_type": "code",
   "execution_count": 11,
   "id": "08187331",
   "metadata": {},
   "outputs": [],
   "source": [
    "# Create a StandardScaler instances\n",
    "scaler = StandardScaler()\n",
    "\n",
    "# Fit the StandardScaler\n",
    "X_scaler = scaler.fit(X_train)\n",
    "\n",
    "# Scale the data\n",
    "X_train_scaled = X_scaler.transform(X_train)\n",
    "X_test_scaled = X_scaler.transform(X_test)"
   ]
  },
  {
   "cell_type": "code",
   "execution_count": 12,
   "id": "871be885",
   "metadata": {},
   "outputs": [],
   "source": [
    "# Define the checkpoint path and filenames\n",
    "os.makedirs(\"checkpoints/\",exist_ok=True)\n",
    "checkpoint_path = \"checkpoints/weights.{epoch:02d}.hdf5\""
   ]
  },
  {
   "cell_type": "code",
   "execution_count": 13,
   "id": "71125e23",
   "metadata": {},
   "outputs": [],
   "source": [
    "# Create a callback that saves the model's weights every fifth epoch\n",
    "cp_callback = ModelCheckpoint(filepath=checkpoint_path, verbose=1, save_weights_only=True, save_freq=5)"
   ]
  },
  {
   "cell_type": "code",
   "execution_count": 29,
   "id": "36505b92",
   "metadata": {},
   "outputs": [
    {
     "data": {
      "text/plain": [
       "8"
      ]
     },
     "execution_count": 29,
     "metadata": {},
     "output_type": "execute_result"
    }
   ],
   "source": [
    "hidden_nodes_layer1"
   ]
  },
  {
   "cell_type": "code",
   "execution_count": 42,
   "id": "f360224a",
   "metadata": {},
   "outputs": [
    {
     "data": {
      "text/plain": [
       "8"
      ]
     },
     "execution_count": 42,
     "metadata": {},
     "output_type": "execute_result"
    }
   ],
   "source": [
    "X_train.shape[1]"
   ]
  },
  {
   "cell_type": "code",
   "execution_count": 57,
   "id": "08644d96",
   "metadata": {},
   "outputs": [
    {
     "name": "stdout",
     "output_type": "stream",
     "text": [
      "Model: \"sequential_7\"\n",
      "_________________________________________________________________\n",
      " Layer (type)                Output Shape              Param #   \n",
      "=================================================================\n",
      " dense_35 (Dense)            (None, 8)                 72        \n",
      "                                                                 \n",
      " dense_36 (Dense)            (None, 6)                 54        \n",
      "                                                                 \n",
      " dense_37 (Dense)            (None, 4)                 28        \n",
      "                                                                 \n",
      " dense_38 (Dense)            (None, 2)                 10        \n",
      "                                                                 \n",
      " dense_39 (Dense)            (None, 1)                 3         \n",
      "                                                                 \n",
      "=================================================================\n",
      "Total params: 167\n",
      "Trainable params: 167\n",
      "Non-trainable params: 0\n",
      "_________________________________________________________________\n"
     ]
    }
   ],
   "source": [
    "# Define the model - deep neural net, i.e., the number of input features and hidden nodes for each layer.\n",
    "number_input_features = X_train.shape[1]\n",
    "hidden_nodes_layer1 =  8\n",
    "hidden_nodes_layer2 = 6\n",
    "hidden_nodes_layer3 = 4\n",
    "hidden_nodes_layer4 = 2\n",
    "\n",
    "nn = tf.keras.models.Sequential()\n",
    "\n",
    "# First hidden layer\n",
    "nn.add(tf.keras.layers.Dense(units=hidden_nodes_layer1, input_dim=number_input_features, activation=\"relu\"))\n",
    "\n",
    "# Second hidden layer\n",
    "nn.add(tf.keras.layers.Dense(units=hidden_nodes_layer2, activation=\"relu\"))\n",
    "\n",
    "# Third hidden layer\n",
    "nn.add(tf.keras.layers.Dense(units=hidden_nodes_layer3, activation=\"relu\"))\n",
    "\n",
    "# Third hidden layer\n",
    "nn.add(tf.keras.layers.Dense(units=hidden_nodes_layer4, activation=\"relu\"))\n",
    "\n",
    "# Output layer\n",
    "nn.add(tf.keras.layers.Dense(units=1, activation=\"softmax\"))\n",
    "\n",
    "# Check the structure of the model\n",
    "nn.summary()"
   ]
  },
  {
   "cell_type": "code",
   "execution_count": 58,
   "id": "6214afc6",
   "metadata": {},
   "outputs": [],
   "source": [
    "# Compile the model\n",
    "nn.compile(loss=\"binary_crossentropy\", optimizer=\"adam\", metrics=[\"accuracy\"])"
   ]
  },
  {
   "cell_type": "code",
   "execution_count": 59,
   "id": "8a157f12",
   "metadata": {},
   "outputs": [
    {
     "data": {
      "text/plain": [
       "keras.losses.Loss"
      ]
     },
     "execution_count": 59,
     "metadata": {},
     "output_type": "execute_result"
    }
   ],
   "source": [
    "tf.keras.losses.Loss"
   ]
  },
  {
   "cell_type": "code",
   "execution_count": 60,
   "id": "395fe304",
   "metadata": {
    "scrolled": true
   },
   "outputs": [
    {
     "name": "stdout",
     "output_type": "stream",
     "text": [
      "273\n"
     ]
    }
   ],
   "source": [
    "print(len(X_train_scaled))"
   ]
  },
  {
   "cell_type": "code",
   "execution_count": 61,
   "id": "9f4a9089",
   "metadata": {
    "scrolled": true
   },
   "outputs": [
    {
     "name": "stdout",
     "output_type": "stream",
     "text": [
      "Epoch 1/20\n",
      "9/9 [==============================] - 1s 1ms/step - loss: 6.4547 - accuracy: 0.0000e+00\n",
      "Epoch 2/20\n",
      "9/9 [==============================] - 0s 998us/step - loss: -0.7683 - accuracy: 0.0000e+00\n",
      "Epoch 3/20\n",
      "9/9 [==============================] - 0s 1ms/step - loss: -6.0437 - accuracy: 0.0000e+00\n",
      "Epoch 4/20\n",
      "9/9 [==============================] - 0s 1ms/step - loss: -10.3626 - accuracy: 0.0000e+00\n",
      "Epoch 5/20\n",
      "9/9 [==============================] - 0s 2ms/step - loss: -14.3109 - accuracy: 0.0000e+00\n",
      "Epoch 6/20\n",
      "9/9 [==============================] - 0s 2ms/step - loss: -18.1865 - accuracy: 0.0000e+00\n",
      "Epoch 7/20\n",
      "9/9 [==============================] - 0s 1ms/step - loss: -22.1221 - accuracy: 0.0000e+00\n",
      "Epoch 8/20\n",
      "9/9 [==============================] - 0s 1ms/step - loss: -26.1689 - accuracy: 0.0000e+00\n",
      "Epoch 9/20\n",
      "9/9 [==============================] - 0s 3ms/step - loss: -30.4830 - accuracy: 0.0000e+00\n",
      "Epoch 10/20\n",
      "9/9 [==============================] - 0s 1ms/step - loss: -35.1225 - accuracy: 0.0000e+00\n",
      "Epoch 11/20\n",
      "9/9 [==============================] - 0s 2ms/step - loss: -40.1311 - accuracy: 0.0000e+00\n",
      "Epoch 12/20\n",
      "9/9 [==============================] - 0s 2ms/step - loss: -45.2845 - accuracy: 0.0000e+00\n",
      "Epoch 13/20\n",
      "9/9 [==============================] - 0s 1ms/step - loss: -50.4855 - accuracy: 0.0000e+00\n",
      "Epoch 14/20\n",
      "9/9 [==============================] - 0s 2ms/step - loss: -55.7942 - accuracy: 0.0000e+00\n",
      "Epoch 15/20\n",
      "9/9 [==============================] - 0s 2ms/step - loss: -61.2201 - accuracy: 0.0000e+00\n",
      "Epoch 16/20\n",
      "9/9 [==============================] - 0s 1ms/step - loss: -66.7861 - accuracy: 0.0000e+00\n",
      "Epoch 17/20\n",
      "9/9 [==============================] - 0s 2ms/step - loss: -72.5379 - accuracy: 0.0000e+00\n",
      "Epoch 18/20\n",
      "9/9 [==============================] - 0s 1ms/step - loss: -78.3885 - accuracy: 0.0000e+00\n",
      "Epoch 19/20\n",
      "9/9 [==============================] - 0s 2ms/step - loss: -84.4345 - accuracy: 0.0000e+00\n",
      "Epoch 20/20\n",
      "9/9 [==============================] - 0s 2ms/step - loss: -90.6841 - accuracy: 0.0000e+00\n"
     ]
    }
   ],
   "source": [
    "# Train the model\n",
    "fit_model = nn.fit(X_train_scaled, y_train,epochs=20)"
   ]
  },
  {
   "cell_type": "code",
   "execution_count": 36,
   "id": "41179783",
   "metadata": {},
   "outputs": [
    {
     "data": {
      "text/plain": [
       "(273, 8)"
      ]
     },
     "execution_count": 36,
     "metadata": {},
     "output_type": "execute_result"
    }
   ],
   "source": [
    "X_train_scaled.shape"
   ]
  },
  {
   "cell_type": "code",
   "execution_count": 37,
   "id": "40c6876a",
   "metadata": {},
   "outputs": [
    {
     "data": {
      "text/plain": [
       "(273, 1)"
      ]
     },
     "execution_count": 37,
     "metadata": {},
     "output_type": "execute_result"
    }
   ],
   "source": [
    "y_train.shape"
   ]
  },
  {
   "cell_type": "code",
   "execution_count": null,
   "id": "a7ab9f13",
   "metadata": {},
   "outputs": [],
   "source": [
    "# # Saving this for ater\n",
    "# # Generate our categorical variable lists\n",
    "# ais_2018_cat = ais_2018.dtypes[ais_2018.dtypes == \"int64\"].index.tolist()"
   ]
  },
  {
   "cell_type": "code",
   "execution_count": null,
   "id": "c327b6c7",
   "metadata": {
    "scrolled": true
   },
   "outputs": [],
   "source": [
    "# ## Saving this for later\n",
    "\n",
    "# # Create a OneHotEncoder instance\n",
    "# enc = OneHotEncoder(sparse=False)\n",
    "\n",
    "# # Fit and transform the OneHotEncoder using the categorical variable list\n",
    "# encode_df = pd.DataFrame(enc.fit_transform(ais_2018[ais_2018_cat]))\n",
    "\n",
    "# # Add the encoded variable names to the dataframe\n",
    "# encode_df.columns = enc.get_feature_names(ais_2018_cat)\n",
    "# encode_df.head()"
   ]
  },
  {
   "cell_type": "code",
   "execution_count": null,
   "id": "0666491a",
   "metadata": {},
   "outputs": [],
   "source": []
  }
 ],
 "metadata": {
  "kernelspec": {
   "display_name": "mlenv",
   "language": "python",
   "name": "mlenv"
  },
  "language_info": {
   "codemirror_mode": {
    "name": "ipython",
    "version": 3
   },
   "file_extension": ".py",
   "mimetype": "text/x-python",
   "name": "python",
   "nbconvert_exporter": "python",
   "pygments_lexer": "ipython3",
   "version": "3.9.7"
  }
 },
 "nbformat": 4,
 "nbformat_minor": 5
}
