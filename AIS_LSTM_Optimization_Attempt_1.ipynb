{
 "cells": [
  {
   "cell_type": "code",
   "execution_count": 1,
   "id": "b431f951",
   "metadata": {},
   "outputs": [],
   "source": [
    "# Import our dependencies\n",
    "import numpy as np\n",
    "import matplotlib.pyplot as plt\n",
    "import pandas as pd\n",
    "import math\n",
    "from keras.models import Sequential\n",
    "from keras.layers import Dense, LSTM, Dropout\n",
    "from sklearn.preprocessing import MinMaxScaler\n",
    "from sklearn.metrics import mean_squared_error\n",
    "from keras.callbacks import EarlyStopping, ModelCheckpoint\n",
    "\n",
    "# Fix a random seed so the data can be reproduced\n",
    "np.random.seed(24)\n",
    "\n",
    "# Upload and read the csv files\n",
    "ais_df = pd.read_csv(\"ml_data_daily_2018.csv\", index_col=0)"
   ]
  },
  {
   "cell_type": "code",
   "execution_count": 2,
   "id": "fa959ae4",
   "metadata": {
    "scrolled": true
   },
   "outputs": [
    {
     "data": {
      "text/html": [
       "<div>\n",
       "<style scoped>\n",
       "    .dataframe tbody tr th:only-of-type {\n",
       "        vertical-align: middle;\n",
       "    }\n",
       "\n",
       "    .dataframe tbody tr th {\n",
       "        vertical-align: top;\n",
       "    }\n",
       "\n",
       "    .dataframe thead th {\n",
       "        text-align: right;\n",
       "    }\n",
       "</style>\n",
       "<table border=\"1\" class=\"dataframe\">\n",
       "  <thead>\n",
       "    <tr style=\"text-align: right;\">\n",
       "      <th></th>\n",
       "      <th>Fishing</th>\n",
       "      <th>TugTow</th>\n",
       "      <th>Recreational</th>\n",
       "      <th>Passenger</th>\n",
       "      <th>Cargo</th>\n",
       "      <th>Tanker</th>\n",
       "      <th>Other</th>\n",
       "      <th>Unavailable</th>\n",
       "    </tr>\n",
       "  </thead>\n",
       "  <tbody>\n",
       "    <tr>\n",
       "      <th>2018/01/01</th>\n",
       "      <td>9</td>\n",
       "      <td>37</td>\n",
       "      <td>145</td>\n",
       "      <td>44</td>\n",
       "      <td>27</td>\n",
       "      <td>13</td>\n",
       "      <td>12</td>\n",
       "      <td>7</td>\n",
       "    </tr>\n",
       "    <tr>\n",
       "      <th>2018/01/02</th>\n",
       "      <td>13</td>\n",
       "      <td>45</td>\n",
       "      <td>119</td>\n",
       "      <td>41</td>\n",
       "      <td>27</td>\n",
       "      <td>14</td>\n",
       "      <td>19</td>\n",
       "      <td>10</td>\n",
       "    </tr>\n",
       "    <tr>\n",
       "      <th>2018/01/03</th>\n",
       "      <td>13</td>\n",
       "      <td>44</td>\n",
       "      <td>106</td>\n",
       "      <td>40</td>\n",
       "      <td>36</td>\n",
       "      <td>14</td>\n",
       "      <td>20</td>\n",
       "      <td>11</td>\n",
       "    </tr>\n",
       "    <tr>\n",
       "      <th>2018/01/04</th>\n",
       "      <td>15</td>\n",
       "      <td>44</td>\n",
       "      <td>103</td>\n",
       "      <td>45</td>\n",
       "      <td>30</td>\n",
       "      <td>10</td>\n",
       "      <td>15</td>\n",
       "      <td>12</td>\n",
       "    </tr>\n",
       "    <tr>\n",
       "      <th>2018/01/05</th>\n",
       "      <td>10</td>\n",
       "      <td>45</td>\n",
       "      <td>107</td>\n",
       "      <td>41</td>\n",
       "      <td>26</td>\n",
       "      <td>13</td>\n",
       "      <td>21</td>\n",
       "      <td>10</td>\n",
       "    </tr>\n",
       "  </tbody>\n",
       "</table>\n",
       "</div>"
      ],
      "text/plain": [
       "            Fishing  TugTow  Recreational  Passenger  Cargo  Tanker  Other  \\\n",
       "2018/01/01        9      37           145         44     27      13     12   \n",
       "2018/01/02       13      45           119         41     27      14     19   \n",
       "2018/01/03       13      44           106         40     36      14     20   \n",
       "2018/01/04       15      44           103         45     30      10     15   \n",
       "2018/01/05       10      45           107         41     26      13     21   \n",
       "\n",
       "            Unavailable  \n",
       "2018/01/01            7  \n",
       "2018/01/02           10  \n",
       "2018/01/03           11  \n",
       "2018/01/04           12  \n",
       "2018/01/05           10  "
      ]
     },
     "execution_count": 2,
     "metadata": {},
     "output_type": "execute_result"
    }
   ],
   "source": [
    "# Look at our data\n",
    "ais_df.head()"
   ]
  },
  {
   "cell_type": "code",
   "execution_count": 3,
   "id": "1455e23e",
   "metadata": {
    "scrolled": true
   },
   "outputs": [
    {
     "data": {
      "text/html": [
       "<div>\n",
       "<style scoped>\n",
       "    .dataframe tbody tr th:only-of-type {\n",
       "        vertical-align: middle;\n",
       "    }\n",
       "\n",
       "    .dataframe tbody tr th {\n",
       "        vertical-align: top;\n",
       "    }\n",
       "\n",
       "    .dataframe thead th {\n",
       "        text-align: right;\n",
       "    }\n",
       "</style>\n",
       "<table border=\"1\" class=\"dataframe\">\n",
       "  <thead>\n",
       "    <tr style=\"text-align: right;\">\n",
       "      <th></th>\n",
       "      <th>Fishing</th>\n",
       "      <th>TugTow</th>\n",
       "      <th>Recreational</th>\n",
       "      <th>Passenger</th>\n",
       "      <th>Cargo</th>\n",
       "      <th>Tanker</th>\n",
       "      <th>Other</th>\n",
       "      <th>Unavailable</th>\n",
       "      <th>Total</th>\n",
       "    </tr>\n",
       "  </thead>\n",
       "  <tbody>\n",
       "    <tr>\n",
       "      <th>2018/01/01</th>\n",
       "      <td>9</td>\n",
       "      <td>37</td>\n",
       "      <td>145</td>\n",
       "      <td>44</td>\n",
       "      <td>27</td>\n",
       "      <td>13</td>\n",
       "      <td>12</td>\n",
       "      <td>7</td>\n",
       "      <td>294</td>\n",
       "    </tr>\n",
       "    <tr>\n",
       "      <th>2018/01/02</th>\n",
       "      <td>13</td>\n",
       "      <td>45</td>\n",
       "      <td>119</td>\n",
       "      <td>41</td>\n",
       "      <td>27</td>\n",
       "      <td>14</td>\n",
       "      <td>19</td>\n",
       "      <td>10</td>\n",
       "      <td>288</td>\n",
       "    </tr>\n",
       "    <tr>\n",
       "      <th>2018/01/03</th>\n",
       "      <td>13</td>\n",
       "      <td>44</td>\n",
       "      <td>106</td>\n",
       "      <td>40</td>\n",
       "      <td>36</td>\n",
       "      <td>14</td>\n",
       "      <td>20</td>\n",
       "      <td>11</td>\n",
       "      <td>284</td>\n",
       "    </tr>\n",
       "    <tr>\n",
       "      <th>2018/01/04</th>\n",
       "      <td>15</td>\n",
       "      <td>44</td>\n",
       "      <td>103</td>\n",
       "      <td>45</td>\n",
       "      <td>30</td>\n",
       "      <td>10</td>\n",
       "      <td>15</td>\n",
       "      <td>12</td>\n",
       "      <td>274</td>\n",
       "    </tr>\n",
       "    <tr>\n",
       "      <th>2018/01/05</th>\n",
       "      <td>10</td>\n",
       "      <td>45</td>\n",
       "      <td>107</td>\n",
       "      <td>41</td>\n",
       "      <td>26</td>\n",
       "      <td>13</td>\n",
       "      <td>21</td>\n",
       "      <td>10</td>\n",
       "      <td>273</td>\n",
       "    </tr>\n",
       "  </tbody>\n",
       "</table>\n",
       "</div>"
      ],
      "text/plain": [
       "            Fishing  TugTow  Recreational  Passenger  Cargo  Tanker  Other  \\\n",
       "2018/01/01        9      37           145         44     27      13     12   \n",
       "2018/01/02       13      45           119         41     27      14     19   \n",
       "2018/01/03       13      44           106         40     36      14     20   \n",
       "2018/01/04       15      44           103         45     30      10     15   \n",
       "2018/01/05       10      45           107         41     26      13     21   \n",
       "\n",
       "            Unavailable  Total  \n",
       "2018/01/01            7    294  \n",
       "2018/01/02           10    288  \n",
       "2018/01/03           11    284  \n",
       "2018/01/04           12    274  \n",
       "2018/01/05           10    273  "
      ]
     },
     "execution_count": 3,
     "metadata": {},
     "output_type": "execute_result"
    }
   ],
   "source": [
    "# Creating a total column for our data\n",
    "ais_df['Total']= ais_df.sum(axis=1)\n",
    "ais_df.head()"
   ]
  },
  {
   "cell_type": "code",
   "execution_count": 4,
   "id": "6ba0f154",
   "metadata": {},
   "outputs": [
    {
     "name": "stdout",
     "output_type": "stream",
     "text": [
      "<class 'pandas.core.frame.DataFrame'>\n",
      "Index: 365 entries, 2018/01/01 to 2018/12/31\n",
      "Data columns (total 9 columns):\n",
      " #   Column        Non-Null Count  Dtype\n",
      "---  ------        --------------  -----\n",
      " 0   Fishing       365 non-null    int64\n",
      " 1   TugTow        365 non-null    int64\n",
      " 2   Recreational  365 non-null    int64\n",
      " 3   Passenger     365 non-null    int64\n",
      " 4   Cargo         365 non-null    int64\n",
      " 5   Tanker        365 non-null    int64\n",
      " 6   Other         365 non-null    int64\n",
      " 7   Unavailable   365 non-null    int64\n",
      " 8   Total         365 non-null    int64\n",
      "dtypes: int64(9)\n",
      "memory usage: 28.5+ KB\n"
     ]
    }
   ],
   "source": [
    "# And then check the type\n",
    "ais_df.info()"
   ]
  },
  {
   "cell_type": "code",
   "execution_count": 5,
   "id": "17356cb5",
   "metadata": {},
   "outputs": [],
   "source": [
    "# Create nine DataFrames, each with the Date and one unique column:\n",
    "\n",
    "# Fishing\n",
    "ais_fishing_df = ais_df.loc[:, ['Fishing']]\n",
    "\n",
    "# TugTow\n",
    "ais_tugtow_df = ais_df.loc[:, ['TugTow']]\n",
    "\n",
    "# Recreational\n",
    "ais_recreational_df = ais_df.loc[:, ['Recreational']]\n",
    "\n",
    "# Passenger\n",
    "ais_passenger_df = ais_df.loc[:, ['Passenger']]\n",
    "\n",
    "# Cargo\n",
    "ais_cargo_df = ais_df.loc[:, ['Cargo']]\n",
    "\n",
    "# Tanker\n",
    "ais_tanker_df = ais_df.loc[:, ['Tanker']]\n",
    "\n",
    "# Other\n",
    "ais_other_df = ais_df.loc[:, ['Other']]\n",
    "\n",
    "# Unavailable\n",
    "ais_unavailable_df = ais_df.loc[:, ['Unavailable']]\n",
    "\n",
    "# Total\n",
    "ais_total_df = ais_df.loc[:, ['Total']]"
   ]
  },
  {
   "cell_type": "code",
   "execution_count": 6,
   "id": "c69479f8",
   "metadata": {
    "scrolled": true
   },
   "outputs": [
    {
     "data": {
      "text/html": [
       "<div>\n",
       "<style scoped>\n",
       "    .dataframe tbody tr th:only-of-type {\n",
       "        vertical-align: middle;\n",
       "    }\n",
       "\n",
       "    .dataframe tbody tr th {\n",
       "        vertical-align: top;\n",
       "    }\n",
       "\n",
       "    .dataframe thead th {\n",
       "        text-align: right;\n",
       "    }\n",
       "</style>\n",
       "<table border=\"1\" class=\"dataframe\">\n",
       "  <thead>\n",
       "    <tr style=\"text-align: right;\">\n",
       "      <th></th>\n",
       "      <th>Total</th>\n",
       "    </tr>\n",
       "  </thead>\n",
       "  <tbody>\n",
       "    <tr>\n",
       "      <th>2018/01/01</th>\n",
       "      <td>294</td>\n",
       "    </tr>\n",
       "    <tr>\n",
       "      <th>2018/01/02</th>\n",
       "      <td>288</td>\n",
       "    </tr>\n",
       "    <tr>\n",
       "      <th>2018/01/03</th>\n",
       "      <td>284</td>\n",
       "    </tr>\n",
       "    <tr>\n",
       "      <th>2018/01/04</th>\n",
       "      <td>274</td>\n",
       "    </tr>\n",
       "    <tr>\n",
       "      <th>2018/01/05</th>\n",
       "      <td>273</td>\n",
       "    </tr>\n",
       "    <tr>\n",
       "      <th>...</th>\n",
       "      <td>...</td>\n",
       "    </tr>\n",
       "    <tr>\n",
       "      <th>2018/12/27</th>\n",
       "      <td>298</td>\n",
       "    </tr>\n",
       "    <tr>\n",
       "      <th>2018/12/28</th>\n",
       "      <td>298</td>\n",
       "    </tr>\n",
       "    <tr>\n",
       "      <th>2018/12/29</th>\n",
       "      <td>306</td>\n",
       "    </tr>\n",
       "    <tr>\n",
       "      <th>2018/12/30</th>\n",
       "      <td>308</td>\n",
       "    </tr>\n",
       "    <tr>\n",
       "      <th>2018/12/31</th>\n",
       "      <td>297</td>\n",
       "    </tr>\n",
       "  </tbody>\n",
       "</table>\n",
       "<p>365 rows × 1 columns</p>\n",
       "</div>"
      ],
      "text/plain": [
       "            Total\n",
       "2018/01/01    294\n",
       "2018/01/02    288\n",
       "2018/01/03    284\n",
       "2018/01/04    274\n",
       "2018/01/05    273\n",
       "...           ...\n",
       "2018/12/27    298\n",
       "2018/12/28    298\n",
       "2018/12/29    306\n",
       "2018/12/30    308\n",
       "2018/12/31    297\n",
       "\n",
       "[365 rows x 1 columns]"
      ]
     },
     "execution_count": 6,
     "metadata": {},
     "output_type": "execute_result"
    }
   ],
   "source": [
    "# From here we will be using 'Total' as an example, and repeating the code for the rest of the data\n",
    "\n",
    "# Check the new DataFrame\n",
    "ais_total_df"
   ]
  },
  {
   "cell_type": "code",
   "execution_count": 7,
   "id": "19802b9c",
   "metadata": {},
   "outputs": [],
   "source": [
    "# From here, the code is heavily inspired by the code found on this site:\n",
    "# https://machinelearningmastery.com/time-series-prediction-lstm-recurrent-neural-networks-python-keras/"
   ]
  },
  {
   "cell_type": "code",
   "execution_count": 8,
   "id": "e17608de",
   "metadata": {},
   "outputs": [],
   "source": [
    "# Convert the DataFrame into an array, and change the type to floats for the Neural Network\n",
    "\n",
    "total = ais_total_df.values\n",
    "total = total.astype('float32')"
   ]
  },
  {
   "cell_type": "code",
   "execution_count": 9,
   "id": "86df82cc",
   "metadata": {},
   "outputs": [],
   "source": [
    "# Normalize the data by using a scaler\n",
    "scaler = MinMaxScaler(feature_range=(0, 1))\n",
    "total = scaler.fit_transform(total)"
   ]
  },
  {
   "cell_type": "code",
   "execution_count": 10,
   "id": "d31a5f56",
   "metadata": {},
   "outputs": [
    {
     "name": "stdout",
     "output_type": "stream",
     "text": [
      "273 92\n"
     ]
    }
   ],
   "source": [
    "# Split our data into training and testing using slicing, and check the length\n",
    "\n",
    "# Determin the length of what our split will be\n",
    "total_split = int(len(total) * 0.75)\n",
    "\n",
    "#Slice the data and print the results\n",
    "train, test = total[:total_split], total[total_split:]\n",
    "print(len(train), len(test))\n"
   ]
  },
  {
   "cell_type": "code",
   "execution_count": 11,
   "id": "73a5382f",
   "metadata": {},
   "outputs": [],
   "source": [
    "# Convert an array of values into a dataset matrix\n",
    "def create_dataset(dataset, look_back=1):\n",
    "    dataX, dataY = [], []\n",
    "    for i in range(len(dataset)-look_back-1):\n",
    "        a = dataset[i:(i+look_back), 0]\n",
    "        dataX.append(a)\n",
    "        dataY.append(dataset[i + look_back, 0])\n",
    "    return np.array(dataX), np.array(dataY)"
   ]
  },
  {
   "cell_type": "code",
   "execution_count": 12,
   "id": "6c8d5012",
   "metadata": {},
   "outputs": [],
   "source": [
    "# Reshape the values into X=t and Y=t+1\n",
    "look_back = 1\n",
    "trainX, trainY = create_dataset(train, look_back)\n",
    "testX, testY = create_dataset(test, look_back)"
   ]
  },
  {
   "cell_type": "code",
   "execution_count": 13,
   "id": "d28928b0",
   "metadata": {},
   "outputs": [],
   "source": [
    "# Reshape the data to incorperate into the LSTM\n",
    "trainX = np.reshape(trainX, (trainX.shape[0], 1, trainX.shape[1]))\n",
    "testX = np.reshape(testX, (testX.shape[0], 1, testX.shape[1]))"
   ]
  },
  {
   "cell_type": "code",
   "execution_count": 14,
   "id": "35c4fbd1",
   "metadata": {},
   "outputs": [],
   "source": [
    "# create and fit the LSTM network\n",
    "model = Sequential()\n",
    "\n",
    "# Create the initial layer\n",
    "model.add(LSTM(4, activation='relu', input_shape=(1, look_back)))\n",
    "\n",
    "# Create the second layer\n",
    "model.add(Dense(2))\n",
    "\n",
    "# Create the third layer\n",
    "model.add(Dense(1))"
   ]
  },
  {
   "cell_type": "code",
   "execution_count": 15,
   "id": "2528d2ae",
   "metadata": {
    "scrolled": true
   },
   "outputs": [
    {
     "name": "stdout",
     "output_type": "stream",
     "text": [
      "Model: \"sequential\"\n",
      "_________________________________________________________________\n",
      " Layer (type)                Output Shape              Param #   \n",
      "=================================================================\n",
      " lstm (LSTM)                 (None, 4)                 96        \n",
      "                                                                 \n",
      " dense (Dense)               (None, 2)                 10        \n",
      "                                                                 \n",
      " dense_1 (Dense)             (None, 1)                 3         \n",
      "                                                                 \n",
      "=================================================================\n",
      "Total params: 109\n",
      "Trainable params: 109\n",
      "Non-trainable params: 0\n",
      "_________________________________________________________________\n"
     ]
    }
   ],
   "source": [
    "# Check the summary of the model\n",
    "model.summary()"
   ]
  },
  {
   "cell_type": "code",
   "execution_count": 16,
   "id": "9ca304de",
   "metadata": {},
   "outputs": [],
   "source": [
    "# Compile the model\n",
    "model.compile(loss='mean_squared_error', optimizer='adam', metrics=['mse', 'mae', 'mape'])"
   ]
  },
  {
   "cell_type": "code",
   "execution_count": 17,
   "id": "3bc780ec",
   "metadata": {},
   "outputs": [],
   "source": [
    "# Creating callbacks to load the model for a future time\n",
    "es = [EarlyStopping(monitor='loss', patience=15)]"
   ]
  },
  {
   "cell_type": "code",
   "execution_count": 18,
   "id": "2e4ca600",
   "metadata": {},
   "outputs": [
    {
     "name": "stdout",
     "output_type": "stream",
     "text": [
      "Epoch 1/100\n",
      "189/189 - 2s - loss: 0.0952 - mse: 0.0952 - mae: 0.2609 - mape: 69.4667 - val_loss: 0.1118 - val_mse: 0.1118 - val_mae: 0.3152 - val_mape: 53.7501 - 2s/epoch - 10ms/step\n",
      "Epoch 2/100\n",
      "189/189 - 0s - loss: 0.0297 - mse: 0.0297 - mae: 0.1394 - mape: 55.7530 - val_loss: 0.0536 - val_mse: 0.0536 - val_mae: 0.2036 - val_mape: 33.4366 - 415ms/epoch - 2ms/step\n",
      "Epoch 3/100\n",
      "189/189 - 0s - loss: 0.0254 - mse: 0.0254 - mae: 0.1293 - mape: 61.0205 - val_loss: 0.0545 - val_mse: 0.0545 - val_mae: 0.2063 - val_mape: 33.9456 - 427ms/epoch - 2ms/step\n",
      "Epoch 4/100\n",
      "189/189 - 0s - loss: 0.0248 - mse: 0.0248 - mae: 0.1280 - mape: 60.1282 - val_loss: 0.0468 - val_mse: 0.0468 - val_mae: 0.1887 - val_mape: 30.8780 - 418ms/epoch - 2ms/step\n",
      "Epoch 5/100\n",
      "189/189 - 0s - loss: 0.0235 - mse: 0.0235 - mae: 0.1243 - mape: 58.6679 - val_loss: 0.0444 - val_mse: 0.0444 - val_mae: 0.1838 - val_mape: 30.0870 - 424ms/epoch - 2ms/step\n",
      "Epoch 6/100\n",
      "189/189 - 0s - loss: 0.0218 - mse: 0.0218 - mae: 0.1201 - mape: 56.1442 - val_loss: 0.0285 - val_mse: 0.0285 - val_mae: 0.1412 - val_mape: 22.8308 - 401ms/epoch - 2ms/step\n",
      "Epoch 7/100\n",
      "189/189 - 0s - loss: 0.0203 - mse: 0.0203 - mae: 0.1157 - mape: 55.8967 - val_loss: 0.0285 - val_mse: 0.0285 - val_mae: 0.1427 - val_mape: 23.1715 - 409ms/epoch - 2ms/step\n",
      "Epoch 8/100\n",
      "189/189 - 0s - loss: 0.0186 - mse: 0.0186 - mae: 0.1105 - mape: 53.9701 - val_loss: 0.0284 - val_mse: 0.0284 - val_mae: 0.1437 - val_mape: 23.4433 - 442ms/epoch - 2ms/step\n",
      "Epoch 9/100\n",
      "189/189 - 0s - loss: 0.0170 - mse: 0.0170 - mae: 0.1054 - mape: 51.9041 - val_loss: 0.0260 - val_mse: 0.0260 - val_mae: 0.1374 - val_mape: 22.4714 - 416ms/epoch - 2ms/step\n",
      "Epoch 10/100\n",
      "189/189 - 0s - loss: 0.0154 - mse: 0.0154 - mae: 0.0997 - mape: 48.1918 - val_loss: 0.0185 - val_mse: 0.0185 - val_mae: 0.1127 - val_mape: 18.4058 - 415ms/epoch - 2ms/step\n",
      "Epoch 11/100\n",
      "189/189 - 0s - loss: 0.0141 - mse: 0.0141 - mae: 0.0952 - mape: 46.7953 - val_loss: 0.0178 - val_mse: 0.0178 - val_mae: 0.1111 - val_mape: 18.2599 - 401ms/epoch - 2ms/step\n",
      "Epoch 12/100\n",
      "189/189 - 0s - loss: 0.0129 - mse: 0.0129 - mae: 0.0917 - mape: 44.3209 - val_loss: 0.0137 - val_mse: 0.0137 - val_mae: 0.0966 - val_mape: 16.0082 - 420ms/epoch - 2ms/step\n",
      "Epoch 13/100\n",
      "189/189 - 0s - loss: 0.0119 - mse: 0.0119 - mae: 0.0870 - mape: 42.3296 - val_loss: 0.0136 - val_mse: 0.0136 - val_mae: 0.0967 - val_mape: 16.1032 - 403ms/epoch - 2ms/step\n",
      "Epoch 14/100\n",
      "189/189 - 0s - loss: 0.0114 - mse: 0.0114 - mae: 0.0860 - mape: 41.0739 - val_loss: 0.0111 - val_mse: 0.0111 - val_mae: 0.0858 - val_mape: 14.4711 - 415ms/epoch - 2ms/step\n",
      "Epoch 15/100\n",
      "189/189 - 0s - loss: 0.0106 - mse: 0.0106 - mae: 0.0823 - mape: 38.6854 - val_loss: 0.0072 - val_mse: 0.0072 - val_mae: 0.0664 - val_mape: 11.6641 - 439ms/epoch - 2ms/step\n",
      "Epoch 16/100\n",
      "189/189 - 0s - loss: 0.0107 - mse: 0.0107 - mae: 0.0831 - mape: 38.4973 - val_loss: 0.0089 - val_mse: 0.0089 - val_mae: 0.0761 - val_mape: 13.0935 - 438ms/epoch - 2ms/step\n",
      "Epoch 17/100\n",
      "189/189 - 0s - loss: 0.0104 - mse: 0.0104 - mae: 0.0811 - mape: 37.6651 - val_loss: 0.0090 - val_mse: 0.0090 - val_mae: 0.0769 - val_mape: 13.2496 - 446ms/epoch - 2ms/step\n",
      "Epoch 18/100\n",
      "189/189 - 0s - loss: 0.0101 - mse: 0.0101 - mae: 0.0798 - mape: 36.4568 - val_loss: 0.0101 - val_mse: 0.0101 - val_mae: 0.0820 - val_mape: 14.0679 - 437ms/epoch - 2ms/step\n",
      "Epoch 19/100\n",
      "189/189 - 0s - loss: 0.0103 - mse: 0.0103 - mae: 0.0814 - mape: 36.6913 - val_loss: 0.0091 - val_mse: 0.0091 - val_mae: 0.0778 - val_mape: 13.4494 - 459ms/epoch - 2ms/step\n",
      "Epoch 20/100\n",
      "189/189 - 0s - loss: 0.0099 - mse: 0.0099 - mae: 0.0797 - mape: 36.4382 - val_loss: 0.0102 - val_mse: 0.0102 - val_mae: 0.0829 - val_mape: 14.2757 - 460ms/epoch - 2ms/step\n",
      "Epoch 21/100\n",
      "189/189 - 0s - loss: 0.0100 - mse: 0.0100 - mae: 0.0800 - mape: 35.1697 - val_loss: 0.0088 - val_mse: 0.0088 - val_mae: 0.0760 - val_mape: 13.2152 - 427ms/epoch - 2ms/step\n",
      "Epoch 22/100\n",
      "189/189 - 0s - loss: 0.0097 - mse: 0.0097 - mae: 0.0777 - mape: 34.6361 - val_loss: 0.0074 - val_mse: 0.0074 - val_mae: 0.0664 - val_mape: 11.8795 - 415ms/epoch - 2ms/step\n",
      "Epoch 23/100\n",
      "189/189 - 0s - loss: 0.0100 - mse: 0.0100 - mae: 0.0793 - mape: 35.9604 - val_loss: 0.0084 - val_mse: 0.0084 - val_mae: 0.0741 - val_mape: 12.9522 - 414ms/epoch - 2ms/step\n",
      "Epoch 24/100\n",
      "189/189 - 0s - loss: 0.0099 - mse: 0.0099 - mae: 0.0781 - mape: 34.5906 - val_loss: 0.0091 - val_mse: 0.0091 - val_mae: 0.0781 - val_mape: 13.5655 - 481ms/epoch - 3ms/step\n",
      "Epoch 25/100\n",
      "189/189 - 0s - loss: 0.0100 - mse: 0.0100 - mae: 0.0795 - mape: 35.0722 - val_loss: 0.0079 - val_mse: 0.0079 - val_mae: 0.0705 - val_mape: 12.4455 - 421ms/epoch - 2ms/step\n",
      "Epoch 26/100\n",
      "189/189 - 0s - loss: 0.0099 - mse: 0.0099 - mae: 0.0786 - mape: 34.6272 - val_loss: 0.0080 - val_mse: 0.0080 - val_mae: 0.0714 - val_mape: 12.5712 - 446ms/epoch - 2ms/step\n",
      "Epoch 27/100\n",
      "189/189 - 0s - loss: 0.0099 - mse: 0.0099 - mae: 0.0788 - mape: 34.2459 - val_loss: 0.0076 - val_mse: 0.0076 - val_mae: 0.0678 - val_mape: 12.0768 - 466ms/epoch - 2ms/step\n",
      "Epoch 28/100\n",
      "189/189 - 0s - loss: 0.0100 - mse: 0.0100 - mae: 0.0783 - mape: 34.9323 - val_loss: 0.0076 - val_mse: 0.0076 - val_mae: 0.0674 - val_mape: 12.0377 - 432ms/epoch - 2ms/step\n",
      "Epoch 29/100\n",
      "189/189 - 0s - loss: 0.0099 - mse: 0.0099 - mae: 0.0789 - mape: 34.5452 - val_loss: 0.0091 - val_mse: 0.0091 - val_mae: 0.0777 - val_mape: 13.5334 - 415ms/epoch - 2ms/step\n",
      "Epoch 30/100\n",
      "189/189 - 0s - loss: 0.0098 - mse: 0.0098 - mae: 0.0786 - mape: 34.7336 - val_loss: 0.0089 - val_mse: 0.0089 - val_mae: 0.0767 - val_mape: 13.3787 - 437ms/epoch - 2ms/step\n",
      "Epoch 31/100\n",
      "189/189 - 0s - loss: 0.0099 - mse: 0.0099 - mae: 0.0791 - mape: 34.6035 - val_loss: 0.0081 - val_mse: 0.0081 - val_mae: 0.0719 - val_mape: 12.6534 - 432ms/epoch - 2ms/step\n",
      "Epoch 32/100\n",
      "189/189 - 0s - loss: 0.0099 - mse: 0.0099 - mae: 0.0795 - mape: 34.9522 - val_loss: 0.0097 - val_mse: 0.0097 - val_mae: 0.0811 - val_mape: 14.0634 - 422ms/epoch - 2ms/step\n",
      "Epoch 33/100\n",
      "189/189 - 0s - loss: 0.0099 - mse: 0.0099 - mae: 0.0782 - mape: 34.2704 - val_loss: 0.0098 - val_mse: 0.0098 - val_mae: 0.0817 - val_mape: 14.1541 - 404ms/epoch - 2ms/step\n",
      "Epoch 34/100\n",
      "189/189 - 0s - loss: 0.0100 - mse: 0.0100 - mae: 0.0792 - mape: 34.8279 - val_loss: 0.0082 - val_mse: 0.0082 - val_mae: 0.0721 - val_mape: 12.6893 - 417ms/epoch - 2ms/step\n",
      "Epoch 35/100\n",
      "189/189 - 0s - loss: 0.0099 - mse: 0.0099 - mae: 0.0793 - mape: 34.5738 - val_loss: 0.0082 - val_mse: 0.0082 - val_mae: 0.0724 - val_mape: 12.7268 - 443ms/epoch - 2ms/step\n",
      "Epoch 36/100\n",
      "189/189 - 0s - loss: 0.0098 - mse: 0.0098 - mae: 0.0789 - mape: 34.9596 - val_loss: 0.0096 - val_mse: 0.0096 - val_mae: 0.0806 - val_mape: 13.9982 - 423ms/epoch - 2ms/step\n",
      "Epoch 37/100\n",
      "189/189 - 0s - loss: 0.0101 - mse: 0.0101 - mae: 0.0786 - mape: 34.3823 - val_loss: 0.0091 - val_mse: 0.0091 - val_mae: 0.0780 - val_mape: 13.5792 - 422ms/epoch - 2ms/step\n"
     ]
    }
   ],
   "source": [
    "# Train the model\n",
    "fit_model = model.fit(trainX, trainY, epochs=100, validation_split=0.3, batch_size=1, verbose=2, callbacks=[es])"
   ]
  },
  {
   "cell_type": "code",
   "execution_count": 19,
   "id": "4fb6bb13",
   "metadata": {},
   "outputs": [
    {
     "data": {
      "text/plain": [
       "dict_keys(['loss', 'mse', 'mae', 'mape', 'val_loss', 'val_mse', 'val_mae', 'val_mape'])"
      ]
     },
     "execution_count": 19,
     "metadata": {},
     "output_type": "execute_result"
    }
   ],
   "source": [
    "#Check the keys of the model\n",
    "fit_model.history.keys()"
   ]
  },
  {
   "cell_type": "code",
   "execution_count": 20,
   "id": "32eb5b3c",
   "metadata": {},
   "outputs": [
    {
     "data": {
      "text/plain": [
       "[<matplotlib.lines.Line2D at 0x233b072e3a0>]"
      ]
     },
     "execution_count": 20,
     "metadata": {},
     "output_type": "execute_result"
    },
    {
     "data": {
      "image/png": "[encoded data removed]",
      "text/plain": [
       "<Figure size 432x288 with 1 Axes>"
      ]
     },
     "metadata": {
      "needs_background": "light"
     },
     "output_type": "display_data"
    }
   ],
   "source": [
    "# Display the loss\n",
    "plt.plot(fit_model.history[\"loss\"])"
   ]
  },
  {
   "cell_type": "code",
   "execution_count": 21,
   "id": "3060f92f",
   "metadata": {},
   "outputs": [
    {
     "data": {
      "text/plain": [
       "[<matplotlib.lines.Line2D at 0x233af6e8640>]"
      ]
     },
     "execution_count": 21,
     "metadata": {},
     "output_type": "execute_result"
    },
    {
     "data": {
      "image/png": "[encoded data removed]",
      "text/plain": [
       "<Figure size 432x288 with 1 Axes>"
      ]
     },
     "metadata": {
      "needs_background": "light"
     },
     "output_type": "display_data"
    }
   ],
   "source": [
    "# Display the MSE, which should be equal to the loss\n",
    "plt.plot(fit_model.history[\"mse\"])"
   ]
  },
  {
   "cell_type": "code",
   "execution_count": 22,
   "id": "c8bd52cd",
   "metadata": {
    "scrolled": true
   },
   "outputs": [
    {
     "data": {
      "text/plain": [
       "[<matplotlib.lines.Line2D at 0x233ae14ef40>]"
      ]
     },
     "execution_count": 22,
     "metadata": {},
     "output_type": "execute_result"
    },
    {
     "data": {
      "image/png": "[encoded data removed]",
      "text/plain": [
       "<Figure size 432x288 with 1 Axes>"
      ]
     },
     "metadata": {
      "needs_background": "light"
     },
     "output_type": "display_data"
    }
   ],
   "source": [
    "# Display the mae\n",
    "plt.plot(fit_model.history[\"mae\"])"
   ]
  },
  {
   "cell_type": "code",
   "execution_count": 23,
   "id": "50133752",
   "metadata": {
    "scrolled": false
   },
   "outputs": [
    {
     "data": {
      "text/plain": [
       "[<matplotlib.lines.Line2D at 0x233b0e9ee50>]"
      ]
     },
     "execution_count": 23,
     "metadata": {},
     "output_type": "execute_result"
    },
    {
     "data": {
      "image/png": "[encoded data removed]",
      "text/plain": [
       "<Figure size 432x288 with 1 Axes>"
      ]
     },
     "metadata": {
      "needs_background": "light"
     },
     "output_type": "display_data"
    }
   ],
   "source": [
    "# Display the mape\n",
    "plt.plot(fit_model.history[\"mape\"])"
   ]
  },
  {
   "cell_type": "code",
   "execution_count": 24,
   "id": "51e15162",
   "metadata": {},
   "outputs": [
    {
     "data": {
      "text/plain": [
       "[<matplotlib.lines.Line2D at 0x233b0f7ecd0>]"
      ]
     },
     "execution_count": 24,
     "metadata": {},
     "output_type": "execute_result"
    },
    {
     "data": {
      "image/png": "[encoded data removed]",
      "text/plain": [
       "<Figure size 432x288 with 1 Axes>"
      ]
     },
     "metadata": {
      "needs_background": "light"
     },
     "output_type": "display_data"
    }
   ],
   "source": [
    "# Display the val_loss\n",
    "plt.plot(fit_model.history[\"val_loss\"])"
   ]
  },
  {
   "cell_type": "code",
   "execution_count": 25,
   "id": "4f39a4f7",
   "metadata": {
    "scrolled": true
   },
   "outputs": [
    {
     "data": {
      "text/plain": [
       "[<matplotlib.lines.Line2D at 0x233b0fe8880>]"
      ]
     },
     "execution_count": 25,
     "metadata": {},
     "output_type": "execute_result"
    },
    {
     "data": {
      "image/png": "[encoded data removed]",
      "text/plain": [
       "<Figure size 432x288 with 1 Axes>"
      ]
     },
     "metadata": {
      "needs_background": "light"
     },
     "output_type": "display_data"
    }
   ],
   "source": [
    "# Display the val_mse\n",
    "plt.plot(fit_model.history[\"val_mse\"])"
   ]
  },
  {
   "cell_type": "code",
   "execution_count": 26,
   "id": "6c8b2c72",
   "metadata": {
    "scrolled": true
   },
   "outputs": [
    {
     "data": {
      "text/plain": [
       "[<matplotlib.lines.Line2D at 0x233b10545b0>]"
      ]
     },
     "execution_count": 26,
     "metadata": {},
     "output_type": "execute_result"
    },
    {
     "data": {
      "image/png": "[encoded data removed]",
      "text/plain": [
       "<Figure size 432x288 with 1 Axes>"
      ]
     },
     "metadata": {
      "needs_background": "light"
     },
     "output_type": "display_data"
    }
   ],
   "source": [
    "# Display the val_mae\n",
    "plt.plot(fit_model.history[\"val_mae\"])"
   ]
  },
  {
   "cell_type": "code",
   "execution_count": 27,
   "id": "eee75c96",
   "metadata": {},
   "outputs": [
    {
     "data": {
      "text/plain": [
       "[<matplotlib.lines.Line2D at 0x233b10c1280>]"
      ]
     },
     "execution_count": 27,
     "metadata": {},
     "output_type": "execute_result"
    },
    {
     "data": {
      "image/png": "[encoded data removed]",
      "text/plain": [
       "<Figure size 432x288 with 1 Axes>"
      ]
     },
     "metadata": {
      "needs_background": "light"
     },
     "output_type": "display_data"
    }
   ],
   "source": [
    "# Display the val_mape\n",
    "plt.plot(fit_model.history[\"val_mape\"])"
   ]
  },
  {
   "cell_type": "code",
   "execution_count": 28,
   "id": "f6b16dad",
   "metadata": {
    "scrolled": true
   },
   "outputs": [
    {
     "name": "stdout",
     "output_type": "stream",
     "text": [
      "9/9 [==============================] - 0s 2ms/step\n",
      "3/3 [==============================] - 0s 1ms/step\n"
     ]
    }
   ],
   "source": [
    "# Make predictions\n",
    "trainPredict = model.predict(trainX)\n",
    "testPredict = model.predict(testX)"
   ]
  },
  {
   "cell_type": "code",
   "execution_count": 29,
   "id": "1d754fa5",
   "metadata": {},
   "outputs": [],
   "source": [
    "# Invert predictions\n",
    "trainPredict = scaler.inverse_transform(trainPredict)\n",
    "trainY = scaler.inverse_transform([trainY])\n",
    "testPredict = scaler.inverse_transform(testPredict)\n",
    "testY = scaler.inverse_transform([testY])"
   ]
  },
  {
   "cell_type": "code",
   "execution_count": 30,
   "id": "555906d6",
   "metadata": {},
   "outputs": [
    {
     "data": {
      "text/plain": [
       "('Train Score: 24.28 RMSE', 'Test Score: 19.90 RMSE')"
      ]
     },
     "execution_count": 30,
     "metadata": {},
     "output_type": "execute_result"
    }
   ],
   "source": [
    "# Calculate root mean squared error\n",
    "trainScore = math.sqrt(mean_squared_error(trainY[0], trainPredict[:,0]))\n",
    "show_trainScore = 'Train Score: %.2f RMSE' % (trainScore)\n",
    "testScore = math.sqrt(mean_squared_error(testY[0], testPredict[:,0]))\n",
    "show_testScore = 'Test Score: %.2f RMSE' % (testScore)\n",
    "\n",
    "show_trainScore, show_testScore"
   ]
  },
  {
   "cell_type": "code",
   "execution_count": 31,
   "id": "3a578b09",
   "metadata": {},
   "outputs": [
    {
     "data": {
      "image/png": "[encoded data removed]",
      "text/plain": [
       "<Figure size 432x288 with 1 Axes>"
      ]
     },
     "metadata": {
      "needs_background": "light"
     },
     "output_type": "display_data"
    }
   ],
   "source": [
    "# shift train predictions for plotting\n",
    "trainPredictPlot = np.empty_like(total)\n",
    "trainPredictPlot[:, :] = np.nan\n",
    "trainPredictPlot[look_back:len(trainPredict)+look_back, :] = trainPredict\n",
    "# shift test predictions for plotting\n",
    "testPredictPlot = np.empty_like(total)\n",
    "testPredictPlot[:, :] = np.nan\n",
    "testPredictPlot[len(trainPredict)+(look_back*2)+1:len(total)-1, :] = testPredict\n",
    "# plot baseline and predictions\n",
    "plt.plot(scaler.inverse_transform(total))\n",
    "plt.plot(trainPredictPlot)\n",
    "plt.plot(testPredictPlot)\n",
    "graph = plt.show()\n",
    "graph"
   ]
  },
  {
   "cell_type": "code",
   "execution_count": null,
   "id": "0eb938d3",
   "metadata": {},
   "outputs": [],
   "source": []
  }
 ],
 "metadata": {
  "kernelspec": {
   "display_name": "mlenv",
   "language": "python",
   "name": "mlenv"
  },
  "language_info": {
   "codemirror_mode": {
    "name": "ipython",
    "version": 3
   },
   "file_extension": ".py",
   "mimetype": "text/x-python",
   "name": "python",
   "nbconvert_exporter": "python",
   "pygments_lexer": "ipython3",
   "version": "3.9.7"
  }
 },
 "nbformat": 4,
 "nbformat_minor": 5
}
