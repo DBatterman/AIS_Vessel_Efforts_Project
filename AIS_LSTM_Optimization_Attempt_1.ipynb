{
 "cells": [
  {
   "cell_type": "code",
   "execution_count": 1,
   "id": "b431f951",
   "metadata": {},
   "outputs": [],
   "source": [
    "# Import our dependencies\n",
    "import numpy as np\n",
    "import matplotlib.pyplot as plt\n",
    "import pandas as pd\n",
    "import math\n",
    "from keras.models import Sequential\n",
    "from keras.layers import Dense, LSTM, Dropout\n",
    "from sklearn.preprocessing import MinMaxScaler\n",
    "from sklearn.metrics import mean_squared_error\n",
    "from keras.callbacks import EarlyStopping, ModelCheckpoint\n",
    "\n",
    "# Fix a random seed so the data can be reproduced\n",
    "np.random.seed(24)\n",
    "\n",
    "# Upload and read the csv files\n",
    "ais_df = pd.read_csv(\"ml_data_daily_2018.csv\", index_col=0)"
   ]
  },
  {
   "cell_type": "code",
   "execution_count": 2,
   "id": "fa959ae4",
   "metadata": {
    "scrolled": true
   },
   "outputs": [
    {
     "data": {
      "text/html": [
       "<div>\n",
       "<style scoped>\n",
       "    .dataframe tbody tr th:only-of-type {\n",
       "        vertical-align: middle;\n",
       "    }\n",
       "\n",
       "    .dataframe tbody tr th {\n",
       "        vertical-align: top;\n",
       "    }\n",
       "\n",
       "    .dataframe thead th {\n",
       "        text-align: right;\n",
       "    }\n",
       "</style>\n",
       "<table border=\"1\" class=\"dataframe\">\n",
       "  <thead>\n",
       "    <tr style=\"text-align: right;\">\n",
       "      <th></th>\n",
       "      <th>Fishing</th>\n",
       "      <th>TugTow</th>\n",
       "      <th>Recreational</th>\n",
       "      <th>Passenger</th>\n",
       "      <th>Cargo</th>\n",
       "      <th>Tanker</th>\n",
       "      <th>Other</th>\n",
       "      <th>Unavailable</th>\n",
       "    </tr>\n",
       "  </thead>\n",
       "  <tbody>\n",
       "    <tr>\n",
       "      <th>2018/01/01</th>\n",
       "      <td>9</td>\n",
       "      <td>37</td>\n",
       "      <td>145</td>\n",
       "      <td>44</td>\n",
       "      <td>27</td>\n",
       "      <td>13</td>\n",
       "      <td>12</td>\n",
       "      <td>7</td>\n",
       "    </tr>\n",
       "    <tr>\n",
       "      <th>2018/01/02</th>\n",
       "      <td>13</td>\n",
       "      <td>45</td>\n",
       "      <td>119</td>\n",
       "      <td>41</td>\n",
       "      <td>27</td>\n",
       "      <td>14</td>\n",
       "      <td>19</td>\n",
       "      <td>10</td>\n",
       "    </tr>\n",
       "    <tr>\n",
       "      <th>2018/01/03</th>\n",
       "      <td>13</td>\n",
       "      <td>44</td>\n",
       "      <td>106</td>\n",
       "      <td>40</td>\n",
       "      <td>36</td>\n",
       "      <td>14</td>\n",
       "      <td>20</td>\n",
       "      <td>11</td>\n",
       "    </tr>\n",
       "    <tr>\n",
       "      <th>2018/01/04</th>\n",
       "      <td>15</td>\n",
       "      <td>44</td>\n",
       "      <td>103</td>\n",
       "      <td>45</td>\n",
       "      <td>30</td>\n",
       "      <td>10</td>\n",
       "      <td>15</td>\n",
       "      <td>12</td>\n",
       "    </tr>\n",
       "    <tr>\n",
       "      <th>2018/01/05</th>\n",
       "      <td>10</td>\n",
       "      <td>45</td>\n",
       "      <td>107</td>\n",
       "      <td>41</td>\n",
       "      <td>26</td>\n",
       "      <td>13</td>\n",
       "      <td>21</td>\n",
       "      <td>10</td>\n",
       "    </tr>\n",
       "  </tbody>\n",
       "</table>\n",
       "</div>"
      ],
      "text/plain": [
       "            Fishing  TugTow  Recreational  Passenger  Cargo  Tanker  Other  \\\n",
       "2018/01/01        9      37           145         44     27      13     12   \n",
       "2018/01/02       13      45           119         41     27      14     19   \n",
       "2018/01/03       13      44           106         40     36      14     20   \n",
       "2018/01/04       15      44           103         45     30      10     15   \n",
       "2018/01/05       10      45           107         41     26      13     21   \n",
       "\n",
       "            Unavailable  \n",
       "2018/01/01            7  \n",
       "2018/01/02           10  \n",
       "2018/01/03           11  \n",
       "2018/01/04           12  \n",
       "2018/01/05           10  "
      ]
     },
     "execution_count": 2,
     "metadata": {},
     "output_type": "execute_result"
    }
   ],
   "source": [
    "# Look at our data\n",
    "ais_df.head()"
   ]
  },
  {
   "cell_type": "code",
   "execution_count": 3,
   "id": "1455e23e",
   "metadata": {
    "scrolled": true
   },
   "outputs": [
    {
     "data": {
      "text/html": [
       "<div>\n",
       "<style scoped>\n",
       "    .dataframe tbody tr th:only-of-type {\n",
       "        vertical-align: middle;\n",
       "    }\n",
       "\n",
       "    .dataframe tbody tr th {\n",
       "        vertical-align: top;\n",
       "    }\n",
       "\n",
       "    .dataframe thead th {\n",
       "        text-align: right;\n",
       "    }\n",
       "</style>\n",
       "<table border=\"1\" class=\"dataframe\">\n",
       "  <thead>\n",
       "    <tr style=\"text-align: right;\">\n",
       "      <th></th>\n",
       "      <th>Fishing</th>\n",
       "      <th>TugTow</th>\n",
       "      <th>Recreational</th>\n",
       "      <th>Passenger</th>\n",
       "      <th>Cargo</th>\n",
       "      <th>Tanker</th>\n",
       "      <th>Other</th>\n",
       "      <th>Unavailable</th>\n",
       "      <th>Total</th>\n",
       "    </tr>\n",
       "  </thead>\n",
       "  <tbody>\n",
       "    <tr>\n",
       "      <th>2018/01/01</th>\n",
       "      <td>9</td>\n",
       "      <td>37</td>\n",
       "      <td>145</td>\n",
       "      <td>44</td>\n",
       "      <td>27</td>\n",
       "      <td>13</td>\n",
       "      <td>12</td>\n",
       "      <td>7</td>\n",
       "      <td>294</td>\n",
       "    </tr>\n",
       "    <tr>\n",
       "      <th>2018/01/02</th>\n",
       "      <td>13</td>\n",
       "      <td>45</td>\n",
       "      <td>119</td>\n",
       "      <td>41</td>\n",
       "      <td>27</td>\n",
       "      <td>14</td>\n",
       "      <td>19</td>\n",
       "      <td>10</td>\n",
       "      <td>288</td>\n",
       "    </tr>\n",
       "    <tr>\n",
       "      <th>2018/01/03</th>\n",
       "      <td>13</td>\n",
       "      <td>44</td>\n",
       "      <td>106</td>\n",
       "      <td>40</td>\n",
       "      <td>36</td>\n",
       "      <td>14</td>\n",
       "      <td>20</td>\n",
       "      <td>11</td>\n",
       "      <td>284</td>\n",
       "    </tr>\n",
       "    <tr>\n",
       "      <th>2018/01/04</th>\n",
       "      <td>15</td>\n",
       "      <td>44</td>\n",
       "      <td>103</td>\n",
       "      <td>45</td>\n",
       "      <td>30</td>\n",
       "      <td>10</td>\n",
       "      <td>15</td>\n",
       "      <td>12</td>\n",
       "      <td>274</td>\n",
       "    </tr>\n",
       "    <tr>\n",
       "      <th>2018/01/05</th>\n",
       "      <td>10</td>\n",
       "      <td>45</td>\n",
       "      <td>107</td>\n",
       "      <td>41</td>\n",
       "      <td>26</td>\n",
       "      <td>13</td>\n",
       "      <td>21</td>\n",
       "      <td>10</td>\n",
       "      <td>273</td>\n",
       "    </tr>\n",
       "  </tbody>\n",
       "</table>\n",
       "</div>"
      ],
      "text/plain": [
       "            Fishing  TugTow  Recreational  Passenger  Cargo  Tanker  Other  \\\n",
       "2018/01/01        9      37           145         44     27      13     12   \n",
       "2018/01/02       13      45           119         41     27      14     19   \n",
       "2018/01/03       13      44           106         40     36      14     20   \n",
       "2018/01/04       15      44           103         45     30      10     15   \n",
       "2018/01/05       10      45           107         41     26      13     21   \n",
       "\n",
       "            Unavailable  Total  \n",
       "2018/01/01            7    294  \n",
       "2018/01/02           10    288  \n",
       "2018/01/03           11    284  \n",
       "2018/01/04           12    274  \n",
       "2018/01/05           10    273  "
      ]
     },
     "execution_count": 3,
     "metadata": {},
     "output_type": "execute_result"
    }
   ],
   "source": [
    "# Creating a total column for our data\n",
    "ais_df['Total']= ais_df.sum(axis=1)\n",
    "ais_df.head()"
   ]
  },
  {
   "cell_type": "code",
   "execution_count": 4,
   "id": "6ba0f154",
   "metadata": {},
   "outputs": [
    {
     "name": "stdout",
     "output_type": "stream",
     "text": [
      "<class 'pandas.core.frame.DataFrame'>\n",
      "Index: 365 entries, 2018/01/01 to 2018/12/31\n",
      "Data columns (total 9 columns):\n",
      " #   Column        Non-Null Count  Dtype\n",
      "---  ------        --------------  -----\n",
      " 0   Fishing       365 non-null    int64\n",
      " 1   TugTow        365 non-null    int64\n",
      " 2   Recreational  365 non-null    int64\n",
      " 3   Passenger     365 non-null    int64\n",
      " 4   Cargo         365 non-null    int64\n",
      " 5   Tanker        365 non-null    int64\n",
      " 6   Other         365 non-null    int64\n",
      " 7   Unavailable   365 non-null    int64\n",
      " 8   Total         365 non-null    int64\n",
      "dtypes: int64(9)\n",
      "memory usage: 28.5+ KB\n"
     ]
    }
   ],
   "source": [
    "# And then check the type\n",
    "ais_df.info()"
   ]
  },
  {
   "cell_type": "code",
   "execution_count": 5,
   "id": "17356cb5",
   "metadata": {},
   "outputs": [],
   "source": [
    "# Create nine DataFrames, each with the Date and one unique column:\n",
    "\n",
    "# Fishing\n",
    "ais_fishing_df = ais_df.loc[:, ['Fishing']]\n",
    "\n",
    "# TugTow\n",
    "ais_tugtow_df = ais_df.loc[:, ['TugTow']]\n",
    "\n",
    "# Recreational\n",
    "ais_recreational_df = ais_df.loc[:, ['Recreational']]\n",
    "\n",
    "# Passenger\n",
    "ais_passenger_df = ais_df.loc[:, ['Passenger']]\n",
    "\n",
    "# Cargo\n",
    "ais_cargo_df = ais_df.loc[:, ['Cargo']]\n",
    "\n",
    "# Tanker\n",
    "ais_tanker_df = ais_df.loc[:, ['Tanker']]\n",
    "\n",
    "# Other\n",
    "ais_other_df = ais_df.loc[:, ['Other']]\n",
    "\n",
    "# Unavailable\n",
    "ais_unavailable_df = ais_df.loc[:, ['Unavailable']]\n",
    "\n",
    "# Total\n",
    "ais_total_df = ais_df.loc[:, ['Total']]"
   ]
  },
  {
   "cell_type": "code",
   "execution_count": 6,
   "id": "c69479f8",
   "metadata": {
    "scrolled": true
   },
   "outputs": [
    {
     "data": {
      "text/html": [
       "<div>\n",
       "<style scoped>\n",
       "    .dataframe tbody tr th:only-of-type {\n",
       "        vertical-align: middle;\n",
       "    }\n",
       "\n",
       "    .dataframe tbody tr th {\n",
       "        vertical-align: top;\n",
       "    }\n",
       "\n",
       "    .dataframe thead th {\n",
       "        text-align: right;\n",
       "    }\n",
       "</style>\n",
       "<table border=\"1\" class=\"dataframe\">\n",
       "  <thead>\n",
       "    <tr style=\"text-align: right;\">\n",
       "      <th></th>\n",
       "      <th>Total</th>\n",
       "    </tr>\n",
       "  </thead>\n",
       "  <tbody>\n",
       "    <tr>\n",
       "      <th>2018/01/01</th>\n",
       "      <td>294</td>\n",
       "    </tr>\n",
       "    <tr>\n",
       "      <th>2018/01/02</th>\n",
       "      <td>288</td>\n",
       "    </tr>\n",
       "    <tr>\n",
       "      <th>2018/01/03</th>\n",
       "      <td>284</td>\n",
       "    </tr>\n",
       "    <tr>\n",
       "      <th>2018/01/04</th>\n",
       "      <td>274</td>\n",
       "    </tr>\n",
       "    <tr>\n",
       "      <th>2018/01/05</th>\n",
       "      <td>273</td>\n",
       "    </tr>\n",
       "    <tr>\n",
       "      <th>...</th>\n",
       "      <td>...</td>\n",
       "    </tr>\n",
       "    <tr>\n",
       "      <th>2018/12/27</th>\n",
       "      <td>298</td>\n",
       "    </tr>\n",
       "    <tr>\n",
       "      <th>2018/12/28</th>\n",
       "      <td>298</td>\n",
       "    </tr>\n",
       "    <tr>\n",
       "      <th>2018/12/29</th>\n",
       "      <td>306</td>\n",
       "    </tr>\n",
       "    <tr>\n",
       "      <th>2018/12/30</th>\n",
       "      <td>308</td>\n",
       "    </tr>\n",
       "    <tr>\n",
       "      <th>2018/12/31</th>\n",
       "      <td>297</td>\n",
       "    </tr>\n",
       "  </tbody>\n",
       "</table>\n",
       "<p>365 rows × 1 columns</p>\n",
       "</div>"
      ],
      "text/plain": [
       "            Total\n",
       "2018/01/01    294\n",
       "2018/01/02    288\n",
       "2018/01/03    284\n",
       "2018/01/04    274\n",
       "2018/01/05    273\n",
       "...           ...\n",
       "2018/12/27    298\n",
       "2018/12/28    298\n",
       "2018/12/29    306\n",
       "2018/12/30    308\n",
       "2018/12/31    297\n",
       "\n",
       "[365 rows x 1 columns]"
      ]
     },
     "execution_count": 6,
     "metadata": {},
     "output_type": "execute_result"
    }
   ],
   "source": [
    "# From here we will be using 'Total' as an example, and repeating the code for the rest of the data\n",
    "\n",
    "# Check the new DataFrame\n",
    "ais_total_df"
   ]
  },
  {
   "cell_type": "code",
   "execution_count": 7,
   "id": "19802b9c",
   "metadata": {},
   "outputs": [],
   "source": [
    "# From here, the code is heavily inspired by the code found on this site:\n",
    "# https://machinelearningmastery.com/time-series-prediction-lstm-recurrent-neural-networks-python-keras/"
   ]
  },
  {
   "cell_type": "code",
   "execution_count": 8,
   "id": "e17608de",
   "metadata": {},
   "outputs": [],
   "source": [
    "# Convert the DataFrame into an array, and change the type to floats for the Neural Network\n",
    "\n",
    "total = ais_total_df.values\n",
    "total = total.astype('float32')"
   ]
  },
  {
   "cell_type": "code",
   "execution_count": 9,
   "id": "86df82cc",
   "metadata": {},
   "outputs": [],
   "source": [
    "# Normalize the data by using a scaler\n",
    "scaler = MinMaxScaler(feature_range=(0, 1))\n",
    "total = scaler.fit_transform(total)"
   ]
  },
  {
   "cell_type": "code",
   "execution_count": 10,
   "id": "d31a5f56",
   "metadata": {},
   "outputs": [
    {
     "name": "stdout",
     "output_type": "stream",
     "text": [
      "273 92\n"
     ]
    }
   ],
   "source": [
    "# Split our data into training and testing using slicing, and check the length\n",
    "\n",
    "# Determin the length of what our split will be\n",
    "total_split = int(len(total) * 0.75)\n",
    "\n",
    "#Slice the data and print the results\n",
    "train, test = total[:total_split], total[total_split:]\n",
    "print(len(train), len(test))\n"
   ]
  },
  {
   "cell_type": "code",
   "execution_count": 11,
   "id": "73a5382f",
   "metadata": {},
   "outputs": [],
   "source": [
    "# Convert an array of values into a dataset matrix\n",
    "def create_dataset(dataset, look_back=1):\n",
    "    dataX, dataY = [], []\n",
    "    for i in range(len(dataset)-look_back-1):\n",
    "        a = dataset[i:(i+look_back), 0]\n",
    "        dataX.append(a)\n",
    "        dataY.append(dataset[i + look_back, 0])\n",
    "    return np.array(dataX), np.array(dataY)"
   ]
  },
  {
   "cell_type": "code",
   "execution_count": 12,
   "id": "6c8d5012",
   "metadata": {},
   "outputs": [],
   "source": [
    "# Reshape the values into X=t and Y=t+1\n",
    "look_back = 1\n",
    "trainX, trainY = create_dataset(train, look_back)\n",
    "testX, testY = create_dataset(test, look_back)"
   ]
  },
  {
   "cell_type": "code",
   "execution_count": 13,
   "id": "d28928b0",
   "metadata": {},
   "outputs": [],
   "source": [
    "# Reshape the data to incorperate into the LSTM\n",
    "trainX = np.reshape(trainX, (trainX.shape[0], 1, trainX.shape[1]))\n",
    "testX = np.reshape(testX, (testX.shape[0], 1, testX.shape[1]))"
   ]
  },
  {
   "cell_type": "code",
   "execution_count": 14,
   "id": "35c4fbd1",
   "metadata": {},
   "outputs": [],
   "source": [
    "# create and fit the LSTM network\n",
    "model = Sequential()\n",
    "\n",
    "# Create the initial layer\n",
    "model.add(LSTM(4, activation='relu', input_shape=(1, look_back)))\n",
    "\n",
    "# Create the second layer\n",
    "model.add(Dense(2))\n",
    "\n",
    "# Create the third layer\n",
    "model.add(Dense(1))"
   ]
  },
  {
   "cell_type": "code",
   "execution_count": 15,
   "id": "2528d2ae",
   "metadata": {
    "scrolled": true
   },
   "outputs": [
    {
     "name": "stdout",
     "output_type": "stream",
     "text": [
      "Model: \"sequential\"\n",
      "_________________________________________________________________\n",
      " Layer (type)                Output Shape              Param #   \n",
      "=================================================================\n",
      " lstm (LSTM)                 (None, 4)                 96        \n",
      "                                                                 \n",
      " dense (Dense)               (None, 2)                 10        \n",
      "                                                                 \n",
      " dense_1 (Dense)             (None, 1)                 3         \n",
      "                                                                 \n",
      "=================================================================\n",
      "Total params: 109\n",
      "Trainable params: 109\n",
      "Non-trainable params: 0\n",
      "_________________________________________________________________\n"
     ]
    }
   ],
   "source": [
    "# Check the summary of the model\n",
    "model.summary()"
   ]
  },
  {
   "cell_type": "code",
   "execution_count": 16,
   "id": "9ca304de",
   "metadata": {},
   "outputs": [],
   "source": [
    "# Compile the model\n",
    "model.compile(loss='mean_squared_error', optimizer='adam', metrics=['mse', 'mae', 'mape'])"
   ]
  },
  {
   "cell_type": "code",
   "execution_count": 17,
   "id": "3bc780ec",
   "metadata": {},
   "outputs": [],
   "source": [
    "# Creating callbacks to load the model for a future time\n",
    "es = [EarlyStopping(monitor='loss', patience=15)]"
   ]
  },
  {
   "cell_type": "code",
   "execution_count": 18,
   "id": "2e4ca600",
   "metadata": {},
   "outputs": [
    {
     "name": "stdout",
     "output_type": "stream",
     "text": [
      "Epoch 1/100\n",
      "189/189 - 2s - loss: 0.0618 - mse: 0.0618 - mae: 0.2003 - mape: 58.3951 - val_loss: 0.0485 - val_mse: 0.0485 - val_mae: 0.1951 - val_mape: 32.1614 - 2s/epoch - 11ms/step\n",
      "Epoch 2/100\n",
      "189/189 - 0s - loss: 0.0212 - mse: 0.0212 - mae: 0.1179 - mape: 55.4253 - val_loss: 0.0369 - val_mse: 0.0369 - val_mae: 0.1659 - val_mape: 27.0843 - 378ms/epoch - 2ms/step\n",
      "Epoch 3/100\n",
      "189/189 - 0s - loss: 0.0197 - mse: 0.0197 - mae: 0.1138 - mape: 54.3612 - val_loss: 0.0312 - val_mse: 0.0312 - val_mae: 0.1509 - val_mape: 24.5813 - 376ms/epoch - 2ms/step\n",
      "Epoch 4/100\n",
      "189/189 - 0s - loss: 0.0184 - mse: 0.0184 - mae: 0.1096 - mape: 52.8034 - val_loss: 0.0293 - val_mse: 0.0293 - val_mae: 0.1464 - val_mape: 23.8882 - 398ms/epoch - 2ms/step\n",
      "Epoch 5/100\n",
      "189/189 - 0s - loss: 0.0171 - mse: 0.0171 - mae: 0.1062 - mape: 51.3311 - val_loss: 0.0238 - val_mse: 0.0238 - val_mae: 0.1297 - val_mape: 21.1420 - 381ms/epoch - 2ms/step\n",
      "Epoch 6/100\n",
      "189/189 - 0s - loss: 0.0156 - mse: 0.0156 - mae: 0.1011 - mape: 49.7416 - val_loss: 0.0249 - val_mse: 0.0249 - val_mae: 0.1347 - val_mape: 22.0726 - 412ms/epoch - 2ms/step\n",
      "Epoch 7/100\n",
      "189/189 - 0s - loss: 0.0144 - mse: 0.0144 - mae: 0.0978 - mape: 46.3168 - val_loss: 0.0166 - val_mse: 0.0166 - val_mae: 0.1061 - val_mape: 17.3753 - 382ms/epoch - 2ms/step\n",
      "Epoch 8/100\n",
      "189/189 - 0s - loss: 0.0133 - mse: 0.0133 - mae: 0.0929 - mape: 44.7869 - val_loss: 0.0126 - val_mse: 0.0126 - val_mae: 0.0914 - val_mape: 15.1232 - 383ms/epoch - 2ms/step\n",
      "Epoch 9/100\n",
      "189/189 - 1s - loss: 0.0123 - mse: 0.0123 - mae: 0.0894 - mape: 43.6907 - val_loss: 0.0127 - val_mse: 0.0127 - val_mae: 0.0927 - val_mape: 15.4230 - 541ms/epoch - 3ms/step\n",
      "Epoch 10/100\n",
      "189/189 - 0s - loss: 0.0116 - mse: 0.0116 - mae: 0.0865 - mape: 40.7430 - val_loss: 0.0172 - val_mse: 0.0172 - val_mae: 0.1115 - val_mape: 18.6038 - 413ms/epoch - 2ms/step\n",
      "Epoch 11/100\n",
      "189/189 - 0s - loss: 0.0112 - mse: 0.0112 - mae: 0.0844 - mape: 40.0386 - val_loss: 0.0112 - val_mse: 0.0112 - val_mae: 0.0863 - val_mape: 14.5745 - 421ms/epoch - 2ms/step\n",
      "Epoch 12/100\n",
      "189/189 - 0s - loss: 0.0108 - mse: 0.0108 - mae: 0.0825 - mape: 38.8361 - val_loss: 0.0102 - val_mse: 0.0102 - val_mae: 0.0819 - val_mape: 13.9404 - 417ms/epoch - 2ms/step\n",
      "Epoch 13/100\n",
      "189/189 - 1s - loss: 0.0106 - mse: 0.0106 - mae: 0.0821 - mape: 37.8590 - val_loss: 0.0099 - val_mse: 0.0099 - val_mae: 0.0809 - val_mape: 13.8223 - 513ms/epoch - 3ms/step\n",
      "Epoch 14/100\n",
      "189/189 - 0s - loss: 0.0102 - mse: 0.0102 - mae: 0.0804 - mape: 37.4511 - val_loss: 0.0094 - val_mse: 0.0094 - val_mae: 0.0789 - val_mape: 13.5702 - 453ms/epoch - 2ms/step\n",
      "Epoch 15/100\n",
      "189/189 - 0s - loss: 0.0102 - mse: 0.0102 - mae: 0.0798 - mape: 36.5824 - val_loss: 0.0104 - val_mse: 0.0104 - val_mae: 0.0838 - val_mape: 14.3619 - 486ms/epoch - 3ms/step\n",
      "Epoch 16/100\n",
      "189/189 - 0s - loss: 0.0101 - mse: 0.0101 - mae: 0.0796 - mape: 36.2785 - val_loss: 0.0088 - val_mse: 0.0088 - val_mae: 0.0762 - val_mape: 13.2010 - 404ms/epoch - 2ms/step\n",
      "Epoch 17/100\n",
      "189/189 - 0s - loss: 0.0101 - mse: 0.0101 - mae: 0.0800 - mape: 34.8310 - val_loss: 0.0083 - val_mse: 0.0083 - val_mae: 0.0733 - val_mape: 12.7872 - 375ms/epoch - 2ms/step\n",
      "Epoch 18/100\n",
      "189/189 - 0s - loss: 0.0100 - mse: 0.0100 - mae: 0.0792 - mape: 35.2789 - val_loss: 0.0094 - val_mse: 0.0094 - val_mae: 0.0794 - val_mape: 13.7295 - 408ms/epoch - 2ms/step\n",
      "Epoch 19/100\n",
      "189/189 - 1s - loss: 0.0100 - mse: 0.0100 - mae: 0.0804 - mape: 36.2968 - val_loss: 0.0097 - val_mse: 0.0097 - val_mae: 0.0810 - val_mape: 14.0096 - 551ms/epoch - 3ms/step\n",
      "Epoch 20/100\n",
      "189/189 - 0s - loss: 0.0100 - mse: 0.0100 - mae: 0.0793 - mape: 35.2990 - val_loss: 0.0093 - val_mse: 0.0093 - val_mae: 0.0791 - val_mape: 13.7158 - 468ms/epoch - 2ms/step\n",
      "Epoch 21/100\n",
      "189/189 - 0s - loss: 0.0099 - mse: 0.0099 - mae: 0.0775 - mape: 34.3601 - val_loss: 0.0118 - val_mse: 0.0118 - val_mae: 0.0903 - val_mape: 15.5295 - 446ms/epoch - 2ms/step\n",
      "Epoch 22/100\n",
      "189/189 - 1s - loss: 0.0101 - mse: 0.0101 - mae: 0.0800 - mape: 35.1794 - val_loss: 0.0087 - val_mse: 0.0087 - val_mae: 0.0758 - val_mape: 13.2241 - 526ms/epoch - 3ms/step\n",
      "Epoch 23/100\n",
      "189/189 - 0s - loss: 0.0099 - mse: 0.0099 - mae: 0.0786 - mape: 34.8920 - val_loss: 0.0077 - val_mse: 0.0077 - val_mae: 0.0682 - val_mape: 12.1266 - 485ms/epoch - 3ms/step\n",
      "Epoch 24/100\n",
      "189/189 - 0s - loss: 0.0099 - mse: 0.0099 - mae: 0.0769 - mape: 34.2760 - val_loss: 0.0094 - val_mse: 0.0094 - val_mae: 0.0795 - val_mape: 13.8189 - 456ms/epoch - 2ms/step\n",
      "Epoch 25/100\n",
      "189/189 - 0s - loss: 0.0099 - mse: 0.0099 - mae: 0.0786 - mape: 35.5477 - val_loss: 0.0096 - val_mse: 0.0096 - val_mae: 0.0804 - val_mape: 13.9574 - 390ms/epoch - 2ms/step\n",
      "Epoch 26/100\n",
      "189/189 - 0s - loss: 0.0100 - mse: 0.0100 - mae: 0.0787 - mape: 34.4905 - val_loss: 0.0089 - val_mse: 0.0089 - val_mae: 0.0770 - val_mape: 13.4269 - 380ms/epoch - 2ms/step\n",
      "Epoch 27/100\n",
      "189/189 - 0s - loss: 0.0099 - mse: 0.0099 - mae: 0.0784 - mape: 34.8939 - val_loss: 0.0084 - val_mse: 0.0084 - val_mae: 0.0739 - val_mape: 12.9471 - 372ms/epoch - 2ms/step\n",
      "Epoch 28/100\n",
      "189/189 - 0s - loss: 0.0100 - mse: 0.0100 - mae: 0.0799 - mape: 35.2023 - val_loss: 0.0080 - val_mse: 0.0080 - val_mae: 0.0711 - val_mape: 12.5340 - 408ms/epoch - 2ms/step\n",
      "Epoch 29/100\n",
      "189/189 - 0s - loss: 0.0101 - mse: 0.0101 - mae: 0.0801 - mape: 35.5987 - val_loss: 0.0078 - val_mse: 0.0078 - val_mae: 0.0694 - val_mape: 12.2925 - 394ms/epoch - 2ms/step\n",
      "Epoch 30/100\n",
      "189/189 - 0s - loss: 0.0100 - mse: 0.0100 - mae: 0.0790 - mape: 34.7832 - val_loss: 0.0099 - val_mse: 0.0099 - val_mae: 0.0821 - val_mape: 14.2497 - 442ms/epoch - 2ms/step\n",
      "Epoch 31/100\n",
      "189/189 - 0s - loss: 0.0100 - mse: 0.0100 - mae: 0.0790 - mape: 34.7375 - val_loss: 0.0103 - val_mse: 0.0103 - val_mae: 0.0837 - val_mape: 14.4966 - 408ms/epoch - 2ms/step\n",
      "Epoch 32/100\n",
      "189/189 - 0s - loss: 0.0101 - mse: 0.0101 - mae: 0.0792 - mape: 35.3492 - val_loss: 0.0086 - val_mse: 0.0086 - val_mae: 0.0752 - val_mape: 13.1594 - 360ms/epoch - 2ms/step\n",
      "Epoch 33/100\n",
      "189/189 - 0s - loss: 0.0099 - mse: 0.0099 - mae: 0.0794 - mape: 34.8144 - val_loss: 0.0083 - val_mse: 0.0083 - val_mae: 0.0729 - val_mape: 12.8003 - 370ms/epoch - 2ms/step\n",
      "Epoch 34/100\n",
      "189/189 - 0s - loss: 0.0099 - mse: 0.0099 - mae: 0.0797 - mape: 34.7518 - val_loss: 0.0092 - val_mse: 0.0092 - val_mae: 0.0783 - val_mape: 13.6399 - 450ms/epoch - 2ms/step\n",
      "Epoch 35/100\n",
      "189/189 - 0s - loss: 0.0099 - mse: 0.0099 - mae: 0.0797 - mape: 34.6338 - val_loss: 0.0082 - val_mse: 0.0082 - val_mae: 0.0722 - val_mape: 12.7097 - 371ms/epoch - 2ms/step\n",
      "Epoch 36/100\n",
      "189/189 - 0s - loss: 0.0099 - mse: 0.0099 - mae: 0.0788 - mape: 34.6355 - val_loss: 0.0078 - val_mse: 0.0078 - val_mae: 0.0691 - val_mape: 12.2518 - 356ms/epoch - 2ms/step\n"
     ]
    }
   ],
   "source": [
    "# Train the model\n",
    "fit_model = model.fit(trainX, trainY, epochs=100, validation_split=0.3, batch_size=1, verbose=2, callbacks=[es])"
   ]
  },
  {
   "cell_type": "code",
   "execution_count": 19,
   "id": "4fb6bb13",
   "metadata": {},
   "outputs": [
    {
     "data": {
      "text/plain": [
       "dict_keys(['loss', 'mse', 'mae', 'mape', 'val_loss', 'val_mse', 'val_mae', 'val_mape'])"
      ]
     },
     "execution_count": 19,
     "metadata": {},
     "output_type": "execute_result"
    }
   ],
   "source": [
    "#Check the keys of the model\n",
    "fit_model.history.keys()"
   ]
  },
  {
   "cell_type": "code",
   "execution_count": 20,
   "id": "32eb5b3c",
   "metadata": {},
   "outputs": [
    {
     "data": {
      "text/plain": [
       "[<matplotlib.lines.Line2D at 0x21ae1a202b0>]"
      ]
     },
     "execution_count": 20,
     "metadata": {},
     "output_type": "execute_result"
    },
    {
     "data": {
      "image/png": "[encoded data removed]",
      "text/plain": [
       "<Figure size 432x288 with 1 Axes>"
      ]
     },
     "metadata": {
      "needs_background": "light"
     },
     "output_type": "display_data"
    }
   ],
   "source": [
    "# Display the loss\n",
    "plt.plot(fit_model.history[\"loss\"])"
   ]
  },
  {
   "cell_type": "code",
   "execution_count": 21,
   "id": "3060f92f",
   "metadata": {},
   "outputs": [
    {
     "data": {
      "text/plain": [
       "[<matplotlib.lines.Line2D at 0x21ae09e4280>]"
      ]
     },
     "execution_count": 21,
     "metadata": {},
     "output_type": "execute_result"
    },
    {
     "data": {
      "image/png": "[encoded data removed]",
      "text/plain": [
       "<Figure size 432x288 with 1 Axes>"
      ]
     },
     "metadata": {
      "needs_background": "light"
     },
     "output_type": "display_data"
    }
   ],
   "source": [
    "# Display the MSE, which should be equal to the loss\n",
    "plt.plot(fit_model.history[\"mse\"])"
   ]
  },
  {
   "cell_type": "code",
   "execution_count": 22,
   "id": "c8bd52cd",
   "metadata": {
    "scrolled": true
   },
   "outputs": [
    {
     "data": {
      "text/plain": [
       "[<matplotlib.lines.Line2D at 0x21ade18a970>]"
      ]
     },
     "execution_count": 22,
     "metadata": {},
     "output_type": "execute_result"
    },
    {
     "data": {
      "image/png": "[encoded data removed]",
      "text/plain": [
       "<Figure size 432x288 with 1 Axes>"
      ]
     },
     "metadata": {
      "needs_background": "light"
     },
     "output_type": "display_data"
    }
   ],
   "source": [
    "# Display the mae\n",
    "plt.plot(fit_model.history[\"mae\"])"
   ]
  },
  {
   "cell_type": "code",
   "execution_count": 23,
   "id": "50133752",
   "metadata": {
    "scrolled": false
   },
   "outputs": [
    {
     "data": {
      "text/plain": [
       "[<matplotlib.lines.Line2D at 0x21ae2205e80>]"
      ]
     },
     "execution_count": 23,
     "metadata": {},
     "output_type": "execute_result"
    },
    {
     "data": {
      "image/png": "[encoded data removed]",
      "text/plain": [
       "<Figure size 432x288 with 1 Axes>"
      ]
     },
     "metadata": {
      "needs_background": "light"
     },
     "output_type": "display_data"
    }
   ],
   "source": [
    "# Display the mape\n",
    "plt.plot(fit_model.history[\"mape\"])"
   ]
  },
  {
   "cell_type": "code",
   "execution_count": 24,
   "id": "51e15162",
   "metadata": {},
   "outputs": [
    {
     "data": {
      "text/plain": [
       "[<matplotlib.lines.Line2D at 0x21ae226eb20>]"
      ]
     },
     "execution_count": 24,
     "metadata": {},
     "output_type": "execute_result"
    },
    {
     "data": {
      "image/png": "[encoded data removed]",
      "text/plain": [
       "<Figure size 432x288 with 1 Axes>"
      ]
     },
     "metadata": {
      "needs_background": "light"
     },
     "output_type": "display_data"
    }
   ],
   "source": [
    "# Display the val_loss\n",
    "plt.plot(fit_model.history[\"val_loss\"])"
   ]
  },
  {
   "cell_type": "code",
   "execution_count": 25,
   "id": "4f39a4f7",
   "metadata": {
    "scrolled": true
   },
   "outputs": [
    {
     "data": {
      "text/plain": [
       "[<matplotlib.lines.Line2D at 0x21ae22ed130>]"
      ]
     },
     "execution_count": 25,
     "metadata": {},
     "output_type": "execute_result"
    },
    {
     "data": {
      "image/png": "[encoded data removed]",
      "text/plain": [
       "<Figure size 432x288 with 1 Axes>"
      ]
     },
     "metadata": {
      "needs_background": "light"
     },
     "output_type": "display_data"
    }
   ],
   "source": [
    "# Display the val_mse\n",
    "plt.plot(fit_model.history[\"val_mse\"])"
   ]
  },
  {
   "cell_type": "code",
   "execution_count": 26,
   "id": "6c8b2c72",
   "metadata": {
    "scrolled": true
   },
   "outputs": [
    {
     "data": {
      "text/plain": [
       "[<matplotlib.lines.Line2D at 0x21ae235e370>]"
      ]
     },
     "execution_count": 26,
     "metadata": {},
     "output_type": "execute_result"
    },
    {
     "data": {
      "image/png": "[encoded data removed]",
      "text/plain": [
       "<Figure size 432x288 with 1 Axes>"
      ]
     },
     "metadata": {
      "needs_background": "light"
     },
     "output_type": "display_data"
    }
   ],
   "source": [
    "# Display the val_mae\n",
    "plt.plot(fit_model.history[\"val_mae\"])"
   ]
  },
  {
   "cell_type": "code",
   "execution_count": 27,
   "id": "eee75c96",
   "metadata": {},
   "outputs": [
    {
     "data": {
      "text/plain": [
       "[<matplotlib.lines.Line2D at 0x21ae23c3c40>]"
      ]
     },
     "execution_count": 27,
     "metadata": {},
     "output_type": "execute_result"
    },
    {
     "data": {
      "image/png": "[encoded data removed]",
      "text/plain": [
       "<Figure size 432x288 with 1 Axes>"
      ]
     },
     "metadata": {
      "needs_background": "light"
     },
     "output_type": "display_data"
    }
   ],
   "source": [
    "# Display the val_mape\n",
    "plt.plot(fit_model.history[\"val_mape\"])"
   ]
  },
  {
   "cell_type": "code",
   "execution_count": 28,
   "id": "f6b16dad",
   "metadata": {
    "scrolled": true
   },
   "outputs": [
    {
     "name": "stdout",
     "output_type": "stream",
     "text": [
      "9/9 [==============================] - 0s 2ms/step\n",
      "3/3 [==============================] - 0s 3ms/step\n"
     ]
    }
   ],
   "source": [
    "# Make predictions\n",
    "trainPredict = model.predict(trainX)\n",
    "testPredict = model.predict(testX)"
   ]
  },
  {
   "cell_type": "code",
   "execution_count": 29,
   "id": "1d754fa5",
   "metadata": {},
   "outputs": [],
   "source": [
    "# Invert predictions\n",
    "trainPredict = scaler.inverse_transform(trainPredict)\n",
    "trainY = scaler.inverse_transform([trainY])\n",
    "testPredict = scaler.inverse_transform(testPredict)\n",
    "testY = scaler.inverse_transform([testY])"
   ]
  },
  {
   "cell_type": "code",
   "execution_count": 30,
   "id": "555906d6",
   "metadata": {},
   "outputs": [
    {
     "data": {
      "text/plain": [
       "('Train Score: 23.96 RMSE', 'Test Score: 19.79 RMSE')"
      ]
     },
     "execution_count": 30,
     "metadata": {},
     "output_type": "execute_result"
    }
   ],
   "source": [
    "# Calculate root mean squared error\n",
    "trainScore = math.sqrt(mean_squared_error(trainY[0], trainPredict[:,0]))\n",
    "show_trainScore = 'Train Score: %.2f RMSE' % (trainScore)\n",
    "testScore = math.sqrt(mean_squared_error(testY[0], testPredict[:,0]))\n",
    "show_testScore = 'Test Score: %.2f RMSE' % (testScore)\n",
    "\n",
    "show_trainScore, show_testScore"
   ]
  },
  {
   "cell_type": "code",
   "execution_count": 31,
   "id": "3a578b09",
   "metadata": {},
   "outputs": [
    {
     "data": {
      "image/png": "[encoded data removed]",
      "text/plain": [
       "<Figure size 432x288 with 1 Axes>"
      ]
     },
     "metadata": {
      "needs_background": "light"
     },
     "output_type": "display_data"
    }
   ],
   "source": [
    "# shift train predictions for plotting\n",
    "trainPredictPlot = np.empty_like(total)\n",
    "trainPredictPlot[:, :] = np.nan\n",
    "trainPredictPlot[look_back:len(trainPredict)+look_back, :] = trainPredict\n",
    "# shift test predictions for plotting\n",
    "testPredictPlot = np.empty_like(total)\n",
    "testPredictPlot[:, :] = np.nan\n",
    "testPredictPlot[len(trainPredict)+(look_back*2)+1:len(total)-1, :] = testPredict\n",
    "# plot baseline and predictions\n",
    "plt.plot(scaler.inverse_transform(total))\n",
    "plt.plot(trainPredictPlot)\n",
    "plt.plot(testPredictPlot)\n",
    "graph = plt.show()\n",
    "graph"
   ]
  },
  {
   "cell_type": "code",
   "execution_count": 37,
   "id": "32e31346",
   "metadata": {},
   "outputs": [],
   "source": [
    "def predict(num_prediction, model):\n",
    "    prediction_list = total[-look_back:]\n",
    "    \n",
    "    for _ in range(num_prediction):\n",
    "        x = prediction_list[-look_back:]\n",
    "        x = x.reshape((1, look_back, 1))\n",
    "        out = model.predict(x)[0][0]\n",
    "        prediction_list = np.append(prediction_list, out)\n",
    "    prediction_list = prediction_list[look_back-1:]\n",
    "        \n",
    "    return prediction_list"
   ]
  },
  {
   "cell_type": "code",
   "execution_count": 41,
   "id": "3c236eb2",
   "metadata": {},
   "outputs": [
    {
     "data": {
      "text/plain": [
       "keras.callbacks.History"
      ]
     },
     "execution_count": 41,
     "metadata": {},
     "output_type": "execute_result"
    }
   ],
   "source": [
    "type(fit_model)"
   ]
  },
  {
   "cell_type": "code",
   "execution_count": 42,
   "id": "141e4afe",
   "metadata": {
    "scrolled": true
   },
   "outputs": [
    {
     "name": "stdout",
     "output_type": "stream",
     "text": [
      "1/1 [==============================] - 0s 22ms/step\n",
      "1/1 [==============================] - 0s 21ms/step\n",
      "1/1 [==============================] - 0s 20ms/step\n",
      "1/1 [==============================] - 0s 17ms/step\n",
      "1/1 [==============================] - 0s 22ms/step\n",
      "1/1 [==============================] - 0s 21ms/step\n",
      "1/1 [==============================] - 0s 26ms/step\n",
      "1/1 [==============================] - 0s 24ms/step\n",
      "1/1 [==============================] - 0s 19ms/step\n",
      "1/1 [==============================] - 0s 20ms/step\n",
      "1/1 [==============================] - 0s 26ms/step\n",
      "1/1 [==============================] - 0s 18ms/step\n",
      "1/1 [==============================] - 0s 18ms/step\n",
      "1/1 [==============================] - 0s 21ms/step\n",
      "1/1 [==============================] - 0s 21ms/step\n",
      "1/1 [==============================] - 0s 19ms/step\n",
      "1/1 [==============================] - 0s 20ms/step\n",
      "1/1 [==============================] - 0s 20ms/step\n",
      "1/1 [==============================] - 0s 20ms/step\n",
      "1/1 [==============================] - 0s 23ms/step\n",
      "1/1 [==============================] - 0s 22ms/step\n",
      "1/1 [==============================] - 0s 20ms/step\n",
      "1/1 [==============================] - 0s 26ms/step\n",
      "1/1 [==============================] - 0s 19ms/step\n",
      "1/1 [==============================] - 0s 20ms/step\n",
      "1/1 [==============================] - 0s 18ms/step\n",
      "1/1 [==============================] - 0s 23ms/step\n",
      "1/1 [==============================] - 0s 24ms/step\n",
      "1/1 [==============================] - 0s 24ms/step\n",
      "1/1 [==============================] - 0s 20ms/step\n"
     ]
    }
   ],
   "source": [
    "forecast = predict(30, model)"
   ]
  },
  {
   "cell_type": "code",
   "execution_count": 43,
   "id": "1a8301db",
   "metadata": {
    "scrolled": false
   },
   "outputs": [
    {
     "name": "stdout",
     "output_type": "stream",
     "text": [
      "[0.23293173 0.2779191  0.30921862 0.33187312 0.34871718 0.36148292\n",
      " 0.3712946  0.3789157  0.38488305 0.38958463 0.39330688 0.39626503\n",
      " 0.39862293 0.40050685 0.40201494 0.403224   0.40419447 0.40497425\n",
      " 0.4056012  0.40610564 0.40651172 0.40683872 0.4071022  0.40731445\n",
      " 0.4074855  0.4076234  0.4077346  0.40782425 0.40789655 0.40795484\n",
      " 0.40800184]\n"
     ]
    }
   ],
   "source": [
    "print(forecast)"
   ]
  },
  {
   "cell_type": "code",
   "execution_count": 66,
   "id": "283d3205",
   "metadata": {},
   "outputs": [
    {
     "name": "stdout",
     "output_type": "stream",
     "text": [
      "[[297.     ]\n",
      " [308.20184]\n",
      " [315.99545]\n",
      " [321.63644]\n",
      " [325.8306 ]\n",
      " [329.00925]\n",
      " [331.45236]\n",
      " [333.35   ]\n",
      " [334.83588]\n",
      " [336.0066 ]\n",
      " [336.9334 ]\n",
      " [337.67   ]\n",
      " [338.25714]\n",
      " [338.72623]\n",
      " [339.10175]\n",
      " [339.40277]\n",
      " [339.64444]\n",
      " [339.8386 ]\n",
      " [339.99472]\n",
      " [340.1203 ]\n",
      " [340.22144]\n",
      " [340.30283]\n",
      " [340.36847]\n",
      " [340.4213 ]\n",
      " [340.4639 ]\n",
      " [340.49823]\n",
      " [340.52594]\n",
      " [340.54825]\n",
      " [340.56625]\n",
      " [340.58075]\n",
      " [340.59247]]\n"
     ]
    }
   ],
   "source": [
    "forecast = forecast.reshape((-1,1))\n",
    "forecast = scaler.inverse_transform(forecast)\n",
    "print(forecast)"
   ]
  },
  {
   "cell_type": "code",
   "execution_count": 73,
   "id": "ad29cbc6",
   "metadata": {},
   "outputs": [
    {
     "data": {
      "image/png": "[encoded data removed]",
      "text/plain": [
       "<Figure size 432x288 with 1 Axes>"
      ]
     },
     "metadata": {
      "needs_background": "light"
     },
     "output_type": "display_data"
    }
   ],
   "source": [
    "future_total = len(total) + len(forecast)\n",
    "\n",
    "futurePlot = np.zeros((future_total,1))\n",
    "futurePlot[:, :] = np.nan\n",
    "futurePlot[-len(forecast): ] = forecast\n",
    "\n",
    "plt.plot(scaler.inverse_transform(total))\n",
    "plt.plot(futurePlot)\n",
    "plt.show()\n",
    "# # shift train predictions for plotting\n",
    "# trainPredictPlot = np.empty_like(total)\n",
    "# trainPredictPlot[:, :] = np.nan\n",
    "# trainPredictPlot[look_back:len(trainPredict)+look_back, :] = trainPredict\n",
    "# # shift test predictions for plotting\n",
    "# testPredictPlot = np.empty_like(total)\n",
    "# testPredictPlot[:, :] = np.nan\n",
    "# testPredictPlot[len(trainPredict)+(look_back*2)+1:len(total)-1, :] = testPredict\n",
    "# # plot baseline and predictions\n",
    "# plt.plot(scaler.inverse_transform(total))\n",
    "# plt.plot(trainPredictPlot)\n",
    "# plt.plot(testPredictPlot)\n",
    "# graph = plt.show()\n",
    "# graph"
   ]
  }
 ],
 "metadata": {
  "kernelspec": {
   "display_name": "mlenv",
   "language": "python",
   "name": "mlenv"
  },
  "language_info": {
   "codemirror_mode": {
    "name": "ipython",
    "version": 3
   },
   "file_extension": ".py",
   "mimetype": "text/x-python",
   "name": "python",
   "nbconvert_exporter": "python",
   "pygments_lexer": "ipython3",
   "version": "3.9.7"
  }
 },
 "nbformat": 4,
 "nbformat_minor": 5
}
